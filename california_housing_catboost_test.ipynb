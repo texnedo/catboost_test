{
 "cells": [
  {
   "cell_type": "code",
   "execution_count": 81,
   "metadata": {},
   "outputs": [
    {
     "name": "stdout",
     "output_type": "stream",
     "text": [
      "Defaulting to user installation because normal site-packages is not writeable\n",
      "Requirement already satisfied: catboost in /usr/local/lib/python3.7/dist-packages (1.0.3)\n",
      "Requirement already satisfied: pandas>=0.24.0 in /usr/local/lib/python3.7/dist-packages (from catboost) (1.3.5)\n",
      "Requirement already satisfied: graphviz in /usr/local/lib/python3.7/dist-packages (from catboost) (0.19.1)\n",
      "Requirement already satisfied: numpy>=1.16.0 in /usr/local/lib/python3.7/dist-packages (from catboost) (1.21.5)\n",
      "Requirement already satisfied: scipy in /usr/local/lib/python3.7/dist-packages (from catboost) (1.7.3)\n",
      "Requirement already satisfied: matplotlib in /usr/local/lib/python3.7/dist-packages (from catboost) (3.5.1)\n",
      "Requirement already satisfied: plotly in /usr/local/lib/python3.7/dist-packages (from catboost) (5.5.0)\n",
      "Requirement already satisfied: six in /usr/local/lib/python3.7/dist-packages (from catboost) (1.16.0)\n",
      "Requirement already satisfied: pytz>=2017.3 in /usr/local/lib/python3.7/dist-packages (from pandas>=0.24.0->catboost) (2021.3)\n",
      "Requirement already satisfied: python-dateutil>=2.7.3 in /usr/local/lib/python3.7/dist-packages (from pandas>=0.24.0->catboost) (2.8.2)\n",
      "Requirement already satisfied: pillow>=6.2.0 in /usr/local/lib/python3.7/dist-packages (from matplotlib->catboost) (7.2.0)\n",
      "Requirement already satisfied: packaging>=20.0 in /usr/local/lib/python3.7/dist-packages (from matplotlib->catboost) (20.4)\n",
      "Requirement already satisfied: pyparsing>=2.2.1 in /usr/local/lib/python3.7/dist-packages (from matplotlib->catboost) (2.4.7)\n",
      "Requirement already satisfied: fonttools>=4.22.0 in /usr/local/lib/python3.7/dist-packages (from matplotlib->catboost) (4.28.1)\n",
      "Requirement already satisfied: kiwisolver>=1.0.1 in /usr/local/lib/python3.7/dist-packages (from matplotlib->catboost) (1.2.0)\n",
      "Requirement already satisfied: cycler>=0.10 in /usr/local/lib/python3.7/dist-packages (from matplotlib->catboost) (0.10.0)\n",
      "Requirement already satisfied: tenacity>=6.2.0 in /usr/local/lib/python3.7/dist-packages (from plotly->catboost) (7.0.0)\n",
      "Defaulting to user installation because normal site-packages is not writeable\n",
      "Requirement already satisfied: scikit-learn in /usr/local/lib/python3.7/dist-packages (1.0.2)\n",
      "Requirement already satisfied: joblib>=0.11 in /usr/local/lib/python3.7/dist-packages (from scikit-learn) (0.16.0)\n",
      "Requirement already satisfied: scipy>=1.1.0 in /usr/local/lib/python3.7/dist-packages (from scikit-learn) (1.7.3)\n",
      "Requirement already satisfied: numpy>=1.14.6 in /usr/local/lib/python3.7/dist-packages (from scikit-learn) (1.21.5)\n",
      "Requirement already satisfied: threadpoolctl>=2.0.0 in /usr/local/lib/python3.7/dist-packages (from scikit-learn) (2.1.0)\n",
      "Defaulting to user installation because normal site-packages is not writeable\n",
      "Requirement already satisfied: ipywidgets in /usr/local/lib/python3.7/dist-packages (7.6.5)\n",
      "Requirement already satisfied: widgetsnbextension~=3.5.0 in /usr/local/lib/python3.7/dist-packages (from ipywidgets) (3.5.1)\n",
      "Requirement already satisfied: jupyterlab-widgets>=1.0.0 in /usr/local/lib/python3.7/dist-packages (from ipywidgets) (1.0.0)\n",
      "Requirement already satisfied: ipython-genutils~=0.2.0 in /usr/local/lib/python3.7/dist-packages (from ipywidgets) (0.2.0)\n",
      "Requirement already satisfied: traitlets>=4.3.1 in /usr/local/lib/python3.7/dist-packages (from ipywidgets) (5.1.1)\n",
      "Requirement already satisfied: ipykernel>=4.5.1 in /usr/local/lib/python3.7/dist-packages (from ipywidgets) (6.6.1)\n",
      "Requirement already satisfied: ipython>=4.0.0 in /usr/local/lib/python3.7/dist-packages (from ipywidgets) (7.31.0)\n",
      "Requirement already satisfied: nbformat>=4.2.0 in /usr/local/lib/python3.7/dist-packages (from ipywidgets) (5.0.7)\n",
      "Requirement already satisfied: debugpy<2.0,>=1.0.0 in /usr/local/lib/python3.7/dist-packages (from ipykernel>=4.5.1->ipywidgets) (1.4.1)\n",
      "Requirement already satisfied: argcomplete>=1.12.3 in /usr/local/lib/python3.7/dist-packages (from ipykernel>=4.5.1->ipywidgets) (2.0.0)\n",
      "Requirement already satisfied: nest-asyncio in /usr/local/lib/python3.7/dist-packages (from ipykernel>=4.5.1->ipywidgets) (1.4.0)\n",
      "Requirement already satisfied: importlib-metadata<5 in /usr/local/lib/python3.7/dist-packages (from ipykernel>=4.5.1->ipywidgets) (2.0.0)\n",
      "Requirement already satisfied: matplotlib-inline<0.2.0,>=0.1.0 in /usr/local/lib/python3.7/dist-packages (from ipykernel>=4.5.1->ipywidgets) (0.1.2)\n",
      "Requirement already satisfied: tornado<7.0,>=4.2 in /usr/local/lib/python3.7/dist-packages (from ipykernel>=4.5.1->ipywidgets) (6.1)\n",
      "Requirement already satisfied: jupyter-client<8.0 in /usr/local/lib/python3.7/dist-packages (from ipykernel>=4.5.1->ipywidgets) (6.1.7)\n",
      "Requirement already satisfied: jedi>=0.16 in /usr/local/lib/python3.7/dist-packages (from ipython>=4.0.0->ipywidgets) (0.17.2)\n",
      "Requirement already satisfied: decorator in /usr/local/lib/python3.7/dist-packages (from ipython>=4.0.0->ipywidgets) (5.1.1)\n",
      "Requirement already satisfied: backcall in /usr/local/lib/python3.7/dist-packages (from ipython>=4.0.0->ipywidgets) (0.2.0)\n",
      "Requirement already satisfied: pexpect>4.3 in /usr/local/lib/python3.7/dist-packages (from ipython>=4.0.0->ipywidgets) (4.8.0)\n",
      "Requirement already satisfied: pygments in /usr/local/lib/python3.7/dist-packages (from ipython>=4.0.0->ipywidgets) (2.5.2)\n",
      "Requirement already satisfied: setuptools>=18.5 in /usr/local/lib/python3.7/dist-packages (from ipython>=4.0.0->ipywidgets) (60.5.0)\n",
      "Requirement already satisfied: prompt-toolkit!=3.0.0,!=3.0.1,<3.1.0,>=2.0.0 in /usr/local/lib/python3.7/dist-packages (from ipython>=4.0.0->ipywidgets) (3.0.7)\n",
      "Requirement already satisfied: pickleshare in /usr/local/lib/python3.7/dist-packages (from ipython>=4.0.0->ipywidgets) (0.7.5)\n",
      "Requirement already satisfied: jsonschema!=2.5.0,>=2.4 in /usr/lib/python3/dist-packages (from nbformat>=4.2.0->ipywidgets) (2.6.0)\n",
      "Requirement already satisfied: jupyter-core in /usr/local/lib/python3.7/dist-packages (from nbformat>=4.2.0->ipywidgets) (4.6.3)\n",
      "Requirement already satisfied: notebook>=4.4.1 in /usr/local/lib/python3.7/dist-packages (from widgetsnbextension~=3.5.0->ipywidgets) (6.1.4)\n",
      "Requirement already satisfied: zipp>=0.5 in /usr/local/lib/python3.7/dist-packages (from importlib-metadata<5->ipykernel>=4.5.1->ipywidgets) (3.2.0)\n",
      "Requirement already satisfied: parso<0.8.0,>=0.7.0 in /usr/local/lib/python3.7/dist-packages (from jedi>=0.16->ipython>=4.0.0->ipywidgets) (0.7.1)\n",
      "Requirement already satisfied: python-dateutil>=2.1 in /usr/local/lib/python3.7/dist-packages (from jupyter-client<8.0->ipykernel>=4.5.1->ipywidgets) (2.8.2)\n",
      "Requirement already satisfied: pyzmq>=13 in /usr/local/lib/python3.7/dist-packages (from jupyter-client<8.0->ipykernel>=4.5.1->ipywidgets) (22.3.0)\n",
      "Requirement already satisfied: argon2-cffi in /usr/local/lib/python3.7/dist-packages (from notebook>=4.4.1->widgetsnbextension~=3.5.0->ipywidgets) (20.1.0)\n",
      "Requirement already satisfied: Send2Trash in /usr/local/lib/python3.7/dist-packages (from notebook>=4.4.1->widgetsnbextension~=3.5.0->ipywidgets) (1.5.0)\n",
      "Requirement already satisfied: jinja2 in /usr/local/lib/python3.7/dist-packages (from notebook>=4.4.1->widgetsnbextension~=3.5.0->ipywidgets) (2.11.2)\n",
      "Requirement already satisfied: prometheus-client in /usr/local/lib/python3.7/dist-packages (from notebook>=4.4.1->widgetsnbextension~=3.5.0->ipywidgets) (0.8.0)\n",
      "Requirement already satisfied: terminado>=0.8.3 in /usr/local/lib/python3.7/dist-packages (from notebook>=4.4.1->widgetsnbextension~=3.5.0->ipywidgets) (0.9.1)\n",
      "Requirement already satisfied: nbconvert in /usr/local/lib/python3.7/dist-packages (from notebook>=4.4.1->widgetsnbextension~=3.5.0->ipywidgets) (6.0.6)\n",
      "Requirement already satisfied: ptyprocess>=0.5 in /usr/local/lib/python3.7/dist-packages (from pexpect>4.3->ipython>=4.0.0->ipywidgets) (0.6.0)\n",
      "Requirement already satisfied: wcwidth in /usr/local/lib/python3.7/dist-packages (from prompt-toolkit!=3.0.0,!=3.0.1,<3.1.0,>=2.0.0->ipython>=4.0.0->ipywidgets) (0.2.5)\n",
      "Requirement already satisfied: six>=1.5 in /usr/local/lib/python3.7/dist-packages (from python-dateutil>=2.1->jupyter-client<8.0->ipykernel>=4.5.1->ipywidgets) (1.16.0)\n",
      "Requirement already satisfied: cffi>=1.0.0 in /usr/local/lib/python3.7/dist-packages (from argon2-cffi->notebook>=4.4.1->widgetsnbextension~=3.5.0->ipywidgets) (1.14.3)\n",
      "Requirement already satisfied: MarkupSafe>=0.23 in /usr/local/lib/python3.7/dist-packages (from jinja2->notebook>=4.4.1->widgetsnbextension~=3.5.0->ipywidgets) (1.1.1)\n",
      "Requirement already satisfied: defusedxml in /usr/local/lib/python3.7/dist-packages (from nbconvert->notebook>=4.4.1->widgetsnbextension~=3.5.0->ipywidgets) (0.6.0)\n",
      "Requirement already satisfied: mistune<2,>=0.8.1 in /usr/local/lib/python3.7/dist-packages (from nbconvert->notebook>=4.4.1->widgetsnbextension~=3.5.0->ipywidgets) (0.8.4)\n",
      "Requirement already satisfied: entrypoints>=0.2.2 in /usr/local/lib/python3.7/dist-packages (from nbconvert->notebook>=4.4.1->widgetsnbextension~=3.5.0->ipywidgets) (0.3)\n",
      "Requirement already satisfied: nbclient<0.6.0,>=0.5.0 in /usr/local/lib/python3.7/dist-packages (from nbconvert->notebook>=4.4.1->widgetsnbextension~=3.5.0->ipywidgets) (0.5.0)\n",
      "Requirement already satisfied: bleach in /usr/local/lib/python3.7/dist-packages (from nbconvert->notebook>=4.4.1->widgetsnbextension~=3.5.0->ipywidgets) (3.2.1)\n",
      "Requirement already satisfied: testpath in /usr/local/lib/python3.7/dist-packages (from nbconvert->notebook>=4.4.1->widgetsnbextension~=3.5.0->ipywidgets) (0.4.4)\n",
      "Requirement already satisfied: pandocfilters>=1.4.1 in /usr/local/lib/python3.7/dist-packages (from nbconvert->notebook>=4.4.1->widgetsnbextension~=3.5.0->ipywidgets) (1.4.2)\n",
      "Requirement already satisfied: jupyterlab-pygments in /usr/local/lib/python3.7/dist-packages (from nbconvert->notebook>=4.4.1->widgetsnbextension~=3.5.0->ipywidgets) (0.1.1)\n",
      "Requirement already satisfied: pycparser in /usr/local/lib/python3.7/dist-packages (from cffi>=1.0.0->argon2-cffi->notebook>=4.4.1->widgetsnbextension~=3.5.0->ipywidgets) (2.20)\n",
      "Requirement already satisfied: async-generator in /usr/local/lib/python3.7/dist-packages (from nbclient<0.6.0,>=0.5.0->nbconvert->notebook>=4.4.1->widgetsnbextension~=3.5.0->ipywidgets) (1.10)\n",
      "Requirement already satisfied: webencodings in /usr/local/lib/python3.7/dist-packages (from bleach->nbconvert->notebook>=4.4.1->widgetsnbextension~=3.5.0->ipywidgets) (0.5.1)\n",
      "Requirement already satisfied: packaging in /usr/local/lib/python3.7/dist-packages (from bleach->nbconvert->notebook>=4.4.1->widgetsnbextension~=3.5.0->ipywidgets) (20.4)\n",
      "Requirement already satisfied: pyparsing>=2.0.2 in /usr/local/lib/python3.7/dist-packages (from packaging->bleach->nbconvert->notebook>=4.4.1->widgetsnbextension~=3.5.0->ipywidgets) (2.4.7)\n",
      "Enabling notebook extension jupyter-js-widgets/extension...\n",
      "      - Validating: \u001b[32mOK\u001b[0m\n"
     ]
    }
   ],
   "source": [
    "!pip install catboost\n",
    "!pip install scikit-learn\n",
    "!pip install ipywidgets\n",
    "!jupyter nbextension enable --py widgetsnbextension"
   ]
  },
  {
   "cell_type": "code",
   "execution_count": 82,
   "metadata": {
    "id": "sol1UFpa2vGO"
   },
   "outputs": [],
   "source": [
    "import pandas as pd\n",
    "import numpy as np\n",
    "from matplotlib import pyplot as plt\n",
    "import seaborn as sns"
   ]
  },
  {
   "cell_type": "code",
   "execution_count": 83,
   "metadata": {
    "colab": {
     "base_uri": "https://localhost:8080/"
    },
    "id": "nUuk9gSW6V3I",
    "outputId": "1d859d42-aed8-41be-ce10-1699abb3deba"
   },
   "outputs": [
    {
     "name": "stdout",
     "output_type": "stream",
     "text": [
      "./Data/california_housing_test.csv\n",
      "./Data/california_housing_train.csv\n"
     ]
    }
   ],
   "source": [
    "import os\n",
    "for dirname, _, filenames in os.walk('./Data/'):\n",
    "    for filename in filenames:\n",
    "        print(os.path.join(dirname, filename))\n",
    "\n",
    "df_train = pd.read_csv('./Data/california_housing_train.csv')\n",
    "df_test = pd.read_csv('./Data/california_housing_test.csv')"
   ]
  },
  {
   "cell_type": "code",
   "execution_count": 84,
   "metadata": {
    "colab": {
     "base_uri": "https://localhost:8080/",
     "height": 270
    },
    "id": "bxaXSoOP7_Z7",
    "outputId": "4360aec4-e3e7-4292-ee81-7fd3e08460bf"
   },
   "outputs": [
    {
     "data": {
      "text/html": [
       "<div>\n",
       "<style scoped>\n",
       "    .dataframe tbody tr th:only-of-type {\n",
       "        vertical-align: middle;\n",
       "    }\n",
       "\n",
       "    .dataframe tbody tr th {\n",
       "        vertical-align: top;\n",
       "    }\n",
       "\n",
       "    .dataframe thead th {\n",
       "        text-align: right;\n",
       "    }\n",
       "</style>\n",
       "<table border=\"1\" class=\"dataframe\">\n",
       "  <thead>\n",
       "    <tr style=\"text-align: right;\">\n",
       "      <th></th>\n",
       "      <th>longitude</th>\n",
       "      <th>latitude</th>\n",
       "      <th>housing_median_age</th>\n",
       "      <th>total_rooms</th>\n",
       "      <th>total_bedrooms</th>\n",
       "      <th>population</th>\n",
       "      <th>households</th>\n",
       "      <th>median_income</th>\n",
       "      <th>median_house_value</th>\n",
       "    </tr>\n",
       "  </thead>\n",
       "  <tbody>\n",
       "    <tr>\n",
       "      <th>0</th>\n",
       "      <td>-114.31</td>\n",
       "      <td>34.19</td>\n",
       "      <td>15.0</td>\n",
       "      <td>5612.0</td>\n",
       "      <td>1283.0</td>\n",
       "      <td>1015.0</td>\n",
       "      <td>472.0</td>\n",
       "      <td>1.4936</td>\n",
       "      <td>66900.0</td>\n",
       "    </tr>\n",
       "    <tr>\n",
       "      <th>1</th>\n",
       "      <td>-114.47</td>\n",
       "      <td>34.40</td>\n",
       "      <td>19.0</td>\n",
       "      <td>7650.0</td>\n",
       "      <td>1901.0</td>\n",
       "      <td>1129.0</td>\n",
       "      <td>463.0</td>\n",
       "      <td>1.8200</td>\n",
       "      <td>80100.0</td>\n",
       "    </tr>\n",
       "    <tr>\n",
       "      <th>2</th>\n",
       "      <td>-114.56</td>\n",
       "      <td>33.69</td>\n",
       "      <td>17.0</td>\n",
       "      <td>720.0</td>\n",
       "      <td>174.0</td>\n",
       "      <td>333.0</td>\n",
       "      <td>117.0</td>\n",
       "      <td>1.6509</td>\n",
       "      <td>85700.0</td>\n",
       "    </tr>\n",
       "    <tr>\n",
       "      <th>3</th>\n",
       "      <td>-114.57</td>\n",
       "      <td>33.64</td>\n",
       "      <td>14.0</td>\n",
       "      <td>1501.0</td>\n",
       "      <td>337.0</td>\n",
       "      <td>515.0</td>\n",
       "      <td>226.0</td>\n",
       "      <td>3.1917</td>\n",
       "      <td>73400.0</td>\n",
       "    </tr>\n",
       "    <tr>\n",
       "      <th>4</th>\n",
       "      <td>-114.57</td>\n",
       "      <td>33.57</td>\n",
       "      <td>20.0</td>\n",
       "      <td>1454.0</td>\n",
       "      <td>326.0</td>\n",
       "      <td>624.0</td>\n",
       "      <td>262.0</td>\n",
       "      <td>1.9250</td>\n",
       "      <td>65500.0</td>\n",
       "    </tr>\n",
       "  </tbody>\n",
       "</table>\n",
       "</div>"
      ],
      "text/plain": [
       "   longitude  latitude  housing_median_age  total_rooms  total_bedrooms  \\\n",
       "0    -114.31     34.19                15.0       5612.0          1283.0   \n",
       "1    -114.47     34.40                19.0       7650.0          1901.0   \n",
       "2    -114.56     33.69                17.0        720.0           174.0   \n",
       "3    -114.57     33.64                14.0       1501.0           337.0   \n",
       "4    -114.57     33.57                20.0       1454.0           326.0   \n",
       "\n",
       "   population  households  median_income  median_house_value  \n",
       "0      1015.0       472.0         1.4936             66900.0  \n",
       "1      1129.0       463.0         1.8200             80100.0  \n",
       "2       333.0       117.0         1.6509             85700.0  \n",
       "3       515.0       226.0         3.1917             73400.0  \n",
       "4       624.0       262.0         1.9250             65500.0  "
      ]
     },
     "execution_count": 84,
     "metadata": {},
     "output_type": "execute_result"
    }
   ],
   "source": [
    "df_train.head()"
   ]
  },
  {
   "cell_type": "code",
   "execution_count": 85,
   "metadata": {
    "colab": {
     "base_uri": "https://localhost:8080/"
    },
    "id": "BBSxRVU--Hir",
    "outputId": "5e3c3121-370e-4b0c-eb99-cef8771165da"
   },
   "outputs": [
    {
     "data": {
      "text/plain": [
       "Index(['longitude', 'latitude', 'housing_median_age', 'total_rooms',\n",
       "       'total_bedrooms', 'population', 'households', 'median_income',\n",
       "       'median_house_value'],\n",
       "      dtype='object')"
      ]
     },
     "execution_count": 85,
     "metadata": {},
     "output_type": "execute_result"
    }
   ],
   "source": [
    "df_train.columns"
   ]
  },
  {
   "cell_type": "code",
   "execution_count": 86,
   "metadata": {
    "colab": {
     "base_uri": "https://localhost:8080/"
    },
    "id": "K2LpDnZI-NfV",
    "outputId": "1024feea-3f34-49c1-be4d-4a5bf55550ce"
   },
   "outputs": [
    {
     "data": {
      "text/plain": [
       "Index(['longitude', 'latitude', 'housing_median_age', 'total_rooms',\n",
       "       'total_bedrooms', 'population', 'households', 'median_income',\n",
       "       'median_house_value'],\n",
       "      dtype='object')"
      ]
     },
     "execution_count": 86,
     "metadata": {},
     "output_type": "execute_result"
    }
   ],
   "source": [
    "df_test.columns"
   ]
  },
  {
   "cell_type": "code",
   "execution_count": 87,
   "metadata": {
    "colab": {
     "base_uri": "https://localhost:8080/"
    },
    "id": "ZR5BV4LR8MP7",
    "outputId": "10b2b19e-7e26-48be-803c-0841d052e7ec"
   },
   "outputs": [
    {
     "data": {
      "text/plain": [
       "longitude             0\n",
       "latitude              0\n",
       "housing_median_age    0\n",
       "total_rooms           0\n",
       "total_bedrooms        0\n",
       "population            0\n",
       "households            0\n",
       "median_income         0\n",
       "median_house_value    0\n",
       "dtype: int64"
      ]
     },
     "execution_count": 87,
     "metadata": {},
     "output_type": "execute_result"
    }
   ],
   "source": [
    "df_train.isnull().sum(axis=0)"
   ]
  },
  {
   "cell_type": "code",
   "execution_count": 88,
   "metadata": {
    "colab": {
     "base_uri": "https://localhost:8080/"
    },
    "id": "ynZzEg2B8cNM",
    "outputId": "2fcc643c-13a2-4eab-9e3c-f66e8dbec6ee"
   },
   "outputs": [
    {
     "data": {
      "text/plain": [
       "28.58935294117647"
      ]
     },
     "execution_count": 88,
     "metadata": {},
     "output_type": "execute_result"
    }
   ],
   "source": [
    "df_train.housing_median_age.mean()"
   ]
  },
  {
   "cell_type": "code",
   "execution_count": 89,
   "metadata": {
    "colab": {
     "base_uri": "https://localhost:8080/",
     "height": 282
    },
    "id": "nd4cTPuI8i42",
    "outputId": "dbe7a424-a437-404a-ba15-99eaba6fde15"
   },
   "outputs": [
    {
     "data": {
      "text/plain": [
       "<AxesSubplot:>"
      ]
     },
     "execution_count": 89,
     "metadata": {},
     "output_type": "execute_result"
    },
    {
     "data": {
      "image/png": "[encoded data removed]",
      "text/plain": [
       "<Figure size 432x288 with 1 Axes>"
      ]
     },
     "metadata": {
      "needs_background": "light"
     },
     "output_type": "display_data"
    }
   ],
   "source": [
    "df_train.housing_median_age.hist()"
   ]
  },
  {
   "cell_type": "code",
   "execution_count": 90,
   "metadata": {
    "colab": {
     "base_uri": "https://localhost:8080/"
    },
    "id": "1LO7RAoD8rIt",
    "outputId": "99f7721e-3ba2-48a1-8d42-67446769d85d"
   },
   "outputs": [
    {
     "data": {
      "text/plain": [
       "17000"
      ]
     },
     "execution_count": 90,
     "metadata": {},
     "output_type": "execute_result"
    }
   ],
   "source": [
    "df_train.housing_median_age.count()"
   ]
  },
  {
   "cell_type": "code",
   "execution_count": 91,
   "metadata": {
    "colab": {
     "base_uri": "https://localhost:8080/"
    },
    "id": "TcvfBO3j833z",
    "outputId": "da8da4e5-e2a3-47e6-eb66-c0825787266b"
   },
   "outputs": [
    {
     "data": {
      "text/plain": [
       "longitude             17000\n",
       "latitude              17000\n",
       "housing_median_age    17000\n",
       "total_rooms           17000\n",
       "total_bedrooms        17000\n",
       "population            17000\n",
       "households            17000\n",
       "median_income         17000\n",
       "median_house_value    17000\n",
       "dtype: int64"
      ]
     },
     "execution_count": 91,
     "metadata": {},
     "output_type": "execute_result"
    }
   ],
   "source": [
    "df_train.count()"
   ]
  },
  {
   "cell_type": "code",
   "execution_count": 92,
   "metadata": {
    "colab": {
     "base_uri": "https://localhost:8080/"
    },
    "id": "R-nRAVAQ9TLq",
    "outputId": "0825332b-e629-4635-e431-9e5067fe1bb0"
   },
   "outputs": [
    {
     "data": {
      "text/plain": [
       "1582.0     16\n",
       "1527.0     15\n",
       "1717.0     14\n",
       "1703.0     14\n",
       "1471.0     14\n",
       "           ..\n",
       "5896.0      1\n",
       "11275.0     1\n",
       "10626.0     1\n",
       "151.0       1\n",
       "2694.0      1\n",
       "Name: total_rooms, Length: 5533, dtype: int64"
      ]
     },
     "execution_count": 92,
     "metadata": {},
     "output_type": "execute_result"
    }
   ],
   "source": [
    "df_train.total_rooms.value_counts()"
   ]
  },
  {
   "cell_type": "code",
   "execution_count": 93,
   "metadata": {
    "colab": {
     "base_uri": "https://localhost:8080/"
    },
    "id": "AdKDcSsX9dlq",
    "outputId": "e061b2f6-fea1-4384-8c7c-cc7a344ee671"
   },
   "outputs": [
    {
     "data": {
      "text/plain": [
       "0    5612.0\n",
       "1    7650.0\n",
       "2     720.0\n",
       "3    1501.0\n",
       "4    1454.0\n",
       "Name: total_rooms, dtype: float64"
      ]
     },
     "execution_count": 93,
     "metadata": {},
     "output_type": "execute_result"
    }
   ],
   "source": [
    "df_train.total_rooms.head()"
   ]
  },
  {
   "cell_type": "code",
   "execution_count": 94,
   "metadata": {
    "colab": {
     "base_uri": "https://localhost:8080/",
     "height": 365
    },
    "id": "eFFEvuJ1_s7g",
    "outputId": "60a21c88-0c50-4f2c-8704-a1cf53f5a85f"
   },
   "outputs": [
    {
     "data": {
      "image/png": "[encoded data removed]",
      "text/plain": [
       "<Figure size 432x288 with 2 Axes>"
      ]
     },
     "metadata": {
      "needs_background": "light"
     },
     "output_type": "display_data"
    }
   ],
   "source": [
    "corr_matrix = df_train.corr()\n",
    "sns.heatmap(corr_matrix);"
   ]
  },
  {
   "cell_type": "code",
   "execution_count": 95,
   "metadata": {
    "colab": {
     "base_uri": "https://localhost:8080/",
     "height": 396
    },
    "id": "bQYw_R3oBKye",
    "outputId": "37ac11a1-2c6b-45e2-f51a-561407c65438"
   },
   "outputs": [
    {
     "data": {
      "text/html": [
       "<div>\n",
       "<style scoped>\n",
       "    .dataframe tbody tr th:only-of-type {\n",
       "        vertical-align: middle;\n",
       "    }\n",
       "\n",
       "    .dataframe tbody tr th {\n",
       "        vertical-align: top;\n",
       "    }\n",
       "\n",
       "    .dataframe thead th {\n",
       "        text-align: right;\n",
       "    }\n",
       "</style>\n",
       "<table border=\"1\" class=\"dataframe\">\n",
       "  <thead>\n",
       "    <tr style=\"text-align: right;\">\n",
       "      <th></th>\n",
       "      <th>longitude</th>\n",
       "      <th>latitude</th>\n",
       "      <th>housing_median_age</th>\n",
       "      <th>total_rooms</th>\n",
       "      <th>total_bedrooms</th>\n",
       "      <th>population</th>\n",
       "      <th>households</th>\n",
       "      <th>median_income</th>\n",
       "      <th>median_house_value</th>\n",
       "    </tr>\n",
       "  </thead>\n",
       "  <tbody>\n",
       "    <tr>\n",
       "      <th>longitude</th>\n",
       "      <td>1.000000</td>\n",
       "      <td>-0.925208</td>\n",
       "      <td>-0.114250</td>\n",
       "      <td>0.047010</td>\n",
       "      <td>0.071802</td>\n",
       "      <td>0.101674</td>\n",
       "      <td>0.059628</td>\n",
       "      <td>-0.015485</td>\n",
       "      <td>-0.044982</td>\n",
       "    </tr>\n",
       "    <tr>\n",
       "      <th>latitude</th>\n",
       "      <td>-0.925208</td>\n",
       "      <td>1.000000</td>\n",
       "      <td>0.016454</td>\n",
       "      <td>-0.038773</td>\n",
       "      <td>-0.069373</td>\n",
       "      <td>-0.111261</td>\n",
       "      <td>-0.074902</td>\n",
       "      <td>-0.080303</td>\n",
       "      <td>-0.144917</td>\n",
       "    </tr>\n",
       "    <tr>\n",
       "      <th>housing_median_age</th>\n",
       "      <td>-0.114250</td>\n",
       "      <td>0.016454</td>\n",
       "      <td>1.000000</td>\n",
       "      <td>-0.360984</td>\n",
       "      <td>-0.320434</td>\n",
       "      <td>-0.295890</td>\n",
       "      <td>-0.302754</td>\n",
       "      <td>-0.115932</td>\n",
       "      <td>0.106758</td>\n",
       "    </tr>\n",
       "    <tr>\n",
       "      <th>total_rooms</th>\n",
       "      <td>0.047010</td>\n",
       "      <td>-0.038773</td>\n",
       "      <td>-0.360984</td>\n",
       "      <td>1.000000</td>\n",
       "      <td>0.928403</td>\n",
       "      <td>0.860170</td>\n",
       "      <td>0.919018</td>\n",
       "      <td>0.195383</td>\n",
       "      <td>0.130991</td>\n",
       "    </tr>\n",
       "    <tr>\n",
       "      <th>total_bedrooms</th>\n",
       "      <td>0.071802</td>\n",
       "      <td>-0.069373</td>\n",
       "      <td>-0.320434</td>\n",
       "      <td>0.928403</td>\n",
       "      <td>1.000000</td>\n",
       "      <td>0.881169</td>\n",
       "      <td>0.980920</td>\n",
       "      <td>-0.013495</td>\n",
       "      <td>0.045783</td>\n",
       "    </tr>\n",
       "    <tr>\n",
       "      <th>population</th>\n",
       "      <td>0.101674</td>\n",
       "      <td>-0.111261</td>\n",
       "      <td>-0.295890</td>\n",
       "      <td>0.860170</td>\n",
       "      <td>0.881169</td>\n",
       "      <td>1.000000</td>\n",
       "      <td>0.909247</td>\n",
       "      <td>-0.000638</td>\n",
       "      <td>-0.027850</td>\n",
       "    </tr>\n",
       "    <tr>\n",
       "      <th>households</th>\n",
       "      <td>0.059628</td>\n",
       "      <td>-0.074902</td>\n",
       "      <td>-0.302754</td>\n",
       "      <td>0.919018</td>\n",
       "      <td>0.980920</td>\n",
       "      <td>0.909247</td>\n",
       "      <td>1.000000</td>\n",
       "      <td>0.007644</td>\n",
       "      <td>0.061031</td>\n",
       "    </tr>\n",
       "    <tr>\n",
       "      <th>median_income</th>\n",
       "      <td>-0.015485</td>\n",
       "      <td>-0.080303</td>\n",
       "      <td>-0.115932</td>\n",
       "      <td>0.195383</td>\n",
       "      <td>-0.013495</td>\n",
       "      <td>-0.000638</td>\n",
       "      <td>0.007644</td>\n",
       "      <td>1.000000</td>\n",
       "      <td>0.691871</td>\n",
       "    </tr>\n",
       "    <tr>\n",
       "      <th>median_house_value</th>\n",
       "      <td>-0.044982</td>\n",
       "      <td>-0.144917</td>\n",
       "      <td>0.106758</td>\n",
       "      <td>0.130991</td>\n",
       "      <td>0.045783</td>\n",
       "      <td>-0.027850</td>\n",
       "      <td>0.061031</td>\n",
       "      <td>0.691871</td>\n",
       "      <td>1.000000</td>\n",
       "    </tr>\n",
       "  </tbody>\n",
       "</table>\n",
       "</div>"
      ],
      "text/plain": [
       "                    longitude  latitude  housing_median_age  total_rooms  \\\n",
       "longitude            1.000000 -0.925208           -0.114250     0.047010   \n",
       "latitude            -0.925208  1.000000            0.016454    -0.038773   \n",
       "housing_median_age  -0.114250  0.016454            1.000000    -0.360984   \n",
       "total_rooms          0.047010 -0.038773           -0.360984     1.000000   \n",
       "total_bedrooms       0.071802 -0.069373           -0.320434     0.928403   \n",
       "population           0.101674 -0.111261           -0.295890     0.860170   \n",
       "households           0.059628 -0.074902           -0.302754     0.919018   \n",
       "median_income       -0.015485 -0.080303           -0.115932     0.195383   \n",
       "median_house_value  -0.044982 -0.144917            0.106758     0.130991   \n",
       "\n",
       "                    total_bedrooms  population  households  median_income  \\\n",
       "longitude                 0.071802    0.101674    0.059628      -0.015485   \n",
       "latitude                 -0.069373   -0.111261   -0.074902      -0.080303   \n",
       "housing_median_age       -0.320434   -0.295890   -0.302754      -0.115932   \n",
       "total_rooms               0.928403    0.860170    0.919018       0.195383   \n",
       "total_bedrooms            1.000000    0.881169    0.980920      -0.013495   \n",
       "population                0.881169    1.000000    0.909247      -0.000638   \n",
       "households                0.980920    0.909247    1.000000       0.007644   \n",
       "median_income            -0.013495   -0.000638    0.007644       1.000000   \n",
       "median_house_value        0.045783   -0.027850    0.061031       0.691871   \n",
       "\n",
       "                    median_house_value  \n",
       "longitude                    -0.044982  \n",
       "latitude                     -0.144917  \n",
       "housing_median_age            0.106758  \n",
       "total_rooms                   0.130991  \n",
       "total_bedrooms                0.045783  \n",
       "population                   -0.027850  \n",
       "households                    0.061031  \n",
       "median_income                 0.691871  \n",
       "median_house_value            1.000000  "
      ]
     },
     "execution_count": 95,
     "metadata": {},
     "output_type": "execute_result"
    }
   ],
   "source": [
    "df_train.corr()"
   ]
  },
  {
   "cell_type": "code",
   "execution_count": 96,
   "metadata": {
    "id": "2ucecw7UqAgG"
   },
   "outputs": [],
   "source": [
    "df_train_target = df_train['median_house_value']"
   ]
  },
  {
   "cell_type": "code",
   "execution_count": 97,
   "metadata": {
    "colab": {
     "base_uri": "https://localhost:8080/",
     "height": 364
    },
    "id": "xZB3rAynrIiS",
    "outputId": "49e0ea57-4ea4-4477-a626-a62271a8835e"
   },
   "outputs": [
    {
     "data": {
      "text/html": [
       "<div>\n",
       "<style scoped>\n",
       "    .dataframe tbody tr th:only-of-type {\n",
       "        vertical-align: middle;\n",
       "    }\n",
       "\n",
       "    .dataframe tbody tr th {\n",
       "        vertical-align: top;\n",
       "    }\n",
       "\n",
       "    .dataframe thead th {\n",
       "        text-align: right;\n",
       "    }\n",
       "</style>\n",
       "<table border=\"1\" class=\"dataframe\">\n",
       "  <thead>\n",
       "    <tr style=\"text-align: right;\">\n",
       "      <th></th>\n",
       "      <th>longitude</th>\n",
       "      <th>latitude</th>\n",
       "      <th>housing_median_age</th>\n",
       "      <th>total_rooms</th>\n",
       "      <th>total_bedrooms</th>\n",
       "      <th>population</th>\n",
       "      <th>households</th>\n",
       "      <th>median_income</th>\n",
       "    </tr>\n",
       "  </thead>\n",
       "  <tbody>\n",
       "    <tr>\n",
       "      <th>count</th>\n",
       "      <td>17000.000000</td>\n",
       "      <td>17000.000000</td>\n",
       "      <td>17000.000000</td>\n",
       "      <td>17000.000000</td>\n",
       "      <td>17000.000000</td>\n",
       "      <td>17000.000000</td>\n",
       "      <td>17000.000000</td>\n",
       "      <td>17000.000000</td>\n",
       "    </tr>\n",
       "    <tr>\n",
       "      <th>mean</th>\n",
       "      <td>-119.562108</td>\n",
       "      <td>35.625225</td>\n",
       "      <td>28.589353</td>\n",
       "      <td>2643.664412</td>\n",
       "      <td>539.410824</td>\n",
       "      <td>1429.573941</td>\n",
       "      <td>501.221941</td>\n",
       "      <td>3.883578</td>\n",
       "    </tr>\n",
       "    <tr>\n",
       "      <th>std</th>\n",
       "      <td>2.005166</td>\n",
       "      <td>2.137340</td>\n",
       "      <td>12.586937</td>\n",
       "      <td>2179.947071</td>\n",
       "      <td>421.499452</td>\n",
       "      <td>1147.852959</td>\n",
       "      <td>384.520841</td>\n",
       "      <td>1.908157</td>\n",
       "    </tr>\n",
       "    <tr>\n",
       "      <th>min</th>\n",
       "      <td>-124.350000</td>\n",
       "      <td>32.540000</td>\n",
       "      <td>1.000000</td>\n",
       "      <td>2.000000</td>\n",
       "      <td>1.000000</td>\n",
       "      <td>3.000000</td>\n",
       "      <td>1.000000</td>\n",
       "      <td>0.499900</td>\n",
       "    </tr>\n",
       "    <tr>\n",
       "      <th>25%</th>\n",
       "      <td>-121.790000</td>\n",
       "      <td>33.930000</td>\n",
       "      <td>18.000000</td>\n",
       "      <td>1462.000000</td>\n",
       "      <td>297.000000</td>\n",
       "      <td>790.000000</td>\n",
       "      <td>282.000000</td>\n",
       "      <td>2.566375</td>\n",
       "    </tr>\n",
       "    <tr>\n",
       "      <th>50%</th>\n",
       "      <td>-118.490000</td>\n",
       "      <td>34.250000</td>\n",
       "      <td>29.000000</td>\n",
       "      <td>2127.000000</td>\n",
       "      <td>434.000000</td>\n",
       "      <td>1167.000000</td>\n",
       "      <td>409.000000</td>\n",
       "      <td>3.544600</td>\n",
       "    </tr>\n",
       "    <tr>\n",
       "      <th>75%</th>\n",
       "      <td>-118.000000</td>\n",
       "      <td>37.720000</td>\n",
       "      <td>37.000000</td>\n",
       "      <td>3151.250000</td>\n",
       "      <td>648.250000</td>\n",
       "      <td>1721.000000</td>\n",
       "      <td>605.250000</td>\n",
       "      <td>4.767000</td>\n",
       "    </tr>\n",
       "    <tr>\n",
       "      <th>max</th>\n",
       "      <td>-114.310000</td>\n",
       "      <td>41.950000</td>\n",
       "      <td>52.000000</td>\n",
       "      <td>37937.000000</td>\n",
       "      <td>6445.000000</td>\n",
       "      <td>35682.000000</td>\n",
       "      <td>6082.000000</td>\n",
       "      <td>15.000100</td>\n",
       "    </tr>\n",
       "  </tbody>\n",
       "</table>\n",
       "</div>"
      ],
      "text/plain": [
       "          longitude      latitude  housing_median_age   total_rooms  \\\n",
       "count  17000.000000  17000.000000        17000.000000  17000.000000   \n",
       "mean    -119.562108     35.625225           28.589353   2643.664412   \n",
       "std        2.005166      2.137340           12.586937   2179.947071   \n",
       "min     -124.350000     32.540000            1.000000      2.000000   \n",
       "25%     -121.790000     33.930000           18.000000   1462.000000   \n",
       "50%     -118.490000     34.250000           29.000000   2127.000000   \n",
       "75%     -118.000000     37.720000           37.000000   3151.250000   \n",
       "max     -114.310000     41.950000           52.000000  37937.000000   \n",
       "\n",
       "       total_bedrooms    population    households  median_income  \n",
       "count    17000.000000  17000.000000  17000.000000   17000.000000  \n",
       "mean       539.410824   1429.573941    501.221941       3.883578  \n",
       "std        421.499452   1147.852959    384.520841       1.908157  \n",
       "min          1.000000      3.000000      1.000000       0.499900  \n",
       "25%        297.000000    790.000000    282.000000       2.566375  \n",
       "50%        434.000000   1167.000000    409.000000       3.544600  \n",
       "75%        648.250000   1721.000000    605.250000       4.767000  \n",
       "max       6445.000000  35682.000000   6082.000000      15.000100  "
      ]
     },
     "execution_count": 97,
     "metadata": {},
     "output_type": "execute_result"
    }
   ],
   "source": [
    "df_train.drop('median_house_value', inplace=True, axis=1)\n",
    "df_train.describe()"
   ]
  },
  {
   "cell_type": "code",
   "execution_count": 98,
   "metadata": {
    "colab": {
     "base_uri": "https://localhost:8080/"
    },
    "id": "lm0B4iSarxHr",
    "outputId": "4ee5fd1e-5b92-42df-edff-c32af9f89312"
   },
   "outputs": [
    {
     "data": {
      "text/plain": [
       "(17000,)"
      ]
     },
     "execution_count": 98,
     "metadata": {},
     "output_type": "execute_result"
    }
   ],
   "source": [
    "df_train_target.shape"
   ]
  },
  {
   "cell_type": "code",
   "execution_count": 99,
   "metadata": {
    "colab": {
     "base_uri": "https://localhost:8080/"
    },
    "id": "FrnTE5qmrzjF",
    "outputId": "30d5bcd9-21da-4281-bb57-a98d16ce7cb3"
   },
   "outputs": [
    {
     "data": {
      "text/plain": [
       "0    66900.0\n",
       "1    80100.0\n",
       "2    85700.0\n",
       "3    73400.0\n",
       "4    65500.0\n",
       "Name: median_house_value, dtype: float64"
      ]
     },
     "execution_count": 99,
     "metadata": {},
     "output_type": "execute_result"
    }
   ],
   "source": [
    "df_train_target.head()"
   ]
  },
  {
   "cell_type": "code",
   "execution_count": 100,
   "metadata": {
    "colab": {
     "base_uri": "https://localhost:8080/",
     "height": 284
    },
    "id": "aiEAAWSer39I",
    "outputId": "5b5f2028-97bb-459e-9fcf-085cff0beb81"
   },
   "outputs": [
    {
     "data": {
      "text/plain": [
       "<AxesSubplot:>"
      ]
     },
     "execution_count": 100,
     "metadata": {},
     "output_type": "execute_result"
    },
    {
     "data": {
      "image/png": "[encoded data removed]",
      "text/plain": [
       "<Figure size 432x288 with 1 Axes>"
      ]
     },
     "metadata": {
      "needs_background": "light"
     },
     "output_type": "display_data"
    }
   ],
   "source": [
    "df_train_target.hist()"
   ]
  },
  {
   "cell_type": "code",
   "execution_count": 101,
   "metadata": {
    "id": "9VdPtidSBcCu"
   },
   "outputs": [],
   "source": [
    "from sklearn.linear_model import LinearRegression"
   ]
  },
  {
   "cell_type": "code",
   "execution_count": 102,
   "metadata": {
    "colab": {
     "base_uri": "https://localhost:8080/"
    },
    "id": "Zb02T42Fp8h0",
    "outputId": "12ca76b3-9533-4cb6-95a3-dbac7cf68bd3"
   },
   "outputs": [
    {
     "data": {
      "text/plain": [
       "0.6413378529502689"
      ]
     },
     "execution_count": 102,
     "metadata": {},
     "output_type": "execute_result"
    }
   ],
   "source": [
    "reg = LinearRegression().fit(df_train, df_train_target)\n",
    "reg.score(df_train, df_train_target)"
   ]
  },
  {
   "cell_type": "code",
   "execution_count": 103,
   "metadata": {
    "id": "8msdqfcmtLQM"
   },
   "outputs": [],
   "source": [
    "df_test_target = df_test['median_house_value']\n",
    "df_test.drop('median_house_value', inplace=True, axis=1)"
   ]
  },
  {
   "cell_type": "code",
   "execution_count": 104,
   "metadata": {
    "colab": {
     "base_uri": "https://localhost:8080/"
    },
    "id": "-R5grku-tYv5",
    "outputId": "ef84d119-e070-42c3-84f3-6f78d5b897db"
   },
   "outputs": [
    {
     "data": {
      "text/plain": [
       "0.6195057678311935"
      ]
     },
     "execution_count": 104,
     "metadata": {},
     "output_type": "execute_result"
    }
   ],
   "source": [
    "reg.score(df_test, df_test_target)"
   ]
  },
  {
   "cell_type": "code",
   "execution_count": 105,
   "metadata": {
    "id": "I7rCc1tstmmZ"
   },
   "outputs": [],
   "source": [
    "df_train_pred = reg.predict(df_train)"
   ]
  },
  {
   "cell_type": "code",
   "execution_count": 106,
   "metadata": {
    "colab": {
     "base_uri": "https://localhost:8080/",
     "height": 336
    },
    "id": "3Rot9XS4ttb6",
    "outputId": "22c0459d-d6aa-4059-d7dc-485afa0073af"
   },
   "outputs": [
    {
     "data": {
      "text/plain": [
       "array([[<AxesSubplot:title={'center':'0'}>]], dtype=object)"
      ]
     },
     "execution_count": 106,
     "metadata": {},
     "output_type": "execute_result"
    },
    {
     "data": {
      "image/png": "[encoded data removed]",
      "text/plain": [
       "<Figure size 432x288 with 1 Axes>"
      ]
     },
     "metadata": {
      "needs_background": "light"
     },
     "output_type": "display_data"
    }
   ],
   "source": [
    "pd.DataFrame(df_train_pred).hist()"
   ]
  },
  {
   "cell_type": "code",
   "execution_count": 107,
   "metadata": {
    "colab": {
     "base_uri": "https://localhost:8080/"
    },
    "id": "ZUX6dhp1vg0Z",
    "outputId": "922e4aaf-54f5-4051-f753-8fb46a7dcf58"
   },
   "outputs": [
    {
     "name": "stdout",
     "output_type": "stream",
     "text": [
      "longitude             float64\n",
      "latitude              float64\n",
      "housing_median_age    float64\n",
      "total_rooms           float64\n",
      "total_bedrooms        float64\n",
      "population            float64\n",
      "households            float64\n",
      "median_income         float64\n",
      "dtype: object\n"
     ]
    }
   ],
   "source": [
    "print(df_train.dtypes)"
   ]
  },
  {
   "cell_type": "code",
   "execution_count": 108,
   "metadata": {
    "colab": {
     "base_uri": "https://localhost:8080/"
    },
    "id": "l_Vgfyr3vmKe",
    "outputId": "01227fe5-609f-49be-d67c-be6b9da6a0dd"
   },
   "outputs": [
    {
     "name": "stdout",
     "output_type": "stream",
     "text": [
      "float64\n"
     ]
    }
   ],
   "source": [
    "print(df_train_target.dtypes)"
   ]
  },
  {
   "cell_type": "code",
   "execution_count": 109,
   "metadata": {
    "id": "ImtGZ1VquSaw"
   },
   "outputs": [],
   "source": [
    "from catboost import CatBoostRegressor, Pool, metrics, cv\n",
    "from sklearn.metrics import accuracy_score"
   ]
  },
  {
   "cell_type": "code",
   "execution_count": 111,
   "metadata": {
    "colab": {
     "base_uri": "https://localhost:8080/"
    },
    "id": "q2NY_iITyxi7",
    "outputId": "20313552-96b5-473a-8981-a84429bd8db4"
   },
   "outputs": [
    {
     "name": "stdout",
     "output_type": "stream",
     "text": [
      "longitude             float32\n",
      "latitude              float32\n",
      "housing_median_age    float32\n",
      "total_rooms           float32\n",
      "total_bedrooms        float32\n",
      "population            float32\n",
      "households            float32\n",
      "median_income         float32\n",
      "dtype: object\n",
      "float32\n"
     ]
    }
   ],
   "source": [
    "df_train_f = df_train.apply(pd.to_numeric, downcast='float')\n",
    "df_train_target_f = pd.to_numeric(df_train_target, downcast='float')\n",
    "\n",
    "print(df_train_f.dtypes)\n",
    "print(df_train_target_f.dtypes)"
   ]
  },
  {
   "cell_type": "code",
   "execution_count": 112,
   "metadata": {},
   "outputs": [
    {
     "name": "stdout",
     "output_type": "stream",
     "text": [
      "longitude             float64\n",
      "latitude              float64\n",
      "housing_median_age    float64\n",
      "total_rooms           float64\n",
      "total_bedrooms        float64\n",
      "population            float64\n",
      "households            float64\n",
      "median_income         float64\n",
      "dtype: object\n",
      "float64\n"
     ]
    }
   ],
   "source": [
    "print(df_test.dtypes)\n",
    "print(df_test_target.dtypes)"
   ]
  },
  {
   "cell_type": "code",
   "execution_count": 113,
   "metadata": {},
   "outputs": [],
   "source": [
    "df_test_f = df_test.apply(pd.to_numeric, downcast='float')\n",
    "df_test_target_f = pd.to_numeric(df_test_target, downcast='float')"
   ]
  },
  {
   "cell_type": "code",
   "execution_count": 114,
   "metadata": {},
   "outputs": [
    {
     "data": {
      "text/plain": [
       "0    66900.0\n",
       "1    80100.0\n",
       "2    85700.0\n",
       "3    73400.0\n",
       "4    65500.0\n",
       "Name: median_house_value, dtype: float32"
      ]
     },
     "execution_count": 114,
     "metadata": {},
     "output_type": "execute_result"
    }
   ],
   "source": [
    "df_train_target_f.head()"
   ]
  },
  {
   "cell_type": "code",
   "execution_count": 115,
   "metadata": {},
   "outputs": [
    {
     "name": "stdout",
     "output_type": "stream",
     "text": [
      "[]\n"
     ]
    }
   ],
   "source": [
    "print(np.where(df_train.dtypes != float)[0])"
   ]
  },
  {
   "cell_type": "code",
   "execution_count": 116,
   "metadata": {},
   "outputs": [],
   "source": [
    "categorical_features_indices = np.where(df_train.dtypes != float)[0]"
   ]
  },
  {
   "cell_type": "code",
   "execution_count": 117,
   "metadata": {},
   "outputs": [
    {
     "data": {
      "text/plain": [
       "(17000,)"
      ]
     },
     "execution_count": 117,
     "metadata": {},
     "output_type": "execute_result"
    }
   ],
   "source": [
    "df_train_target.shape"
   ]
  },
  {
   "cell_type": "code",
   "execution_count": 118,
   "metadata": {},
   "outputs": [],
   "source": [
    "Y = pd.DataFrame(np.random.randint(0,100,size=(17000, 1)))"
   ]
  },
  {
   "cell_type": "code",
   "execution_count": 119,
   "metadata": {},
   "outputs": [],
   "source": [
    "X = pd.DataFrame(np.random.randint(0,100,size=(17000, 10)))"
   ]
  },
  {
   "cell_type": "code",
   "execution_count": 120,
   "metadata": {},
   "outputs": [],
   "source": [
    "X_short = df_train.head(10)\n",
    "Y_short = df_train_target.head(10)\n",
    "\n",
    "X_t_short = df_test.head(1)\n",
    "Y_t_short = df_test_target.head(1)"
   ]
  },
  {
   "cell_type": "code",
   "execution_count": 121,
   "metadata": {},
   "outputs": [
    {
     "data": {
      "text/plain": [
       "0    344700.0\n",
       "Name: median_house_value, dtype: float64"
      ]
     },
     "execution_count": 121,
     "metadata": {},
     "output_type": "execute_result"
    }
   ],
   "source": [
    "Y_t_short.head()"
   ]
  },
  {
   "cell_type": "code",
   "execution_count": 122,
   "metadata": {},
   "outputs": [
    {
     "data": {
      "text/html": [
       "<div>\n",
       "<style scoped>\n",
       "    .dataframe tbody tr th:only-of-type {\n",
       "        vertical-align: middle;\n",
       "    }\n",
       "\n",
       "    .dataframe tbody tr th {\n",
       "        vertical-align: top;\n",
       "    }\n",
       "\n",
       "    .dataframe thead th {\n",
       "        text-align: right;\n",
       "    }\n",
       "</style>\n",
       "<table border=\"1\" class=\"dataframe\">\n",
       "  <thead>\n",
       "    <tr style=\"text-align: right;\">\n",
       "      <th></th>\n",
       "      <th>longitude</th>\n",
       "      <th>latitude</th>\n",
       "      <th>housing_median_age</th>\n",
       "      <th>total_rooms</th>\n",
       "      <th>total_bedrooms</th>\n",
       "      <th>population</th>\n",
       "      <th>households</th>\n",
       "      <th>median_income</th>\n",
       "    </tr>\n",
       "  </thead>\n",
       "  <tbody>\n",
       "    <tr>\n",
       "      <th>0</th>\n",
       "      <td>-122.05</td>\n",
       "      <td>37.37</td>\n",
       "      <td>27.0</td>\n",
       "      <td>3885.0</td>\n",
       "      <td>661.0</td>\n",
       "      <td>1537.0</td>\n",
       "      <td>606.0</td>\n",
       "      <td>6.6085</td>\n",
       "    </tr>\n",
       "  </tbody>\n",
       "</table>\n",
       "</div>"
      ],
      "text/plain": [
       "   longitude  latitude  housing_median_age  total_rooms  total_bedrooms  \\\n",
       "0    -122.05     37.37                27.0       3885.0           661.0   \n",
       "\n",
       "   population  households  median_income  \n",
       "0      1537.0       606.0         6.6085  "
      ]
     },
     "execution_count": 122,
     "metadata": {},
     "output_type": "execute_result"
    }
   ],
   "source": [
    "X_t_short.head()"
   ]
  },
  {
   "cell_type": "code",
   "execution_count": 197,
   "metadata": {},
   "outputs": [],
   "source": [
    "model1 = CatBoostRegressor(\n",
    "    logging_level='Verbose',\n",
    "    loss_function='RMSE',\n",
    "    iterations=10000,\n",
    "    learning_rate=0.01,\n",
    "    l2_leaf_reg=3,\n",
    "    random_seed=42,\n",
    ")"
   ]
  },
  {
   "cell_type": "code",
   "execution_count": 198,
   "metadata": {},
   "outputs": [
    {
     "data": {
      "application/vnd.jupyter.widget-view+json": {
       "model_id": "ee84411281774e4c8bbc778e8a97943f",
       "version_major": 2,
       "version_minor": 0
      },
      "text/plain": [
       "MetricVisualizer(layout=Layout(align_self='stretch', height='500px'))"
      ]
     },
     "metadata": {},
     "output_type": "display_data"
    }
   ],
   "source": [
    "pool1 = Pool(df_train, df_train_target, cat_features=categorical_features_indices, feature_names=list(df_train.columns))\n",
    "model1.fit(\n",
    "    df_train, df_train_target,\n",
    "    cat_features=categorical_features_indices,\n",
    "    eval_set=(df_test, df_test_target),\n",
    "    logging_level='Silent',\n",
    "    plot=True\n",
    ");"
   ]
  },
  {
   "cell_type": "code",
   "execution_count": 199,
   "metadata": {},
   "outputs": [
    {
     "data": {
      "text/plain": [
       "array([436850.8399113 , 202481.62330555, 276247.64077835, ...,\n",
       "        76574.32741163, 195699.7166105 , 529293.01619735])"
      ]
     },
     "execution_count": 199,
     "metadata": {},
     "output_type": "execute_result"
    }
   ],
   "source": [
    "model1.predict(df_test)"
   ]
  },
  {
   "cell_type": "code",
   "execution_count": 200,
   "metadata": {},
   "outputs": [
    {
     "data": {
      "text/plain": [
       "0.8336873827011524"
      ]
     },
     "execution_count": 200,
     "metadata": {},
     "output_type": "execute_result"
    }
   ],
   "source": [
    "model1.score(df_test, df_test_target)"
   ]
  },
  {
   "cell_type": "code",
   "execution_count": 201,
   "metadata": {},
   "outputs": [
    {
     "data": {
      "text/plain": [
       "0.9229835212474957"
      ]
     },
     "execution_count": 201,
     "metadata": {},
     "output_type": "execute_result"
    }
   ],
   "source": [
    "model1.score(df_train, df_train_target)"
   ]
  },
  {
   "cell_type": "code",
   "execution_count": 202,
   "metadata": {},
   "outputs": [
    {
     "data": {
      "image/svg+xml": [
       "<?xml version=\"1.0\" encoding=\"UTF-8\" standalone=\"no\"?>\n",
       "<!DOCTYPE svg PUBLIC \"-//W3C//DTD SVG 1.1//EN\"\n",
       " \"http://www.w3.org/Graphics/SVG/1.1/DTD/svg11.dtd\">\n",
       "<!-- Generated by graphviz version 2.40.1 (20161225.0304)\n",
       " -->\n",
       "<!-- Title: %3 Pages: 1 -->\n",
       "<svg width=\"8342pt\" height=\"566pt\"\n",
       " viewBox=\"0.00 0.00 8342.08 566.00\" xmlns=\"http://www.w3.org/2000/svg\" xmlns:xlink=\"http://www.w3.org/1999/xlink\">\n",
       "<g id=\"graph0\" class=\"graph\" transform=\"scale(1 1) rotate(0) translate(4 562)\">\n",
       "<title>%3</title>\n",
       "<polygon fill=\"#ffffff\" stroke=\"transparent\" points=\"-4,4 -4,-562 8338.0784,-562 8338.0784,4 -4,4\"/>\n",
       "<!-- 0 -->\n",
       "<g id=\"node1\" class=\"node\">\n",
       "<title>0</title>\n",
       "<ellipse fill=\"none\" stroke=\"#000000\" cx=\"4693.5392\" cy=\"-540\" rx=\"99.3824\" ry=\"18\"/>\n",
       "<text text-anchor=\"middle\" x=\"4693.5392\" y=\"-536.3\" font-family=\"Times,serif\" font-size=\"14.00\" fill=\"#000000\">households, value&gt;429.5</text>\n",
       "</g>\n",
       "<!-- 1 -->\n",
       "<g id=\"node2\" class=\"node\">\n",
       "<title>1</title>\n",
       "<ellipse fill=\"none\" stroke=\"#000000\" cx=\"3287.5392\" cy=\"-453\" rx=\"121.5784\" ry=\"18\"/>\n",
       "<text text-anchor=\"middle\" x=\"3287.5392\" y=\"-449.3\" font-family=\"Times,serif\" font-size=\"14.00\" fill=\"#000000\">median_income, value&gt;4.1234</text>\n",
       "</g>\n",
       "<!-- 0&#45;&gt;1 -->\n",
       "<g id=\"edge1\" class=\"edge\">\n",
       "<title>0&#45;&gt;1</title>\n",
       "<path fill=\"none\" stroke=\"#000000\" d=\"M4599.3785,-534.1736C4352.3866,-518.8903 3685.9517,-477.6528 3409.8864,-460.5706\"/>\n",
       "<polygon fill=\"#000000\" stroke=\"#000000\" points=\"3410.0291,-457.0728 3399.832,-459.9484 3409.5967,-464.0594 3410.0291,-457.0728\"/>\n",
       "<text text-anchor=\"middle\" x=\"4084.0392\" y=\"-492.8\" font-family=\"Times,serif\" font-size=\"14.00\" fill=\"#000000\">No</text>\n",
       "</g>\n",
       "<!-- 2 -->\n",
       "<g id=\"node3\" class=\"node\">\n",
       "<title>2</title>\n",
       "<ellipse fill=\"none\" stroke=\"#000000\" cx=\"5427.5392\" cy=\"-453\" rx=\"121.5784\" ry=\"18\"/>\n",
       "<text text-anchor=\"middle\" x=\"5427.5392\" y=\"-449.3\" font-family=\"Times,serif\" font-size=\"14.00\" fill=\"#000000\">median_income, value&gt;4.1234</text>\n",
       "</g>\n",
       "<!-- 0&#45;&gt;2 -->\n",
       "<g id=\"edge2\" class=\"edge\">\n",
       "<title>0&#45;&gt;2</title>\n",
       "<path fill=\"none\" stroke=\"#000000\" d=\"M4777.0237,-530.1047C4911.4571,-514.1705 5175.6591,-482.855 5322.624,-465.4355\"/>\n",
       "<polygon fill=\"#000000\" stroke=\"#000000\" points=\"5323.0473,-468.9099 5332.5658,-464.2571 5322.2233,-461.9585 5323.0473,-468.9099\"/>\n",
       "<text text-anchor=\"middle\" x=\"5115.5392\" y=\"-492.8\" font-family=\"Times,serif\" font-size=\"14.00\" fill=\"#000000\">Yes</text>\n",
       "</g>\n",
       "<!-- 3 -->\n",
       "<g id=\"node4\" class=\"node\">\n",
       "<title>3</title>\n",
       "<ellipse fill=\"none\" stroke=\"#000000\" cx=\"1538.5392\" cy=\"-366\" rx=\"130.777\" ry=\"18\"/>\n",
       "<text text-anchor=\"middle\" x=\"1538.5392\" y=\"-362.3\" font-family=\"Times,serif\" font-size=\"14.00\" fill=\"#000000\">housing_median_age, value&gt;51.5</text>\n",
       "</g>\n",
       "<!-- 1&#45;&gt;3 -->\n",
       "<g id=\"edge3\" class=\"edge\">\n",
       "<title>1&#45;&gt;3</title>\n",
       "<path fill=\"none\" stroke=\"#000000\" d=\"M3172.1061,-447.258C2860.4691,-431.7564 2003.2895,-389.1179 1671.8277,-372.6301\"/>\n",
       "<polygon fill=\"#000000\" stroke=\"#000000\" points=\"1671.8577,-369.1274 1661.6962,-372.1262 1671.5099,-376.1187 1671.8577,-369.1274\"/>\n",
       "<text text-anchor=\"middle\" x=\"2527.0392\" y=\"-405.8\" font-family=\"Times,serif\" font-size=\"14.00\" fill=\"#000000\">No</text>\n",
       "</g>\n",
       "<!-- 4 -->\n",
       "<g id=\"node5\" class=\"node\">\n",
       "<title>4</title>\n",
       "<ellipse fill=\"none\" stroke=\"#000000\" cx=\"3287.5392\" cy=\"-366\" rx=\"130.777\" ry=\"18\"/>\n",
       "<text text-anchor=\"middle\" x=\"3287.5392\" y=\"-362.3\" font-family=\"Times,serif\" font-size=\"14.00\" fill=\"#000000\">housing_median_age, value&gt;51.5</text>\n",
       "</g>\n",
       "<!-- 1&#45;&gt;4 -->\n",
       "<g id=\"edge4\" class=\"edge\">\n",
       "<title>1&#45;&gt;4</title>\n",
       "<path fill=\"none\" stroke=\"#000000\" d=\"M3287.5392,-434.9735C3287.5392,-423.1918 3287.5392,-407.5607 3287.5392,-394.1581\"/>\n",
       "<polygon fill=\"#000000\" stroke=\"#000000\" points=\"3291.0393,-394.0033 3287.5392,-384.0034 3284.0393,-394.0034 3291.0393,-394.0033\"/>\n",
       "<text text-anchor=\"middle\" x=\"3298.5392\" y=\"-405.8\" font-family=\"Times,serif\" font-size=\"14.00\" fill=\"#000000\">Yes</text>\n",
       "</g>\n",
       "<!-- 5 -->\n",
       "<g id=\"node6\" class=\"node\">\n",
       "<title>5</title>\n",
       "<ellipse fill=\"none\" stroke=\"#000000\" cx=\"5427.5392\" cy=\"-366\" rx=\"130.777\" ry=\"18\"/>\n",
       "<text text-anchor=\"middle\" x=\"5427.5392\" y=\"-362.3\" font-family=\"Times,serif\" font-size=\"14.00\" fill=\"#000000\">housing_median_age, value&gt;51.5</text>\n",
       "</g>\n",
       "<!-- 2&#45;&gt;5 -->\n",
       "<g id=\"edge5\" class=\"edge\">\n",
       "<title>2&#45;&gt;5</title>\n",
       "<path fill=\"none\" stroke=\"#000000\" d=\"M5427.5392,-434.9735C5427.5392,-423.1918 5427.5392,-407.5607 5427.5392,-394.1581\"/>\n",
       "<polygon fill=\"#000000\" stroke=\"#000000\" points=\"5431.0393,-394.0033 5427.5392,-384.0034 5424.0393,-394.0034 5431.0393,-394.0033\"/>\n",
       "<text text-anchor=\"middle\" x=\"5436.0392\" y=\"-405.8\" font-family=\"Times,serif\" font-size=\"14.00\" fill=\"#000000\">No</text>\n",
       "</g>\n",
       "<!-- 6 -->\n",
       "<g id=\"node7\" class=\"node\">\n",
       "<title>6</title>\n",
       "<ellipse fill=\"none\" stroke=\"#000000\" cx=\"6757.5392\" cy=\"-366\" rx=\"130.777\" ry=\"18\"/>\n",
       "<text text-anchor=\"middle\" x=\"6757.5392\" y=\"-362.3\" font-family=\"Times,serif\" font-size=\"14.00\" fill=\"#000000\">housing_median_age, value&gt;51.5</text>\n",
       "</g>\n",
       "<!-- 2&#45;&gt;6 -->\n",
       "<g id=\"edge6\" class=\"edge\">\n",
       "<title>2&#45;&gt;6</title>\n",
       "<path fill=\"none\" stroke=\"#000000\" d=\"M5538.9316,-445.7134C5784.0179,-429.6815 6368.8389,-391.4263 6628.9761,-374.4098\"/>\n",
       "<polygon fill=\"#000000\" stroke=\"#000000\" points=\"6629.4765,-377.8846 6639.2267,-373.7392 6629.0195,-370.8995 6629.4765,-377.8846\"/>\n",
       "<text text-anchor=\"middle\" x=\"6183.5392\" y=\"-405.8\" font-family=\"Times,serif\" font-size=\"14.00\" fill=\"#000000\">Yes</text>\n",
       "</g>\n",
       "<!-- 7 -->\n",
       "<g id=\"node8\" class=\"node\">\n",
       "<title>7</title>\n",
       "<ellipse fill=\"none\" stroke=\"#000000\" cx=\"778.5392\" cy=\"-279\" rx=\"121.5784\" ry=\"18\"/>\n",
       "<text text-anchor=\"middle\" x=\"778.5392\" y=\"-275.3\" font-family=\"Times,serif\" font-size=\"14.00\" fill=\"#000000\">median_income, value&gt;6.5025</text>\n",
       "</g>\n",
       "<!-- 3&#45;&gt;7 -->\n",
       "<g id=\"edge7\" class=\"edge\">\n",
       "<title>3&#45;&gt;7</title>\n",
       "<path fill=\"none\" stroke=\"#000000\" d=\"M1438.0093,-354.492C1294.5053,-338.0645 1032.0876,-308.0246 885.2537,-291.216\"/>\n",
       "<polygon fill=\"#000000\" stroke=\"#000000\" points=\"885.2178,-287.6891 874.8846,-290.029 884.4217,-294.6437 885.2178,-287.6891\"/>\n",
       "<text text-anchor=\"middle\" x=\"1213.0392\" y=\"-318.8\" font-family=\"Times,serif\" font-size=\"14.00\" fill=\"#000000\">No</text>\n",
       "</g>\n",
       "<!-- 8 -->\n",
       "<g id=\"node9\" class=\"node\">\n",
       "<title>8</title>\n",
       "<ellipse fill=\"none\" stroke=\"#000000\" cx=\"1538.5392\" cy=\"-279\" rx=\"121.5784\" ry=\"18\"/>\n",
       "<text text-anchor=\"middle\" x=\"1538.5392\" y=\"-275.3\" font-family=\"Times,serif\" font-size=\"14.00\" fill=\"#000000\">median_income, value&gt;6.5025</text>\n",
       "</g>\n",
       "<!-- 3&#45;&gt;8 -->\n",
       "<g id=\"edge8\" class=\"edge\">\n",
       "<title>3&#45;&gt;8</title>\n",
       "<path fill=\"none\" stroke=\"#000000\" d=\"M1538.5392,-347.9735C1538.5392,-336.1918 1538.5392,-320.5607 1538.5392,-307.1581\"/>\n",
       "<polygon fill=\"#000000\" stroke=\"#000000\" points=\"1542.0393,-307.0033 1538.5392,-297.0034 1535.0393,-307.0034 1542.0393,-307.0033\"/>\n",
       "<text text-anchor=\"middle\" x=\"1549.5392\" y=\"-318.8\" font-family=\"Times,serif\" font-size=\"14.00\" fill=\"#000000\">Yes</text>\n",
       "</g>\n",
       "<!-- 9 -->\n",
       "<g id=\"node10\" class=\"node\">\n",
       "<title>9</title>\n",
       "<ellipse fill=\"none\" stroke=\"#000000\" cx=\"2811.5392\" cy=\"-279\" rx=\"121.5784\" ry=\"18\"/>\n",
       "<text text-anchor=\"middle\" x=\"2811.5392\" y=\"-275.3\" font-family=\"Times,serif\" font-size=\"14.00\" fill=\"#000000\">median_income, value&gt;6.5025</text>\n",
       "</g>\n",
       "<!-- 4&#45;&gt;9 -->\n",
       "<g id=\"edge9\" class=\"edge\">\n",
       "<title>4&#45;&gt;9</title>\n",
       "<path fill=\"none\" stroke=\"#000000\" d=\"M3208.6705,-351.5849C3123.0633,-335.9382 2986.7626,-311.0261 2898.2141,-294.8418\"/>\n",
       "<polygon fill=\"#000000\" stroke=\"#000000\" points=\"2898.661,-291.3656 2888.1947,-293.0106 2897.4024,-298.2515 2898.661,-291.3656\"/>\n",
       "<text text-anchor=\"middle\" x=\"3087.0392\" y=\"-318.8\" font-family=\"Times,serif\" font-size=\"14.00\" fill=\"#000000\">No</text>\n",
       "</g>\n",
       "<!-- 10 -->\n",
       "<g id=\"node11\" class=\"node\">\n",
       "<title>10</title>\n",
       "<ellipse fill=\"none\" stroke=\"#000000\" cx=\"3490.5392\" cy=\"-279\" rx=\"121.5784\" ry=\"18\"/>\n",
       "<text text-anchor=\"middle\" x=\"3490.5392\" y=\"-275.3\" font-family=\"Times,serif\" font-size=\"14.00\" fill=\"#000000\">median_income, value&gt;6.5025</text>\n",
       "</g>\n",
       "<!-- 4&#45;&gt;10 -->\n",
       "<g id=\"edge10\" class=\"edge\">\n",
       "<title>4&#45;&gt;10</title>\n",
       "<path fill=\"none\" stroke=\"#000000\" d=\"M3327.6455,-348.8116C3360.1758,-334.8701 3406.1828,-315.1528 3441.0101,-300.2268\"/>\n",
       "<polygon fill=\"#000000\" stroke=\"#000000\" points=\"3442.7035,-303.309 3450.5163,-296.1527 3439.9461,-296.8749 3442.7035,-303.309\"/>\n",
       "<text text-anchor=\"middle\" x=\"3412.5392\" y=\"-318.8\" font-family=\"Times,serif\" font-size=\"14.00\" fill=\"#000000\">Yes</text>\n",
       "</g>\n",
       "<!-- 11 -->\n",
       "<g id=\"node12\" class=\"node\">\n",
       "<title>11</title>\n",
       "<ellipse fill=\"none\" stroke=\"#000000\" cx=\"4954.5392\" cy=\"-279\" rx=\"121.5784\" ry=\"18\"/>\n",
       "<text text-anchor=\"middle\" x=\"4954.5392\" y=\"-275.3\" font-family=\"Times,serif\" font-size=\"14.00\" fill=\"#000000\">median_income, value&gt;6.5025</text>\n",
       "</g>\n",
       "<!-- 5&#45;&gt;11 -->\n",
       "<g id=\"edge11\" class=\"edge\">\n",
       "<title>5&#45;&gt;11</title>\n",
       "<path fill=\"none\" stroke=\"#000000\" d=\"M5349.1676,-351.5849C5264.2263,-335.9615 5129.0606,-311.1001 5041.0604,-294.914\"/>\n",
       "<polygon fill=\"#000000\" stroke=\"#000000\" points=\"5041.5699,-291.4491 5031.1017,-293.0823 5040.3035,-298.3336 5041.5699,-291.4491\"/>\n",
       "<text text-anchor=\"middle\" x=\"5228.0392\" y=\"-318.8\" font-family=\"Times,serif\" font-size=\"14.00\" fill=\"#000000\">No</text>\n",
       "</g>\n",
       "<!-- 12 -->\n",
       "<g id=\"node13\" class=\"node\">\n",
       "<title>12</title>\n",
       "<ellipse fill=\"none\" stroke=\"#000000\" cx=\"5487.5392\" cy=\"-279\" rx=\"121.5784\" ry=\"18\"/>\n",
       "<text text-anchor=\"middle\" x=\"5487.5392\" y=\"-275.3\" font-family=\"Times,serif\" font-size=\"14.00\" fill=\"#000000\">median_income, value&gt;6.5025</text>\n",
       "</g>\n",
       "<!-- 5&#45;&gt;12 -->\n",
       "<g id=\"edge12\" class=\"edge\">\n",
       "<title>5&#45;&gt;12</title>\n",
       "<path fill=\"none\" stroke=\"#000000\" d=\"M5439.9713,-347.9735C5448.4184,-335.7252 5459.7347,-319.3165 5469.2106,-305.5766\"/>\n",
       "<polygon fill=\"#000000\" stroke=\"#000000\" points=\"5472.327,-307.2226 5475.1231,-297.0034 5466.5645,-303.2484 5472.327,-307.2226\"/>\n",
       "<text text-anchor=\"middle\" x=\"5472.5392\" y=\"-318.8\" font-family=\"Times,serif\" font-size=\"14.00\" fill=\"#000000\">Yes</text>\n",
       "</g>\n",
       "<!-- 13 -->\n",
       "<g id=\"node14\" class=\"node\">\n",
       "<title>13</title>\n",
       "<ellipse fill=\"none\" stroke=\"#000000\" cx=\"6757.5392\" cy=\"-279\" rx=\"121.5784\" ry=\"18\"/>\n",
       "<text text-anchor=\"middle\" x=\"6757.5392\" y=\"-275.3\" font-family=\"Times,serif\" font-size=\"14.00\" fill=\"#000000\">median_income, value&gt;6.5025</text>\n",
       "</g>\n",
       "<!-- 6&#45;&gt;13 -->\n",
       "<g id=\"edge13\" class=\"edge\">\n",
       "<title>6&#45;&gt;13</title>\n",
       "<path fill=\"none\" stroke=\"#000000\" d=\"M6757.5392,-347.9735C6757.5392,-336.1918 6757.5392,-320.5607 6757.5392,-307.1581\"/>\n",
       "<polygon fill=\"#000000\" stroke=\"#000000\" points=\"6761.0393,-307.0033 6757.5392,-297.0034 6754.0393,-307.0034 6761.0393,-307.0033\"/>\n",
       "<text text-anchor=\"middle\" x=\"6766.0392\" y=\"-318.8\" font-family=\"Times,serif\" font-size=\"14.00\" fill=\"#000000\">No</text>\n",
       "</g>\n",
       "<!-- 14 -->\n",
       "<g id=\"node15\" class=\"node\">\n",
       "<title>14</title>\n",
       "<ellipse fill=\"none\" stroke=\"#000000\" cx=\"7555.5392\" cy=\"-279\" rx=\"121.5784\" ry=\"18\"/>\n",
       "<text text-anchor=\"middle\" x=\"7555.5392\" y=\"-275.3\" font-family=\"Times,serif\" font-size=\"14.00\" fill=\"#000000\">median_income, value&gt;6.5025</text>\n",
       "</g>\n",
       "<!-- 6&#45;&gt;14 -->\n",
       "<g id=\"edge14\" class=\"edge\">\n",
       "<title>6&#45;&gt;14</title>\n",
       "<path fill=\"none\" stroke=\"#000000\" d=\"M6860.2301,-354.8044C7011.6061,-338.301 7293.3388,-307.5858 7447.6419,-290.7632\"/>\n",
       "<polygon fill=\"#000000\" stroke=\"#000000\" points=\"7448.0568,-294.2388 7457.6185,-289.6756 7447.2981,-287.2801 7448.0568,-294.2388\"/>\n",
       "<text text-anchor=\"middle\" x=\"7215.5392\" y=\"-318.8\" font-family=\"Times,serif\" font-size=\"14.00\" fill=\"#000000\">Yes</text>\n",
       "</g>\n",
       "<!-- 15 -->\n",
       "<g id=\"node16\" class=\"node\">\n",
       "<title>15</title>\n",
       "<ellipse fill=\"none\" stroke=\"#000000\" cx=\"382.5392\" cy=\"-192\" rx=\"126.1777\" ry=\"18\"/>\n",
       "<text text-anchor=\"middle\" x=\"382.5392\" y=\"-188.3\" font-family=\"Times,serif\" font-size=\"14.00\" fill=\"#000000\">median_income, value&gt;2.78635</text>\n",
       "</g>\n",
       "<!-- 7&#45;&gt;15 -->\n",
       "<g id=\"edge15\" class=\"edge\">\n",
       "<title>7&#45;&gt;15</title>\n",
       "<path fill=\"none\" stroke=\"#000000\" d=\"M710.4644,-264.0442C641.2953,-248.8479 534.252,-225.3308 461.4253,-209.331\"/>\n",
       "<polygon fill=\"#000000\" stroke=\"#000000\" points=\"461.9018,-205.8523 451.3837,-207.1249 460.3997,-212.6893 461.9018,-205.8523\"/>\n",
       "<text text-anchor=\"middle\" x=\"613.0392\" y=\"-231.8\" font-family=\"Times,serif\" font-size=\"14.00\" fill=\"#000000\">No</text>\n",
       "</g>\n",
       "<!-- 16 -->\n",
       "<g id=\"node17\" class=\"node\">\n",
       "<title>16</title>\n",
       "<ellipse fill=\"none\" stroke=\"#000000\" cx=\"778.5392\" cy=\"-192\" rx=\"126.1777\" ry=\"18\"/>\n",
       "<text text-anchor=\"middle\" x=\"778.5392\" y=\"-188.3\" font-family=\"Times,serif\" font-size=\"14.00\" fill=\"#000000\">median_income, value&gt;2.78635</text>\n",
       "</g>\n",
       "<!-- 7&#45;&gt;16 -->\n",
       "<g id=\"edge16\" class=\"edge\">\n",
       "<title>7&#45;&gt;16</title>\n",
       "<path fill=\"none\" stroke=\"#000000\" d=\"M778.5392,-260.9735C778.5392,-249.1918 778.5392,-233.5607 778.5392,-220.1581\"/>\n",
       "<polygon fill=\"#000000\" stroke=\"#000000\" points=\"782.0393,-220.0033 778.5392,-210.0034 775.0393,-220.0034 782.0393,-220.0033\"/>\n",
       "<text text-anchor=\"middle\" x=\"789.5392\" y=\"-231.8\" font-family=\"Times,serif\" font-size=\"14.00\" fill=\"#000000\">Yes</text>\n",
       "</g>\n",
       "<!-- 17 -->\n",
       "<g id=\"node18\" class=\"node\">\n",
       "<title>17</title>\n",
       "<ellipse fill=\"none\" stroke=\"#000000\" cx=\"1422.5392\" cy=\"-192\" rx=\"126.1777\" ry=\"18\"/>\n",
       "<text text-anchor=\"middle\" x=\"1422.5392\" y=\"-188.3\" font-family=\"Times,serif\" font-size=\"14.00\" fill=\"#000000\">median_income, value&gt;2.78635</text>\n",
       "</g>\n",
       "<!-- 8&#45;&gt;17 -->\n",
       "<g id=\"edge17\" class=\"edge\">\n",
       "<title>8&#45;&gt;17</title>\n",
       "<path fill=\"none\" stroke=\"#000000\" d=\"M1514.785,-261.1843C1497.3477,-248.1063 1473.4764,-230.2029 1454.3862,-215.8853\"/>\n",
       "<polygon fill=\"#000000\" stroke=\"#000000\" points=\"1456.3617,-212.9919 1446.2617,-209.7919 1452.1617,-218.5919 1456.3617,-212.9919\"/>\n",
       "<text text-anchor=\"middle\" x=\"1496.0392\" y=\"-231.8\" font-family=\"Times,serif\" font-size=\"14.00\" fill=\"#000000\">No</text>\n",
       "</g>\n",
       "<!-- 18 -->\n",
       "<g id=\"node19\" class=\"node\">\n",
       "<title>18</title>\n",
       "<ellipse fill=\"none\" stroke=\"#000000\" cx=\"1692.5392\" cy=\"-192\" rx=\"126.1777\" ry=\"18\"/>\n",
       "<text text-anchor=\"middle\" x=\"1692.5392\" y=\"-188.3\" font-family=\"Times,serif\" font-size=\"14.00\" fill=\"#000000\">median_income, value&gt;2.78635</text>\n",
       "</g>\n",
       "<!-- 8&#45;&gt;18 -->\n",
       "<g id=\"edge18\" class=\"edge\">\n",
       "<title>8&#45;&gt;18</title>\n",
       "<path fill=\"none\" stroke=\"#000000\" d=\"M1569.7034,-261.3943C1593.6038,-247.8921 1626.7674,-229.1568 1652.6122,-214.5562\"/>\n",
       "<polygon fill=\"#000000\" stroke=\"#000000\" points=\"1654.4362,-217.5457 1661.4214,-209.5796 1650.9931,-211.451 1654.4362,-217.5457\"/>\n",
       "<text text-anchor=\"middle\" x=\"1636.5392\" y=\"-231.8\" font-family=\"Times,serif\" font-size=\"14.00\" fill=\"#000000\">Yes</text>\n",
       "</g>\n",
       "<!-- 19 -->\n",
       "<g id=\"node20\" class=\"node\">\n",
       "<title>19</title>\n",
       "<ellipse fill=\"none\" stroke=\"#000000\" cx=\"2470.5392\" cy=\"-192\" rx=\"126.1777\" ry=\"18\"/>\n",
       "<text text-anchor=\"middle\" x=\"2470.5392\" y=\"-188.3\" font-family=\"Times,serif\" font-size=\"14.00\" fill=\"#000000\">median_income, value&gt;2.78635</text>\n",
       "</g>\n",
       "<!-- 9&#45;&gt;19 -->\n",
       "<g id=\"edge19\" class=\"edge\">\n",
       "<title>9&#45;&gt;19</title>\n",
       "<path fill=\"none\" stroke=\"#000000\" d=\"M2750.1814,-263.3457C2691.7847,-248.4468 2603.9194,-226.0296 2542.3035,-210.3094\"/>\n",
       "<polygon fill=\"#000000\" stroke=\"#000000\" points=\"2542.8215,-206.8295 2532.2667,-207.7486 2541.091,-213.6122 2542.8215,-206.8295\"/>\n",
       "<text text-anchor=\"middle\" x=\"2670.0392\" y=\"-231.8\" font-family=\"Times,serif\" font-size=\"14.00\" fill=\"#000000\">No</text>\n",
       "</g>\n",
       "<!-- 20 -->\n",
       "<g id=\"node21\" class=\"node\">\n",
       "<title>20</title>\n",
       "<ellipse fill=\"none\" stroke=\"#000000\" cx=\"2811.5392\" cy=\"-192\" rx=\"126.1777\" ry=\"18\"/>\n",
       "<text text-anchor=\"middle\" x=\"2811.5392\" y=\"-188.3\" font-family=\"Times,serif\" font-size=\"14.00\" fill=\"#000000\">median_income, value&gt;2.78635</text>\n",
       "</g>\n",
       "<!-- 9&#45;&gt;20 -->\n",
       "<g id=\"edge20\" class=\"edge\">\n",
       "<title>9&#45;&gt;20</title>\n",
       "<path fill=\"none\" stroke=\"#000000\" d=\"M2811.5392,-260.9735C2811.5392,-249.1918 2811.5392,-233.5607 2811.5392,-220.1581\"/>\n",
       "<polygon fill=\"#000000\" stroke=\"#000000\" points=\"2815.0393,-220.0033 2811.5392,-210.0034 2808.0393,-220.0034 2815.0393,-220.0033\"/>\n",
       "<text text-anchor=\"middle\" x=\"2822.5392\" y=\"-231.8\" font-family=\"Times,serif\" font-size=\"14.00\" fill=\"#000000\">Yes</text>\n",
       "</g>\n",
       "<!-- 21 -->\n",
       "<g id=\"node22\" class=\"node\">\n",
       "<title>21</title>\n",
       "<ellipse fill=\"none\" stroke=\"#000000\" cx=\"3490.5392\" cy=\"-192\" rx=\"126.1777\" ry=\"18\"/>\n",
       "<text text-anchor=\"middle\" x=\"3490.5392\" y=\"-188.3\" font-family=\"Times,serif\" font-size=\"14.00\" fill=\"#000000\">median_income, value&gt;2.78635</text>\n",
       "</g>\n",
       "<!-- 10&#45;&gt;21 -->\n",
       "<g id=\"edge21\" class=\"edge\">\n",
       "<title>10&#45;&gt;21</title>\n",
       "<path fill=\"none\" stroke=\"#000000\" d=\"M3490.5392,-260.9735C3490.5392,-249.1918 3490.5392,-233.5607 3490.5392,-220.1581\"/>\n",
       "<polygon fill=\"#000000\" stroke=\"#000000\" points=\"3494.0393,-220.0033 3490.5392,-210.0034 3487.0393,-220.0034 3494.0393,-220.0033\"/>\n",
       "<text text-anchor=\"middle\" x=\"3499.0392\" y=\"-231.8\" font-family=\"Times,serif\" font-size=\"14.00\" fill=\"#000000\">No</text>\n",
       "</g>\n",
       "<!-- 22 -->\n",
       "<g id=\"node23\" class=\"node\">\n",
       "<title>22</title>\n",
       "<ellipse fill=\"none\" stroke=\"#000000\" cx=\"3775.5392\" cy=\"-192\" rx=\"126.1777\" ry=\"18\"/>\n",
       "<text text-anchor=\"middle\" x=\"3775.5392\" y=\"-188.3\" font-family=\"Times,serif\" font-size=\"14.00\" fill=\"#000000\">median_income, value&gt;2.78635</text>\n",
       "</g>\n",
       "<!-- 10&#45;&gt;22 -->\n",
       "<g id=\"edge22\" class=\"edge\">\n",
       "<title>10&#45;&gt;22</title>\n",
       "<path fill=\"none\" stroke=\"#000000\" d=\"M3543.8112,-262.738C3591.5406,-248.168 3661.6173,-226.7762 3712.2009,-211.3349\"/>\n",
       "<polygon fill=\"#000000\" stroke=\"#000000\" points=\"3713.5029,-214.5969 3722.0453,-208.3297 3711.4591,-207.9019 3713.5029,-214.5969\"/>\n",
       "<text text-anchor=\"middle\" x=\"3661.5392\" y=\"-231.8\" font-family=\"Times,serif\" font-size=\"14.00\" fill=\"#000000\">Yes</text>\n",
       "</g>\n",
       "<!-- 23 -->\n",
       "<g id=\"node24\" class=\"node\">\n",
       "<title>23</title>\n",
       "<ellipse fill=\"none\" stroke=\"#000000\" cx=\"4558.5392\" cy=\"-192\" rx=\"126.1777\" ry=\"18\"/>\n",
       "<text text-anchor=\"middle\" x=\"4558.5392\" y=\"-188.3\" font-family=\"Times,serif\" font-size=\"14.00\" fill=\"#000000\">median_income, value&gt;2.78635</text>\n",
       "</g>\n",
       "<!-- 11&#45;&gt;23 -->\n",
       "<g id=\"edge23\" class=\"edge\">\n",
       "<title>11&#45;&gt;23</title>\n",
       "<path fill=\"none\" stroke=\"#000000\" d=\"M4886.4644,-264.0442C4817.2953,-248.8479 4710.252,-225.3308 4637.4253,-209.331\"/>\n",
       "<polygon fill=\"#000000\" stroke=\"#000000\" points=\"4637.9018,-205.8523 4627.3837,-207.1249 4636.3997,-212.6893 4637.9018,-205.8523\"/>\n",
       "<text text-anchor=\"middle\" x=\"4789.0392\" y=\"-231.8\" font-family=\"Times,serif\" font-size=\"14.00\" fill=\"#000000\">No</text>\n",
       "</g>\n",
       "<!-- 24 -->\n",
       "<g id=\"node25\" class=\"node\">\n",
       "<title>24</title>\n",
       "<ellipse fill=\"none\" stroke=\"#000000\" cx=\"4954.5392\" cy=\"-192\" rx=\"126.1777\" ry=\"18\"/>\n",
       "<text text-anchor=\"middle\" x=\"4954.5392\" y=\"-188.3\" font-family=\"Times,serif\" font-size=\"14.00\" fill=\"#000000\">median_income, value&gt;2.78635</text>\n",
       "</g>\n",
       "<!-- 11&#45;&gt;24 -->\n",
       "<g id=\"edge24\" class=\"edge\">\n",
       "<title>11&#45;&gt;24</title>\n",
       "<path fill=\"none\" stroke=\"#000000\" d=\"M4954.5392,-260.9735C4954.5392,-249.1918 4954.5392,-233.5607 4954.5392,-220.1581\"/>\n",
       "<polygon fill=\"#000000\" stroke=\"#000000\" points=\"4958.0393,-220.0033 4954.5392,-210.0034 4951.0393,-220.0034 4958.0393,-220.0033\"/>\n",
       "<text text-anchor=\"middle\" x=\"4965.5392\" y=\"-231.8\" font-family=\"Times,serif\" font-size=\"14.00\" fill=\"#000000\">Yes</text>\n",
       "</g>\n",
       "<!-- 25 -->\n",
       "<g id=\"node26\" class=\"node\">\n",
       "<title>25</title>\n",
       "<ellipse fill=\"none\" stroke=\"#000000\" cx=\"5487.5392\" cy=\"-192\" rx=\"126.1777\" ry=\"18\"/>\n",
       "<text text-anchor=\"middle\" x=\"5487.5392\" y=\"-188.3\" font-family=\"Times,serif\" font-size=\"14.00\" fill=\"#000000\">median_income, value&gt;2.78635</text>\n",
       "</g>\n",
       "<!-- 12&#45;&gt;25 -->\n",
       "<g id=\"edge25\" class=\"edge\">\n",
       "<title>12&#45;&gt;25</title>\n",
       "<path fill=\"none\" stroke=\"#000000\" d=\"M5487.5392,-260.9735C5487.5392,-249.1918 5487.5392,-233.5607 5487.5392,-220.1581\"/>\n",
       "<polygon fill=\"#000000\" stroke=\"#000000\" points=\"5491.0393,-220.0033 5487.5392,-210.0034 5484.0393,-220.0034 5491.0393,-220.0033\"/>\n",
       "<text text-anchor=\"middle\" x=\"5496.0392\" y=\"-231.8\" font-family=\"Times,serif\" font-size=\"14.00\" fill=\"#000000\">No</text>\n",
       "</g>\n",
       "<!-- 26 -->\n",
       "<g id=\"node27\" class=\"node\">\n",
       "<title>26</title>\n",
       "<ellipse fill=\"none\" stroke=\"#000000\" cx=\"5863.5392\" cy=\"-192\" rx=\"126.1777\" ry=\"18\"/>\n",
       "<text text-anchor=\"middle\" x=\"5863.5392\" y=\"-188.3\" font-family=\"Times,serif\" font-size=\"14.00\" fill=\"#000000\">median_income, value&gt;2.78635</text>\n",
       "</g>\n",
       "<!-- 12&#45;&gt;26 -->\n",
       "<g id=\"edge26\" class=\"edge\">\n",
       "<title>12&#45;&gt;26</title>\n",
       "<path fill=\"none\" stroke=\"#000000\" d=\"M5553.4637,-263.7462C5618.7052,-248.6504 5718.5025,-225.559 5787.1615,-209.6725\"/>\n",
       "<polygon fill=\"#000000\" stroke=\"#000000\" points=\"5788.1042,-213.0469 5797.0578,-207.3827 5786.5262,-206.2271 5788.1042,-213.0469\"/>\n",
       "<text text-anchor=\"middle\" x=\"5709.5392\" y=\"-231.8\" font-family=\"Times,serif\" font-size=\"14.00\" fill=\"#000000\">Yes</text>\n",
       "</g>\n",
       "<!-- 27 -->\n",
       "<g id=\"node28\" class=\"node\">\n",
       "<title>27</title>\n",
       "<ellipse fill=\"none\" stroke=\"#000000\" cx=\"6641.5392\" cy=\"-192\" rx=\"126.1777\" ry=\"18\"/>\n",
       "<text text-anchor=\"middle\" x=\"6641.5392\" y=\"-188.3\" font-family=\"Times,serif\" font-size=\"14.00\" fill=\"#000000\">median_income, value&gt;2.78635</text>\n",
       "</g>\n",
       "<!-- 13&#45;&gt;27 -->\n",
       "<g id=\"edge27\" class=\"edge\">\n",
       "<title>13&#45;&gt;27</title>\n",
       "<path fill=\"none\" stroke=\"#000000\" d=\"M6733.785,-261.1843C6716.3477,-248.1063 6692.4764,-230.2029 6673.3862,-215.8853\"/>\n",
       "<polygon fill=\"#000000\" stroke=\"#000000\" points=\"6675.3617,-212.9919 6665.2617,-209.7919 6671.1617,-218.5919 6675.3617,-212.9919\"/>\n",
       "<text text-anchor=\"middle\" x=\"6715.0392\" y=\"-231.8\" font-family=\"Times,serif\" font-size=\"14.00\" fill=\"#000000\">No</text>\n",
       "</g>\n",
       "<!-- 28 -->\n",
       "<g id=\"node29\" class=\"node\">\n",
       "<title>28</title>\n",
       "<ellipse fill=\"none\" stroke=\"#000000\" cx=\"6911.5392\" cy=\"-192\" rx=\"126.1777\" ry=\"18\"/>\n",
       "<text text-anchor=\"middle\" x=\"6911.5392\" y=\"-188.3\" font-family=\"Times,serif\" font-size=\"14.00\" fill=\"#000000\">median_income, value&gt;2.78635</text>\n",
       "</g>\n",
       "<!-- 13&#45;&gt;28 -->\n",
       "<g id=\"edge28\" class=\"edge\">\n",
       "<title>13&#45;&gt;28</title>\n",
       "<path fill=\"none\" stroke=\"#000000\" d=\"M6788.7034,-261.3943C6812.6038,-247.8921 6845.7674,-229.1568 6871.6122,-214.5562\"/>\n",
       "<polygon fill=\"#000000\" stroke=\"#000000\" points=\"6873.4362,-217.5457 6880.4214,-209.5796 6869.9931,-211.451 6873.4362,-217.5457\"/>\n",
       "<text text-anchor=\"middle\" x=\"6855.5392\" y=\"-231.8\" font-family=\"Times,serif\" font-size=\"14.00\" fill=\"#000000\">Yes</text>\n",
       "</g>\n",
       "<!-- 29 -->\n",
       "<g id=\"node30\" class=\"node\">\n",
       "<title>29</title>\n",
       "<ellipse fill=\"none\" stroke=\"#000000\" cx=\"7555.5392\" cy=\"-192\" rx=\"126.1777\" ry=\"18\"/>\n",
       "<text text-anchor=\"middle\" x=\"7555.5392\" y=\"-188.3\" font-family=\"Times,serif\" font-size=\"14.00\" fill=\"#000000\">median_income, value&gt;2.78635</text>\n",
       "</g>\n",
       "<!-- 14&#45;&gt;29 -->\n",
       "<g id=\"edge29\" class=\"edge\">\n",
       "<title>14&#45;&gt;29</title>\n",
       "<path fill=\"none\" stroke=\"#000000\" d=\"M7555.5392,-260.9735C7555.5392,-249.1918 7555.5392,-233.5607 7555.5392,-220.1581\"/>\n",
       "<polygon fill=\"#000000\" stroke=\"#000000\" points=\"7559.0393,-220.0033 7555.5392,-210.0034 7552.0393,-220.0034 7559.0393,-220.0033\"/>\n",
       "<text text-anchor=\"middle\" x=\"7564.0392\" y=\"-231.8\" font-family=\"Times,serif\" font-size=\"14.00\" fill=\"#000000\">No</text>\n",
       "</g>\n",
       "<!-- 30 -->\n",
       "<g id=\"node31\" class=\"node\">\n",
       "<title>30</title>\n",
       "<ellipse fill=\"none\" stroke=\"#000000\" cx=\"7951.5392\" cy=\"-192\" rx=\"126.1777\" ry=\"18\"/>\n",
       "<text text-anchor=\"middle\" x=\"7951.5392\" y=\"-188.3\" font-family=\"Times,serif\" font-size=\"14.00\" fill=\"#000000\">median_income, value&gt;2.78635</text>\n",
       "</g>\n",
       "<!-- 14&#45;&gt;30 -->\n",
       "<g id=\"edge30\" class=\"edge\">\n",
       "<title>14&#45;&gt;30</title>\n",
       "<path fill=\"none\" stroke=\"#000000\" d=\"M7623.614,-264.0442C7692.7831,-248.8479 7799.8264,-225.3308 7872.6531,-209.331\"/>\n",
       "<polygon fill=\"#000000\" stroke=\"#000000\" points=\"7873.6787,-212.6893 7882.6947,-207.1249 7872.1766,-205.8523 7873.6787,-212.6893\"/>\n",
       "<text text-anchor=\"middle\" x=\"7788.5392\" y=\"-231.8\" font-family=\"Times,serif\" font-size=\"14.00\" fill=\"#000000\">Yes</text>\n",
       "</g>\n",
       "<!-- 31 -->\n",
       "<g id=\"node32\" class=\"node\">\n",
       "<title>31</title>\n",
       "<ellipse fill=\"none\" stroke=\"#000000\" cx=\"121.5392\" cy=\"-105\" rx=\"121.5784\" ry=\"18\"/>\n",
       "<text text-anchor=\"middle\" x=\"121.5392\" y=\"-101.3\" font-family=\"Times,serif\" font-size=\"14.00\" fill=\"#000000\">median_income, value&gt;4.9502</text>\n",
       "</g>\n",
       "<!-- 15&#45;&gt;31 -->\n",
       "<g id=\"edge31\" class=\"edge\">\n",
       "<title>15&#45;&gt;31</title>\n",
       "<path fill=\"none\" stroke=\"#000000\" d=\"M332.8328,-175.4312C289.475,-160.9786 226.5005,-139.9871 180.5861,-124.6823\"/>\n",
       "<polygon fill=\"#000000\" stroke=\"#000000\" points=\"181.6543,-121.3491 171.0606,-121.5071 179.4406,-127.9899 181.6543,-121.3491\"/>\n",
       "<text text-anchor=\"middle\" x=\"277.0392\" y=\"-144.8\" font-family=\"Times,serif\" font-size=\"14.00\" fill=\"#000000\">No</text>\n",
       "</g>\n",
       "<!-- 32 -->\n",
       "<g id=\"node33\" class=\"node\">\n",
       "<title>32</title>\n",
       "<ellipse fill=\"none\" stroke=\"#000000\" cx=\"382.5392\" cy=\"-105\" rx=\"121.5784\" ry=\"18\"/>\n",
       "<text text-anchor=\"middle\" x=\"382.5392\" y=\"-101.3\" font-family=\"Times,serif\" font-size=\"14.00\" fill=\"#000000\">median_income, value&gt;4.9502</text>\n",
       "</g>\n",
       "<!-- 15&#45;&gt;32 -->\n",
       "<g id=\"edge32\" class=\"edge\">\n",
       "<title>15&#45;&gt;32</title>\n",
       "<path fill=\"none\" stroke=\"#000000\" d=\"M382.5392,-173.9735C382.5392,-162.1918 382.5392,-146.5607 382.5392,-133.1581\"/>\n",
       "<polygon fill=\"#000000\" stroke=\"#000000\" points=\"386.0393,-133.0033 382.5392,-123.0034 379.0393,-133.0034 386.0393,-133.0033\"/>\n",
       "<text text-anchor=\"middle\" x=\"393.5392\" y=\"-144.8\" font-family=\"Times,serif\" font-size=\"14.00\" fill=\"#000000\">Yes</text>\n",
       "</g>\n",
       "<!-- 33 -->\n",
       "<g id=\"node34\" class=\"node\">\n",
       "<title>33</title>\n",
       "<ellipse fill=\"none\" stroke=\"#000000\" cx=\"643.5392\" cy=\"-105\" rx=\"121.5784\" ry=\"18\"/>\n",
       "<text text-anchor=\"middle\" x=\"643.5392\" y=\"-101.3\" font-family=\"Times,serif\" font-size=\"14.00\" fill=\"#000000\">median_income, value&gt;4.9502</text>\n",
       "</g>\n",
       "<!-- 16&#45;&gt;33 -->\n",
       "<g id=\"edge33\" class=\"edge\">\n",
       "<title>16&#45;&gt;33</title>\n",
       "<path fill=\"none\" stroke=\"#000000\" d=\"M751.22,-174.3943C730.5428,-161.069 701.9566,-142.6468 679.4339,-128.1321\"/>\n",
       "<polygon fill=\"#000000\" stroke=\"#000000\" points=\"681.1195,-125.0546 670.8179,-122.5796 677.3276,-130.9386 681.1195,-125.0546\"/>\n",
       "<text text-anchor=\"middle\" x=\"728.0392\" y=\"-144.8\" font-family=\"Times,serif\" font-size=\"14.00\" fill=\"#000000\">No</text>\n",
       "</g>\n",
       "<!-- 34 -->\n",
       "<g id=\"node35\" class=\"node\">\n",
       "<title>34</title>\n",
       "<ellipse fill=\"none\" stroke=\"#000000\" cx=\"904.5392\" cy=\"-105\" rx=\"121.5784\" ry=\"18\"/>\n",
       "<text text-anchor=\"middle\" x=\"904.5392\" y=\"-101.3\" font-family=\"Times,serif\" font-size=\"14.00\" fill=\"#000000\">median_income, value&gt;4.9502</text>\n",
       "</g>\n",
       "<!-- 16&#45;&gt;34 -->\n",
       "<g id=\"edge34\" class=\"edge\">\n",
       "<title>16&#45;&gt;34</title>\n",
       "<path fill=\"none\" stroke=\"#000000\" d=\"M804.3412,-174.1843C823.4516,-160.989 849.6766,-142.8813 870.5034,-128.5009\"/>\n",
       "<polygon fill=\"#000000\" stroke=\"#000000\" points=\"872.5314,-131.354 878.7717,-122.7919 868.554,-125.5937 872.5314,-131.354\"/>\n",
       "<text text-anchor=\"middle\" x=\"860.5392\" y=\"-144.8\" font-family=\"Times,serif\" font-size=\"14.00\" fill=\"#000000\">Yes</text>\n",
       "</g>\n",
       "<!-- 35 -->\n",
       "<g id=\"node36\" class=\"node\">\n",
       "<title>35</title>\n",
       "<ellipse fill=\"none\" stroke=\"#000000\" cx=\"1165.5392\" cy=\"-105\" rx=\"121.5784\" ry=\"18\"/>\n",
       "<text text-anchor=\"middle\" x=\"1165.5392\" y=\"-101.3\" font-family=\"Times,serif\" font-size=\"14.00\" fill=\"#000000\">median_income, value&gt;4.9502</text>\n",
       "</g>\n",
       "<!-- 17&#45;&gt;35 -->\n",
       "<g id=\"edge35\" class=\"edge\">\n",
       "<title>17&#45;&gt;35</title>\n",
       "<path fill=\"none\" stroke=\"#000000\" d=\"M1373.2911,-175.3285C1330.7897,-160.9408 1269.3114,-140.1291 1224.2587,-124.8778\"/>\n",
       "<polygon fill=\"#000000\" stroke=\"#000000\" points=\"1225.215,-121.5065 1214.6207,-121.6151 1222.9704,-128.1369 1225.215,-121.5065\"/>\n",
       "<text text-anchor=\"middle\" x=\"1318.0392\" y=\"-144.8\" font-family=\"Times,serif\" font-size=\"14.00\" fill=\"#000000\">No</text>\n",
       "</g>\n",
       "<!-- 36 -->\n",
       "<g id=\"node37\" class=\"node\">\n",
       "<title>36</title>\n",
       "<ellipse fill=\"none\" stroke=\"#000000\" cx=\"1426.5392\" cy=\"-105\" rx=\"121.5784\" ry=\"18\"/>\n",
       "<text text-anchor=\"middle\" x=\"1426.5392\" y=\"-101.3\" font-family=\"Times,serif\" font-size=\"14.00\" fill=\"#000000\">median_income, value&gt;4.9502</text>\n",
       "</g>\n",
       "<!-- 17&#45;&gt;36 -->\n",
       "<g id=\"edge36\" class=\"edge\">\n",
       "<title>17&#45;&gt;36</title>\n",
       "<path fill=\"none\" stroke=\"#000000\" d=\"M1423.368,-173.9735C1423.9097,-162.1918 1424.6284,-146.5607 1425.2446,-133.1581\"/>\n",
       "<polygon fill=\"#000000\" stroke=\"#000000\" points=\"1428.7484,-133.1536 1425.7115,-123.0034 1421.7558,-132.832 1428.7484,-133.1536\"/>\n",
       "<text text-anchor=\"middle\" x=\"1436.5392\" y=\"-144.8\" font-family=\"Times,serif\" font-size=\"14.00\" fill=\"#000000\">Yes</text>\n",
       "</g>\n",
       "<!-- 37 -->\n",
       "<g id=\"node38\" class=\"node\">\n",
       "<title>37</title>\n",
       "<ellipse fill=\"none\" stroke=\"#000000\" cx=\"1687.5392\" cy=\"-105\" rx=\"121.5784\" ry=\"18\"/>\n",
       "<text text-anchor=\"middle\" x=\"1687.5392\" y=\"-101.3\" font-family=\"Times,serif\" font-size=\"14.00\" fill=\"#000000\">median_income, value&gt;4.9502</text>\n",
       "</g>\n",
       "<!-- 18&#45;&gt;37 -->\n",
       "<g id=\"edge37\" class=\"edge\">\n",
       "<title>18&#45;&gt;37</title>\n",
       "<path fill=\"none\" stroke=\"#000000\" d=\"M1691.5032,-173.9735C1690.8261,-162.1918 1689.9278,-146.5607 1689.1575,-133.1581\"/>\n",
       "<polygon fill=\"#000000\" stroke=\"#000000\" points=\"1692.642,-132.786 1688.5739,-123.0034 1685.6535,-133.1877 1692.642,-132.786\"/>\n",
       "<text text-anchor=\"middle\" x=\"1699.0392\" y=\"-144.8\" font-family=\"Times,serif\" font-size=\"14.00\" fill=\"#000000\">No</text>\n",
       "</g>\n",
       "<!-- 38 -->\n",
       "<g id=\"node39\" class=\"node\">\n",
       "<title>38</title>\n",
       "<ellipse fill=\"none\" stroke=\"#000000\" cx=\"1948.5392\" cy=\"-105\" rx=\"121.5784\" ry=\"18\"/>\n",
       "<text text-anchor=\"middle\" x=\"1948.5392\" y=\"-101.3\" font-family=\"Times,serif\" font-size=\"14.00\" fill=\"#000000\">median_income, value&gt;4.9502</text>\n",
       "</g>\n",
       "<!-- 18&#45;&gt;38 -->\n",
       "<g id=\"edge38\" class=\"edge\">\n",
       "<title>18&#45;&gt;38</title>\n",
       "<path fill=\"none\" stroke=\"#000000\" d=\"M1741.5957,-175.3285C1783.9317,-160.9408 1845.1708,-140.1291 1890.0482,-124.8778\"/>\n",
       "<polygon fill=\"#000000\" stroke=\"#000000\" points=\"1891.3067,-128.1468 1899.6487,-121.6151 1889.0543,-121.519 1891.3067,-128.1468\"/>\n",
       "<text text-anchor=\"middle\" x=\"1847.5392\" y=\"-144.8\" font-family=\"Times,serif\" font-size=\"14.00\" fill=\"#000000\">Yes</text>\n",
       "</g>\n",
       "<!-- 39 -->\n",
       "<g id=\"node40\" class=\"node\">\n",
       "<title>39</title>\n",
       "<ellipse fill=\"none\" stroke=\"#000000\" cx=\"2209.5392\" cy=\"-105\" rx=\"121.5784\" ry=\"18\"/>\n",
       "<text text-anchor=\"middle\" x=\"2209.5392\" y=\"-101.3\" font-family=\"Times,serif\" font-size=\"14.00\" fill=\"#000000\">median_income, value&gt;4.9502</text>\n",
       "</g>\n",
       "<!-- 19&#45;&gt;39 -->\n",
       "<g id=\"edge39\" class=\"edge\">\n",
       "<title>19&#45;&gt;39</title>\n",
       "<path fill=\"none\" stroke=\"#000000\" d=\"M2420.8328,-175.4312C2377.475,-160.9786 2314.5005,-139.9871 2268.5861,-124.6823\"/>\n",
       "<polygon fill=\"#000000\" stroke=\"#000000\" points=\"2269.6543,-121.3491 2259.0606,-121.5071 2267.4406,-127.9899 2269.6543,-121.3491\"/>\n",
       "<text text-anchor=\"middle\" x=\"2365.0392\" y=\"-144.8\" font-family=\"Times,serif\" font-size=\"14.00\" fill=\"#000000\">No</text>\n",
       "</g>\n",
       "<!-- 40 -->\n",
       "<g id=\"node41\" class=\"node\">\n",
       "<title>40</title>\n",
       "<ellipse fill=\"none\" stroke=\"#000000\" cx=\"2470.5392\" cy=\"-105\" rx=\"121.5784\" ry=\"18\"/>\n",
       "<text text-anchor=\"middle\" x=\"2470.5392\" y=\"-101.3\" font-family=\"Times,serif\" font-size=\"14.00\" fill=\"#000000\">median_income, value&gt;4.9502</text>\n",
       "</g>\n",
       "<!-- 19&#45;&gt;40 -->\n",
       "<g id=\"edge40\" class=\"edge\">\n",
       "<title>19&#45;&gt;40</title>\n",
       "<path fill=\"none\" stroke=\"#000000\" d=\"M2470.5392,-173.9735C2470.5392,-162.1918 2470.5392,-146.5607 2470.5392,-133.1581\"/>\n",
       "<polygon fill=\"#000000\" stroke=\"#000000\" points=\"2474.0393,-133.0033 2470.5392,-123.0034 2467.0393,-133.0034 2474.0393,-133.0033\"/>\n",
       "<text text-anchor=\"middle\" x=\"2481.5392\" y=\"-144.8\" font-family=\"Times,serif\" font-size=\"14.00\" fill=\"#000000\">Yes</text>\n",
       "</g>\n",
       "<!-- 41 -->\n",
       "<g id=\"node42\" class=\"node\">\n",
       "<title>41</title>\n",
       "<ellipse fill=\"none\" stroke=\"#000000\" cx=\"2731.5392\" cy=\"-105\" rx=\"121.5784\" ry=\"18\"/>\n",
       "<text text-anchor=\"middle\" x=\"2731.5392\" y=\"-101.3\" font-family=\"Times,serif\" font-size=\"14.00\" fill=\"#000000\">median_income, value&gt;4.9502</text>\n",
       "</g>\n",
       "<!-- 20&#45;&gt;41 -->\n",
       "<g id=\"edge41\" class=\"edge\">\n",
       "<title>20&#45;&gt;41</title>\n",
       "<path fill=\"none\" stroke=\"#000000\" d=\"M2794.9632,-173.9735C2783.3785,-161.3752 2767.7465,-144.3755 2754.9006,-130.4055\"/>\n",
       "<polygon fill=\"#000000\" stroke=\"#000000\" points=\"2757.4392,-127.9953 2748.094,-123.0034 2752.2864,-132.7335 2757.4392,-127.9953\"/>\n",
       "<text text-anchor=\"middle\" x=\"2785.0392\" y=\"-144.8\" font-family=\"Times,serif\" font-size=\"14.00\" fill=\"#000000\">No</text>\n",
       "</g>\n",
       "<!-- 42 -->\n",
       "<g id=\"node43\" class=\"node\">\n",
       "<title>42</title>\n",
       "<ellipse fill=\"none\" stroke=\"#000000\" cx=\"2992.5392\" cy=\"-105\" rx=\"121.5784\" ry=\"18\"/>\n",
       "<text text-anchor=\"middle\" x=\"2992.5392\" y=\"-101.3\" font-family=\"Times,serif\" font-size=\"14.00\" fill=\"#000000\">median_income, value&gt;4.9502</text>\n",
       "</g>\n",
       "<!-- 20&#45;&gt;42 -->\n",
       "<g id=\"edge42\" class=\"edge\">\n",
       "<title>20&#45;&gt;42</title>\n",
       "<path fill=\"none\" stroke=\"#000000\" d=\"M2847.7322,-174.6033C2876.4346,-160.8072 2916.702,-141.4521 2947.4904,-126.6533\"/>\n",
       "<polygon fill=\"#000000\" stroke=\"#000000\" points=\"2949.2211,-129.7048 2956.7178,-122.218 2946.1886,-123.3957 2949.2211,-129.7048\"/>\n",
       "<text text-anchor=\"middle\" x=\"2924.5392\" y=\"-144.8\" font-family=\"Times,serif\" font-size=\"14.00\" fill=\"#000000\">Yes</text>\n",
       "</g>\n",
       "<!-- 43 -->\n",
       "<g id=\"node44\" class=\"node\">\n",
       "<title>43</title>\n",
       "<ellipse fill=\"none\" stroke=\"#000000\" cx=\"3253.5392\" cy=\"-105\" rx=\"121.5784\" ry=\"18\"/>\n",
       "<text text-anchor=\"middle\" x=\"3253.5392\" y=\"-101.3\" font-family=\"Times,serif\" font-size=\"14.00\" fill=\"#000000\">median_income, value&gt;4.9502</text>\n",
       "</g>\n",
       "<!-- 21&#45;&gt;43 -->\n",
       "<g id=\"edge43\" class=\"edge\">\n",
       "<title>21&#45;&gt;43</title>\n",
       "<path fill=\"none\" stroke=\"#000000\" d=\"M3444.5622,-175.1224C3405.8052,-160.8951 3350.231,-140.4945 3309.0095,-125.3625\"/>\n",
       "<polygon fill=\"#000000\" stroke=\"#000000\" points=\"3309.9819,-121.9911 3299.3883,-121.8307 3307.5696,-128.5624 3309.9819,-121.9911\"/>\n",
       "<text text-anchor=\"middle\" x=\"3395.0392\" y=\"-144.8\" font-family=\"Times,serif\" font-size=\"14.00\" fill=\"#000000\">No</text>\n",
       "</g>\n",
       "<!-- 44 -->\n",
       "<g id=\"node45\" class=\"node\">\n",
       "<title>44</title>\n",
       "<ellipse fill=\"none\" stroke=\"#000000\" cx=\"3514.5392\" cy=\"-105\" rx=\"121.5784\" ry=\"18\"/>\n",
       "<text text-anchor=\"middle\" x=\"3514.5392\" y=\"-101.3\" font-family=\"Times,serif\" font-size=\"14.00\" fill=\"#000000\">median_income, value&gt;4.9502</text>\n",
       "</g>\n",
       "<!-- 21&#45;&gt;44 -->\n",
       "<g id=\"edge44\" class=\"edge\">\n",
       "<title>21&#45;&gt;44</title>\n",
       "<path fill=\"none\" stroke=\"#000000\" d=\"M3495.512,-173.9735C3498.7944,-162.0751 3503.1597,-146.2508 3506.8811,-132.7606\"/>\n",
       "<polygon fill=\"#000000\" stroke=\"#000000\" points=\"3510.2874,-133.5741 3509.5728,-123.0034 3503.5394,-131.7125 3510.2874,-133.5741\"/>\n",
       "<text text-anchor=\"middle\" x=\"3515.5392\" y=\"-144.8\" font-family=\"Times,serif\" font-size=\"14.00\" fill=\"#000000\">Yes</text>\n",
       "</g>\n",
       "<!-- 45 -->\n",
       "<g id=\"node46\" class=\"node\">\n",
       "<title>45</title>\n",
       "<ellipse fill=\"none\" stroke=\"#000000\" cx=\"3775.5392\" cy=\"-105\" rx=\"121.5784\" ry=\"18\"/>\n",
       "<text text-anchor=\"middle\" x=\"3775.5392\" y=\"-101.3\" font-family=\"Times,serif\" font-size=\"14.00\" fill=\"#000000\">median_income, value&gt;4.9502</text>\n",
       "</g>\n",
       "<!-- 22&#45;&gt;45 -->\n",
       "<g id=\"edge45\" class=\"edge\">\n",
       "<title>22&#45;&gt;45</title>\n",
       "<path fill=\"none\" stroke=\"#000000\" d=\"M3775.5392,-173.9735C3775.5392,-162.1918 3775.5392,-146.5607 3775.5392,-133.1581\"/>\n",
       "<polygon fill=\"#000000\" stroke=\"#000000\" points=\"3779.0393,-133.0033 3775.5392,-123.0034 3772.0393,-133.0034 3779.0393,-133.0033\"/>\n",
       "<text text-anchor=\"middle\" x=\"3784.0392\" y=\"-144.8\" font-family=\"Times,serif\" font-size=\"14.00\" fill=\"#000000\">No</text>\n",
       "</g>\n",
       "<!-- 46 -->\n",
       "<g id=\"node47\" class=\"node\">\n",
       "<title>46</title>\n",
       "<ellipse fill=\"none\" stroke=\"#000000\" cx=\"4036.5392\" cy=\"-105\" rx=\"121.5784\" ry=\"18\"/>\n",
       "<text text-anchor=\"middle\" x=\"4036.5392\" y=\"-101.3\" font-family=\"Times,serif\" font-size=\"14.00\" fill=\"#000000\">median_income, value&gt;4.9502</text>\n",
       "</g>\n",
       "<!-- 22&#45;&gt;46 -->\n",
       "<g id=\"edge46\" class=\"edge\">\n",
       "<title>22&#45;&gt;46</title>\n",
       "<path fill=\"none\" stroke=\"#000000\" d=\"M3825.2457,-175.4312C3868.6034,-160.9786 3931.578,-139.9871 3977.4923,-124.6823\"/>\n",
       "<polygon fill=\"#000000\" stroke=\"#000000\" points=\"3978.6378,-127.9899 3987.0178,-121.5071 3976.4242,-121.3491 3978.6378,-127.9899\"/>\n",
       "<text text-anchor=\"middle\" x=\"3933.5392\" y=\"-144.8\" font-family=\"Times,serif\" font-size=\"14.00\" fill=\"#000000\">Yes</text>\n",
       "</g>\n",
       "<!-- 47 -->\n",
       "<g id=\"node48\" class=\"node\">\n",
       "<title>47</title>\n",
       "<ellipse fill=\"none\" stroke=\"#000000\" cx=\"4297.5392\" cy=\"-105\" rx=\"121.5784\" ry=\"18\"/>\n",
       "<text text-anchor=\"middle\" x=\"4297.5392\" y=\"-101.3\" font-family=\"Times,serif\" font-size=\"14.00\" fill=\"#000000\">median_income, value&gt;4.9502</text>\n",
       "</g>\n",
       "<!-- 23&#45;&gt;47 -->\n",
       "<g id=\"edge47\" class=\"edge\">\n",
       "<title>23&#45;&gt;47</title>\n",
       "<path fill=\"none\" stroke=\"#000000\" d=\"M4508.8328,-175.4312C4465.475,-160.9786 4402.5005,-139.9871 4356.5861,-124.6823\"/>\n",
       "<polygon fill=\"#000000\" stroke=\"#000000\" points=\"4357.6543,-121.3491 4347.0606,-121.5071 4355.4406,-127.9899 4357.6543,-121.3491\"/>\n",
       "<text text-anchor=\"middle\" x=\"4453.0392\" y=\"-144.8\" font-family=\"Times,serif\" font-size=\"14.00\" fill=\"#000000\">No</text>\n",
       "</g>\n",
       "<!-- 48 -->\n",
       "<g id=\"node49\" class=\"node\">\n",
       "<title>48</title>\n",
       "<ellipse fill=\"none\" stroke=\"#000000\" cx=\"4558.5392\" cy=\"-105\" rx=\"121.5784\" ry=\"18\"/>\n",
       "<text text-anchor=\"middle\" x=\"4558.5392\" y=\"-101.3\" font-family=\"Times,serif\" font-size=\"14.00\" fill=\"#000000\">median_income, value&gt;4.9502</text>\n",
       "</g>\n",
       "<!-- 23&#45;&gt;48 -->\n",
       "<g id=\"edge48\" class=\"edge\">\n",
       "<title>23&#45;&gt;48</title>\n",
       "<path fill=\"none\" stroke=\"#000000\" d=\"M4558.5392,-173.9735C4558.5392,-162.1918 4558.5392,-146.5607 4558.5392,-133.1581\"/>\n",
       "<polygon fill=\"#000000\" stroke=\"#000000\" points=\"4562.0393,-133.0033 4558.5392,-123.0034 4555.0393,-133.0034 4562.0393,-133.0033\"/>\n",
       "<text text-anchor=\"middle\" x=\"4569.5392\" y=\"-144.8\" font-family=\"Times,serif\" font-size=\"14.00\" fill=\"#000000\">Yes</text>\n",
       "</g>\n",
       "<!-- 49 -->\n",
       "<g id=\"node50\" class=\"node\">\n",
       "<title>49</title>\n",
       "<ellipse fill=\"none\" stroke=\"#000000\" cx=\"4819.5392\" cy=\"-105\" rx=\"121.5784\" ry=\"18\"/>\n",
       "<text text-anchor=\"middle\" x=\"4819.5392\" y=\"-101.3\" font-family=\"Times,serif\" font-size=\"14.00\" fill=\"#000000\">median_income, value&gt;4.9502</text>\n",
       "</g>\n",
       "<!-- 24&#45;&gt;49 -->\n",
       "<g id=\"edge49\" class=\"edge\">\n",
       "<title>24&#45;&gt;49</title>\n",
       "<path fill=\"none\" stroke=\"#000000\" d=\"M4927.22,-174.3943C4906.5428,-161.069 4877.9566,-142.6468 4855.4339,-128.1321\"/>\n",
       "<polygon fill=\"#000000\" stroke=\"#000000\" points=\"4857.1195,-125.0546 4846.8179,-122.5796 4853.3276,-130.9386 4857.1195,-125.0546\"/>\n",
       "<text text-anchor=\"middle\" x=\"4904.0392\" y=\"-144.8\" font-family=\"Times,serif\" font-size=\"14.00\" fill=\"#000000\">No</text>\n",
       "</g>\n",
       "<!-- 50 -->\n",
       "<g id=\"node51\" class=\"node\">\n",
       "<title>50</title>\n",
       "<ellipse fill=\"none\" stroke=\"#000000\" cx=\"5080.5392\" cy=\"-105\" rx=\"121.5784\" ry=\"18\"/>\n",
       "<text text-anchor=\"middle\" x=\"5080.5392\" y=\"-101.3\" font-family=\"Times,serif\" font-size=\"14.00\" fill=\"#000000\">median_income, value&gt;4.9502</text>\n",
       "</g>\n",
       "<!-- 24&#45;&gt;50 -->\n",
       "<g id=\"edge50\" class=\"edge\">\n",
       "<title>24&#45;&gt;50</title>\n",
       "<path fill=\"none\" stroke=\"#000000\" d=\"M4980.3412,-174.1843C4999.4516,-160.989 5025.6766,-142.8813 5046.5034,-128.5009\"/>\n",
       "<polygon fill=\"#000000\" stroke=\"#000000\" points=\"5048.5314,-131.354 5054.7717,-122.7919 5044.554,-125.5937 5048.5314,-131.354\"/>\n",
       "<text text-anchor=\"middle\" x=\"5036.5392\" y=\"-144.8\" font-family=\"Times,serif\" font-size=\"14.00\" fill=\"#000000\">Yes</text>\n",
       "</g>\n",
       "<!-- 51 -->\n",
       "<g id=\"node52\" class=\"node\">\n",
       "<title>51</title>\n",
       "<ellipse fill=\"none\" stroke=\"#000000\" cx=\"5341.5392\" cy=\"-105\" rx=\"121.5784\" ry=\"18\"/>\n",
       "<text text-anchor=\"middle\" x=\"5341.5392\" y=\"-101.3\" font-family=\"Times,serif\" font-size=\"14.00\" fill=\"#000000\">median_income, value&gt;4.9502</text>\n",
       "</g>\n",
       "<!-- 25&#45;&gt;51 -->\n",
       "<g id=\"edge51\" class=\"edge\">\n",
       "<title>25&#45;&gt;51</title>\n",
       "<path fill=\"none\" stroke=\"#000000\" d=\"M5457.9939,-174.3943C5435.4341,-160.9511 5404.1687,-142.3203 5379.7135,-127.7477\"/>\n",
       "<polygon fill=\"#000000\" stroke=\"#000000\" points=\"5381.4227,-124.6919 5371.0406,-122.5796 5377.8394,-130.7053 5381.4227,-124.6919\"/>\n",
       "<text text-anchor=\"middle\" x=\"5432.0392\" y=\"-144.8\" font-family=\"Times,serif\" font-size=\"14.00\" fill=\"#000000\">No</text>\n",
       "</g>\n",
       "<!-- 52 -->\n",
       "<g id=\"node53\" class=\"node\">\n",
       "<title>52</title>\n",
       "<ellipse fill=\"none\" stroke=\"#000000\" cx=\"5602.5392\" cy=\"-105\" rx=\"121.5784\" ry=\"18\"/>\n",
       "<text text-anchor=\"middle\" x=\"5602.5392\" y=\"-101.3\" font-family=\"Times,serif\" font-size=\"14.00\" fill=\"#000000\">median_income, value&gt;4.9502</text>\n",
       "</g>\n",
       "<!-- 25&#45;&gt;52 -->\n",
       "<g id=\"edge52\" class=\"edge\">\n",
       "<title>25&#45;&gt;52</title>\n",
       "<path fill=\"none\" stroke=\"#000000\" d=\"M5511.0887,-174.1843C5528.3757,-161.1063 5552.0412,-143.2029 5570.9667,-128.8853\"/>\n",
       "<polygon fill=\"#000000\" stroke=\"#000000\" points=\"5573.1579,-131.6164 5579.0212,-122.7919 5568.9346,-126.0339 5573.1579,-131.6164\"/>\n",
       "<text text-anchor=\"middle\" x=\"5563.5392\" y=\"-144.8\" font-family=\"Times,serif\" font-size=\"14.00\" fill=\"#000000\">Yes</text>\n",
       "</g>\n",
       "<!-- 53 -->\n",
       "<g id=\"node54\" class=\"node\">\n",
       "<title>53</title>\n",
       "<ellipse fill=\"none\" stroke=\"#000000\" cx=\"5863.5392\" cy=\"-105\" rx=\"121.5784\" ry=\"18\"/>\n",
       "<text text-anchor=\"middle\" x=\"5863.5392\" y=\"-101.3\" font-family=\"Times,serif\" font-size=\"14.00\" fill=\"#000000\">median_income, value&gt;4.9502</text>\n",
       "</g>\n",
       "<!-- 26&#45;&gt;53 -->\n",
       "<g id=\"edge53\" class=\"edge\">\n",
       "<title>26&#45;&gt;53</title>\n",
       "<path fill=\"none\" stroke=\"#000000\" d=\"M5863.5392,-173.9735C5863.5392,-162.1918 5863.5392,-146.5607 5863.5392,-133.1581\"/>\n",
       "<polygon fill=\"#000000\" stroke=\"#000000\" points=\"5867.0393,-133.0033 5863.5392,-123.0034 5860.0393,-133.0034 5867.0393,-133.0033\"/>\n",
       "<text text-anchor=\"middle\" x=\"5872.0392\" y=\"-144.8\" font-family=\"Times,serif\" font-size=\"14.00\" fill=\"#000000\">No</text>\n",
       "</g>\n",
       "<!-- 54 -->\n",
       "<g id=\"node55\" class=\"node\">\n",
       "<title>54</title>\n",
       "<ellipse fill=\"none\" stroke=\"#000000\" cx=\"6124.5392\" cy=\"-105\" rx=\"121.5784\" ry=\"18\"/>\n",
       "<text text-anchor=\"middle\" x=\"6124.5392\" y=\"-101.3\" font-family=\"Times,serif\" font-size=\"14.00\" fill=\"#000000\">median_income, value&gt;4.9502</text>\n",
       "</g>\n",
       "<!-- 26&#45;&gt;54 -->\n",
       "<g id=\"edge54\" class=\"edge\">\n",
       "<title>26&#45;&gt;54</title>\n",
       "<path fill=\"none\" stroke=\"#000000\" d=\"M5913.2457,-175.4312C5956.6034,-160.9786 6019.578,-139.9871 6065.4923,-124.6823\"/>\n",
       "<polygon fill=\"#000000\" stroke=\"#000000\" points=\"6066.6378,-127.9899 6075.0178,-121.5071 6064.4242,-121.3491 6066.6378,-127.9899\"/>\n",
       "<text text-anchor=\"middle\" x=\"6021.5392\" y=\"-144.8\" font-family=\"Times,serif\" font-size=\"14.00\" fill=\"#000000\">Yes</text>\n",
       "</g>\n",
       "<!-- 55 -->\n",
       "<g id=\"node56\" class=\"node\">\n",
       "<title>55</title>\n",
       "<ellipse fill=\"none\" stroke=\"#000000\" cx=\"6385.5392\" cy=\"-105\" rx=\"121.5784\" ry=\"18\"/>\n",
       "<text text-anchor=\"middle\" x=\"6385.5392\" y=\"-101.3\" font-family=\"Times,serif\" font-size=\"14.00\" fill=\"#000000\">median_income, value&gt;4.9502</text>\n",
       "</g>\n",
       "<!-- 27&#45;&gt;55 -->\n",
       "<g id=\"edge55\" class=\"edge\">\n",
       "<title>27&#45;&gt;55</title>\n",
       "<path fill=\"none\" stroke=\"#000000\" d=\"M6592.4827,-175.3285C6550.1467,-160.9408 6488.9076,-140.1291 6444.0302,-124.8778\"/>\n",
       "<polygon fill=\"#000000\" stroke=\"#000000\" points=\"6445.0241,-121.519 6434.4297,-121.6151 6442.7717,-128.1468 6445.0241,-121.519\"/>\n",
       "<text text-anchor=\"middle\" x=\"6538.0392\" y=\"-144.8\" font-family=\"Times,serif\" font-size=\"14.00\" fill=\"#000000\">No</text>\n",
       "</g>\n",
       "<!-- 56 -->\n",
       "<g id=\"node57\" class=\"node\">\n",
       "<title>56</title>\n",
       "<ellipse fill=\"none\" stroke=\"#000000\" cx=\"6646.5392\" cy=\"-105\" rx=\"121.5784\" ry=\"18\"/>\n",
       "<text text-anchor=\"middle\" x=\"6646.5392\" y=\"-101.3\" font-family=\"Times,serif\" font-size=\"14.00\" fill=\"#000000\">median_income, value&gt;4.9502</text>\n",
       "</g>\n",
       "<!-- 27&#45;&gt;56 -->\n",
       "<g id=\"edge56\" class=\"edge\">\n",
       "<title>27&#45;&gt;56</title>\n",
       "<path fill=\"none\" stroke=\"#000000\" d=\"M6642.5752,-173.9735C6643.2523,-162.1918 6644.1507,-146.5607 6644.9209,-133.1581\"/>\n",
       "<polygon fill=\"#000000\" stroke=\"#000000\" points=\"6648.4249,-133.1877 6645.5045,-123.0034 6641.4364,-132.786 6648.4249,-133.1877\"/>\n",
       "<text text-anchor=\"middle\" x=\"6655.5392\" y=\"-144.8\" font-family=\"Times,serif\" font-size=\"14.00\" fill=\"#000000\">Yes</text>\n",
       "</g>\n",
       "<!-- 57 -->\n",
       "<g id=\"node58\" class=\"node\">\n",
       "<title>57</title>\n",
       "<ellipse fill=\"none\" stroke=\"#000000\" cx=\"6907.5392\" cy=\"-105\" rx=\"121.5784\" ry=\"18\"/>\n",
       "<text text-anchor=\"middle\" x=\"6907.5392\" y=\"-101.3\" font-family=\"Times,serif\" font-size=\"14.00\" fill=\"#000000\">median_income, value&gt;4.9502</text>\n",
       "</g>\n",
       "<!-- 28&#45;&gt;57 -->\n",
       "<g id=\"edge57\" class=\"edge\">\n",
       "<title>28&#45;&gt;57</title>\n",
       "<path fill=\"none\" stroke=\"#000000\" d=\"M6910.7104,-173.9735C6910.1687,-162.1918 6909.4501,-146.5607 6908.8338,-133.1581\"/>\n",
       "<polygon fill=\"#000000\" stroke=\"#000000\" points=\"6912.3226,-132.832 6908.367,-123.0034 6905.33,-133.1536 6912.3226,-132.832\"/>\n",
       "<text text-anchor=\"middle\" x=\"6919.0392\" y=\"-144.8\" font-family=\"Times,serif\" font-size=\"14.00\" fill=\"#000000\">No</text>\n",
       "</g>\n",
       "<!-- 58 -->\n",
       "<g id=\"node59\" class=\"node\">\n",
       "<title>58</title>\n",
       "<ellipse fill=\"none\" stroke=\"#000000\" cx=\"7168.5392\" cy=\"-105\" rx=\"121.5784\" ry=\"18\"/>\n",
       "<text text-anchor=\"middle\" x=\"7168.5392\" y=\"-101.3\" font-family=\"Times,serif\" font-size=\"14.00\" fill=\"#000000\">median_income, value&gt;4.9502</text>\n",
       "</g>\n",
       "<!-- 28&#45;&gt;58 -->\n",
       "<g id=\"edge58\" class=\"edge\">\n",
       "<title>28&#45;&gt;58</title>\n",
       "<path fill=\"none\" stroke=\"#000000\" d=\"M6960.7873,-175.3285C7003.2887,-160.9408 7064.767,-140.1291 7109.8197,-124.8778\"/>\n",
       "<polygon fill=\"#000000\" stroke=\"#000000\" points=\"7111.108,-128.1369 7119.4577,-121.6151 7108.8635,-121.5065 7111.108,-128.1369\"/>\n",
       "<text text-anchor=\"middle\" x=\"7066.5392\" y=\"-144.8\" font-family=\"Times,serif\" font-size=\"14.00\" fill=\"#000000\">Yes</text>\n",
       "</g>\n",
       "<!-- 59 -->\n",
       "<g id=\"node60\" class=\"node\">\n",
       "<title>59</title>\n",
       "<ellipse fill=\"none\" stroke=\"#000000\" cx=\"7429.5392\" cy=\"-105\" rx=\"121.5784\" ry=\"18\"/>\n",
       "<text text-anchor=\"middle\" x=\"7429.5392\" y=\"-101.3\" font-family=\"Times,serif\" font-size=\"14.00\" fill=\"#000000\">median_income, value&gt;4.9502</text>\n",
       "</g>\n",
       "<!-- 29&#45;&gt;59 -->\n",
       "<g id=\"edge59\" class=\"edge\">\n",
       "<title>29&#45;&gt;59</title>\n",
       "<path fill=\"none\" stroke=\"#000000\" d=\"M7529.7372,-174.1843C7510.6268,-160.989 7484.4019,-142.8813 7463.575,-128.5009\"/>\n",
       "<polygon fill=\"#000000\" stroke=\"#000000\" points=\"7465.5244,-125.5937 7455.3067,-122.7919 7461.547,-131.354 7465.5244,-125.5937\"/>\n",
       "<text text-anchor=\"middle\" x=\"7509.0392\" y=\"-144.8\" font-family=\"Times,serif\" font-size=\"14.00\" fill=\"#000000\">No</text>\n",
       "</g>\n",
       "<!-- 60 -->\n",
       "<g id=\"node61\" class=\"node\">\n",
       "<title>60</title>\n",
       "<ellipse fill=\"none\" stroke=\"#000000\" cx=\"7690.5392\" cy=\"-105\" rx=\"121.5784\" ry=\"18\"/>\n",
       "<text text-anchor=\"middle\" x=\"7690.5392\" y=\"-101.3\" font-family=\"Times,serif\" font-size=\"14.00\" fill=\"#000000\">median_income, value&gt;4.9502</text>\n",
       "</g>\n",
       "<!-- 29&#45;&gt;60 -->\n",
       "<g id=\"edge60\" class=\"edge\">\n",
       "<title>29&#45;&gt;60</title>\n",
       "<path fill=\"none\" stroke=\"#000000\" d=\"M7582.8585,-174.3943C7603.5356,-161.069 7632.1218,-142.6468 7654.6446,-128.1321\"/>\n",
       "<polygon fill=\"#000000\" stroke=\"#000000\" points=\"7656.7508,-130.9386 7663.2606,-122.5796 7652.9589,-125.0546 7656.7508,-130.9386\"/>\n",
       "<text text-anchor=\"middle\" x=\"7642.5392\" y=\"-144.8\" font-family=\"Times,serif\" font-size=\"14.00\" fill=\"#000000\">Yes</text>\n",
       "</g>\n",
       "<!-- 61 -->\n",
       "<g id=\"node62\" class=\"node\">\n",
       "<title>61</title>\n",
       "<ellipse fill=\"none\" stroke=\"#000000\" cx=\"7951.5392\" cy=\"-105\" rx=\"121.5784\" ry=\"18\"/>\n",
       "<text text-anchor=\"middle\" x=\"7951.5392\" y=\"-101.3\" font-family=\"Times,serif\" font-size=\"14.00\" fill=\"#000000\">median_income, value&gt;4.9502</text>\n",
       "</g>\n",
       "<!-- 30&#45;&gt;61 -->\n",
       "<g id=\"edge61\" class=\"edge\">\n",
       "<title>30&#45;&gt;61</title>\n",
       "<path fill=\"none\" stroke=\"#000000\" d=\"M7951.5392,-173.9735C7951.5392,-162.1918 7951.5392,-146.5607 7951.5392,-133.1581\"/>\n",
       "<polygon fill=\"#000000\" stroke=\"#000000\" points=\"7955.0393,-133.0033 7951.5392,-123.0034 7948.0393,-133.0034 7955.0393,-133.0033\"/>\n",
       "<text text-anchor=\"middle\" x=\"7960.0392\" y=\"-144.8\" font-family=\"Times,serif\" font-size=\"14.00\" fill=\"#000000\">No</text>\n",
       "</g>\n",
       "<!-- 62 -->\n",
       "<g id=\"node63\" class=\"node\">\n",
       "<title>62</title>\n",
       "<ellipse fill=\"none\" stroke=\"#000000\" cx=\"8212.5392\" cy=\"-105\" rx=\"121.5784\" ry=\"18\"/>\n",
       "<text text-anchor=\"middle\" x=\"8212.5392\" y=\"-101.3\" font-family=\"Times,serif\" font-size=\"14.00\" fill=\"#000000\">median_income, value&gt;4.9502</text>\n",
       "</g>\n",
       "<!-- 30&#45;&gt;62 -->\n",
       "<g id=\"edge62\" class=\"edge\">\n",
       "<title>30&#45;&gt;62</title>\n",
       "<path fill=\"none\" stroke=\"#000000\" d=\"M8001.2457,-175.4312C8044.6034,-160.9786 8107.578,-139.9871 8153.4923,-124.6823\"/>\n",
       "<polygon fill=\"#000000\" stroke=\"#000000\" points=\"8154.6378,-127.9899 8163.0178,-121.5071 8152.4242,-121.3491 8154.6378,-127.9899\"/>\n",
       "<text text-anchor=\"middle\" x=\"8109.5392\" y=\"-144.8\" font-family=\"Times,serif\" font-size=\"14.00\" fill=\"#000000\">Yes</text>\n",
       "</g>\n",
       "<!-- 63 -->\n",
       "<g id=\"node64\" class=\"node\">\n",
       "<title>63</title>\n",
       "<polygon fill=\"none\" stroke=\"#ff0000\" points=\"140.5392,-36 42.5392,-36 42.5392,0 140.5392,0 140.5392,-36\"/>\n",
       "<text text-anchor=\"middle\" x=\"91.5392\" y=\"-14.3\" font-family=\"Times,serif\" font-size=\"14.00\" fill=\"#000000\">val = &#45;911.455</text>\n",
       "</g>\n",
       "<!-- 31&#45;&gt;63 -->\n",
       "<g id=\"edge63\" class=\"edge\">\n",
       "<title>31&#45;&gt;63</title>\n",
       "<path fill=\"none\" stroke=\"#000000\" d=\"M115.3232,-86.9735C111.2203,-75.0751 105.7636,-59.2508 101.1119,-45.7606\"/>\n",
       "<polygon fill=\"#000000\" stroke=\"#000000\" points=\"104.3161,-44.3161 97.7473,-36.0034 97.6984,-46.5981 104.3161,-44.3161\"/>\n",
       "<text text-anchor=\"middle\" x=\"117.0392\" y=\"-57.8\" font-family=\"Times,serif\" font-size=\"14.00\" fill=\"#000000\">No</text>\n",
       "</g>\n",
       "<!-- 64 -->\n",
       "<g id=\"node65\" class=\"node\">\n",
       "<title>64</title>\n",
       "<polygon fill=\"none\" stroke=\"#ff0000\" points=\"238.5392,-36 158.5392,-36 158.5392,0 238.5392,0 238.5392,-36\"/>\n",
       "<text text-anchor=\"middle\" x=\"198.5392\" y=\"-14.3\" font-family=\"Times,serif\" font-size=\"14.00\" fill=\"#000000\">val = 0.000</text>\n",
       "</g>\n",
       "<!-- 31&#45;&gt;64 -->\n",
       "<g id=\"edge64\" class=\"edge\">\n",
       "<title>31&#45;&gt;64</title>\n",
       "<path fill=\"none\" stroke=\"#000000\" d=\"M137.4937,-86.9735C148.5407,-74.4919 163.4114,-57.6899 175.7097,-43.7944\"/>\n",
       "<polygon fill=\"#000000\" stroke=\"#000000\" points=\"178.5985,-45.8114 182.6052,-36.0034 173.3567,-41.172 178.5985,-45.8114\"/>\n",
       "<text text-anchor=\"middle\" x=\"176.5392\" y=\"-57.8\" font-family=\"Times,serif\" font-size=\"14.00\" fill=\"#000000\">Yes</text>\n",
       "</g>\n",
       "<!-- 65 -->\n",
       "<g id=\"node66\" class=\"node\">\n",
       "<title>65</title>\n",
       "<polygon fill=\"none\" stroke=\"#ff0000\" points=\"371.5392,-36 273.5392,-36 273.5392,0 371.5392,0 371.5392,-36\"/>\n",
       "<text text-anchor=\"middle\" x=\"322.5392\" y=\"-14.3\" font-family=\"Times,serif\" font-size=\"14.00\" fill=\"#000000\">val = &#45;350.245</text>\n",
       "</g>\n",
       "<!-- 32&#45;&gt;65 -->\n",
       "<g id=\"edge65\" class=\"edge\">\n",
       "<title>32&#45;&gt;65</title>\n",
       "<path fill=\"none\" stroke=\"#000000\" d=\"M370.1072,-86.9735C361.66,-74.7252 350.3437,-58.3165 340.8679,-44.5766\"/>\n",
       "<polygon fill=\"#000000\" stroke=\"#000000\" points=\"343.5139,-42.2484 334.9553,-36.0034 337.7514,-46.2226 343.5139,-42.2484\"/>\n",
       "<text text-anchor=\"middle\" x=\"365.0392\" y=\"-57.8\" font-family=\"Times,serif\" font-size=\"14.00\" fill=\"#000000\">No</text>\n",
       "</g>\n",
       "<!-- 66 -->\n",
       "<g id=\"node67\" class=\"node\">\n",
       "<title>66</title>\n",
       "<polygon fill=\"none\" stroke=\"#ff0000\" points=\"469.5392,-36 389.5392,-36 389.5392,0 469.5392,0 469.5392,-36\"/>\n",
       "<text text-anchor=\"middle\" x=\"429.5392\" y=\"-14.3\" font-family=\"Times,serif\" font-size=\"14.00\" fill=\"#000000\">val = 0.000</text>\n",
       "</g>\n",
       "<!-- 32&#45;&gt;66 -->\n",
       "<g id=\"edge66\" class=\"edge\">\n",
       "<title>32&#45;&gt;66</title>\n",
       "<path fill=\"none\" stroke=\"#000000\" d=\"M392.2776,-86.9735C398.8316,-74.8418 407.5904,-58.6287 414.9693,-44.9698\"/>\n",
       "<polygon fill=\"#000000\" stroke=\"#000000\" points=\"418.1395,-46.4652 419.8133,-36.0034 411.9808,-43.138 418.1395,-46.4652\"/>\n",
       "<text text-anchor=\"middle\" x=\"420.5392\" y=\"-57.8\" font-family=\"Times,serif\" font-size=\"14.00\" fill=\"#000000\">Yes</text>\n",
       "</g>\n",
       "<!-- 67 -->\n",
       "<g id=\"node68\" class=\"node\">\n",
       "<title>67</title>\n",
       "<polygon fill=\"none\" stroke=\"#ff0000\" points=\"617.5392,-36 537.5392,-36 537.5392,0 617.5392,0 617.5392,-36\"/>\n",
       "<text text-anchor=\"middle\" x=\"577.5392\" y=\"-14.3\" font-family=\"Times,serif\" font-size=\"14.00\" fill=\"#000000\">val = 0.000</text>\n",
       "</g>\n",
       "<!-- 33&#45;&gt;67 -->\n",
       "<g id=\"edge67\" class=\"edge\">\n",
       "<title>33&#45;&gt;67</title>\n",
       "<path fill=\"none\" stroke=\"#000000\" d=\"M629.864,-86.9735C620.4836,-74.6085 607.8868,-58.0036 597.4035,-44.1847\"/>\n",
       "<polygon fill=\"#000000\" stroke=\"#000000\" points=\"600.0293,-41.8549 591.1969,-36.0034 594.4524,-46.0857 600.0293,-41.8549\"/>\n",
       "<text text-anchor=\"middle\" x=\"623.0392\" y=\"-57.8\" font-family=\"Times,serif\" font-size=\"14.00\" fill=\"#000000\">No</text>\n",
       "</g>\n",
       "<!-- 68 -->\n",
       "<g id=\"node69\" class=\"node\">\n",
       "<title>68</title>\n",
       "<polygon fill=\"none\" stroke=\"#ff0000\" points=\"715.5392,-36 635.5392,-36 635.5392,0 715.5392,0 715.5392,-36\"/>\n",
       "<text text-anchor=\"middle\" x=\"675.5392\" y=\"-14.3\" font-family=\"Times,serif\" font-size=\"14.00\" fill=\"#000000\">val = 0.000</text>\n",
       "</g>\n",
       "<!-- 33&#45;&gt;68 -->\n",
       "<g id=\"edge68\" class=\"edge\">\n",
       "<title>33&#45;&gt;68</title>\n",
       "<path fill=\"none\" stroke=\"#000000\" d=\"M650.1696,-86.9735C654.5461,-75.0751 660.3665,-59.2508 665.3284,-45.7606\"/>\n",
       "<polygon fill=\"#000000\" stroke=\"#000000\" points=\"668.75,-46.5969 668.9173,-36.0034 662.1803,-44.1804 668.75,-46.5969\"/>\n",
       "<text text-anchor=\"middle\" x=\"672.5392\" y=\"-57.8\" font-family=\"Times,serif\" font-size=\"14.00\" fill=\"#000000\">Yes</text>\n",
       "</g>\n",
       "<!-- 69 -->\n",
       "<g id=\"node70\" class=\"node\">\n",
       "<title>69</title>\n",
       "<polygon fill=\"none\" stroke=\"#ff0000\" points=\"869.5392,-36 789.5392,-36 789.5392,0 869.5392,0 869.5392,-36\"/>\n",
       "<text text-anchor=\"middle\" x=\"829.5392\" y=\"-14.3\" font-family=\"Times,serif\" font-size=\"14.00\" fill=\"#000000\">val = 0.000</text>\n",
       "</g>\n",
       "<!-- 34&#45;&gt;69 -->\n",
       "<g id=\"edge69\" class=\"edge\">\n",
       "<title>34&#45;&gt;69</title>\n",
       "<path fill=\"none\" stroke=\"#000000\" d=\"M888.9992,-86.9735C878.2391,-74.4919 863.7547,-57.6899 851.7757,-43.7944\"/>\n",
       "<polygon fill=\"#000000\" stroke=\"#000000\" points=\"854.2397,-41.2922 845.0594,-36.0034 848.9378,-45.8628 854.2397,-41.2922\"/>\n",
       "<text text-anchor=\"middle\" x=\"880.0392\" y=\"-57.8\" font-family=\"Times,serif\" font-size=\"14.00\" fill=\"#000000\">No</text>\n",
       "</g>\n",
       "<!-- 70 -->\n",
       "<g id=\"node71\" class=\"node\">\n",
       "<title>70</title>\n",
       "<polygon fill=\"none\" stroke=\"#ff0000\" points=\"967.5392,-36 887.5392,-36 887.5392,0 967.5392,0 967.5392,-36\"/>\n",
       "<text text-anchor=\"middle\" x=\"927.5392\" y=\"-14.3\" font-family=\"Times,serif\" font-size=\"14.00\" fill=\"#000000\">val = 0.000</text>\n",
       "</g>\n",
       "<!-- 34&#45;&gt;70 -->\n",
       "<g id=\"edge70\" class=\"edge\">\n",
       "<title>34&#45;&gt;70</title>\n",
       "<path fill=\"none\" stroke=\"#000000\" d=\"M909.3048,-86.9735C912.4504,-75.0751 916.6338,-59.2508 920.2002,-45.7606\"/>\n",
       "<polygon fill=\"#000000\" stroke=\"#000000\" points=\"923.6075,-46.5658 922.7797,-36.0034 916.84,-44.7766 923.6075,-46.5658\"/>\n",
       "<text text-anchor=\"middle\" x=\"928.5392\" y=\"-57.8\" font-family=\"Times,serif\" font-size=\"14.00\" fill=\"#000000\">Yes</text>\n",
       "</g>\n",
       "<!-- 71 -->\n",
       "<g id=\"node72\" class=\"node\">\n",
       "<title>71</title>\n",
       "<polygon fill=\"none\" stroke=\"#ff0000\" points=\"1132.5392,-36 1034.5392,-36 1034.5392,0 1132.5392,0 1132.5392,-36\"/>\n",
       "<text text-anchor=\"middle\" x=\"1083.5392\" y=\"-14.3\" font-family=\"Times,serif\" font-size=\"14.00\" fill=\"#000000\">val = &#45;567.216</text>\n",
       "</g>\n",
       "<!-- 35&#45;&gt;71 -->\n",
       "<g id=\"edge71\" class=\"edge\">\n",
       "<title>35&#45;&gt;71</title>\n",
       "<path fill=\"none\" stroke=\"#000000\" d=\"M1148.5488,-86.9735C1136.6745,-74.3752 1120.6517,-57.3755 1107.4847,-43.4055\"/>\n",
       "<polygon fill=\"#000000\" stroke=\"#000000\" points=\"1109.9138,-40.8799 1100.5079,-36.0034 1104.8198,-45.6811 1109.9138,-40.8799\"/>\n",
       "<text text-anchor=\"middle\" x=\"1138.0392\" y=\"-57.8\" font-family=\"Times,serif\" font-size=\"14.00\" fill=\"#000000\">No</text>\n",
       "</g>\n",
       "<!-- 72 -->\n",
       "<g id=\"node73\" class=\"node\">\n",
       "<title>72</title>\n",
       "<polygon fill=\"none\" stroke=\"#ff0000\" points=\"1230.5392,-36 1150.5392,-36 1150.5392,0 1230.5392,0 1230.5392,-36\"/>\n",
       "<text text-anchor=\"middle\" x=\"1190.5392\" y=\"-14.3\" font-family=\"Times,serif\" font-size=\"14.00\" fill=\"#000000\">val = 0.000</text>\n",
       "</g>\n",
       "<!-- 35&#45;&gt;72 -->\n",
       "<g id=\"edge72\" class=\"edge\">\n",
       "<title>35&#45;&gt;72</title>\n",
       "<path fill=\"none\" stroke=\"#000000\" d=\"M1170.7192,-86.9735C1174.1383,-75.0751 1178.6856,-59.2508 1182.562,-45.7606\"/>\n",
       "<polygon fill=\"#000000\" stroke=\"#000000\" points=\"1185.9678,-46.5811 1185.3658,-36.0034 1179.2401,-44.6478 1185.9678,-46.5811\"/>\n",
       "<text text-anchor=\"middle\" x=\"1190.5392\" y=\"-57.8\" font-family=\"Times,serif\" font-size=\"14.00\" fill=\"#000000\">Yes</text>\n",
       "</g>\n",
       "<!-- 73 -->\n",
       "<g id=\"node74\" class=\"node\">\n",
       "<title>73</title>\n",
       "<polygon fill=\"none\" stroke=\"#ff0000\" points=\"1417.0392,-36 1324.0392,-36 1324.0392,0 1417.0392,0 1417.0392,-36\"/>\n",
       "<text text-anchor=\"middle\" x=\"1370.5392\" y=\"-14.3\" font-family=\"Times,serif\" font-size=\"14.00\" fill=\"#000000\">val = 323.709</text>\n",
       "</g>\n",
       "<!-- 36&#45;&gt;73 -->\n",
       "<g id=\"edge73\" class=\"edge\">\n",
       "<title>36&#45;&gt;73</title>\n",
       "<path fill=\"none\" stroke=\"#000000\" d=\"M1414.936,-86.9735C1407.052,-74.7252 1396.4901,-58.3165 1387.646,-44.5766\"/>\n",
       "<polygon fill=\"#000000\" stroke=\"#000000\" points=\"1390.4831,-42.5176 1382.1276,-36.0034 1384.5971,-46.3064 1390.4831,-42.5176\"/>\n",
       "<text text-anchor=\"middle\" x=\"1411.0392\" y=\"-57.8\" font-family=\"Times,serif\" font-size=\"14.00\" fill=\"#000000\">No</text>\n",
       "</g>\n",
       "<!-- 74 -->\n",
       "<g id=\"node75\" class=\"node\">\n",
       "<title>74</title>\n",
       "<polygon fill=\"none\" stroke=\"#ff0000\" points=\"1515.5392,-36 1435.5392,-36 1435.5392,0 1515.5392,0 1515.5392,-36\"/>\n",
       "<text text-anchor=\"middle\" x=\"1475.5392\" y=\"-14.3\" font-family=\"Times,serif\" font-size=\"14.00\" fill=\"#000000\">val = 0.000</text>\n",
       "</g>\n",
       "<!-- 36&#45;&gt;74 -->\n",
       "<g id=\"edge74\" class=\"edge\">\n",
       "<title>36&#45;&gt;74</title>\n",
       "<path fill=\"none\" stroke=\"#000000\" d=\"M1436.692,-86.9735C1443.5249,-74.8418 1452.6564,-58.6287 1460.3493,-44.9698\"/>\n",
       "<polygon fill=\"#000000\" stroke=\"#000000\" points=\"1463.5416,-46.4341 1465.3994,-36.0034 1457.4424,-42.9989 1463.5416,-46.4341\"/>\n",
       "<text text-anchor=\"middle\" x=\"1465.5392\" y=\"-57.8\" font-family=\"Times,serif\" font-size=\"14.00\" fill=\"#000000\">Yes</text>\n",
       "</g>\n",
       "<!-- 75 -->\n",
       "<g id=\"node76\" class=\"node\">\n",
       "<title>75</title>\n",
       "<polygon fill=\"none\" stroke=\"#ff0000\" points=\"1694.5392,-36 1614.5392,-36 1614.5392,0 1694.5392,0 1694.5392,-36\"/>\n",
       "<text text-anchor=\"middle\" x=\"1654.5392\" y=\"-14.3\" font-family=\"Times,serif\" font-size=\"14.00\" fill=\"#000000\">val = 0.000</text>\n",
       "</g>\n",
       "<!-- 37&#45;&gt;75 -->\n",
       "<g id=\"edge75\" class=\"edge\">\n",
       "<title>37&#45;&gt;75</title>\n",
       "<path fill=\"none\" stroke=\"#000000\" d=\"M1680.7016,-86.9735C1676.1442,-74.9585 1670.0682,-58.9401 1664.9189,-45.3646\"/>\n",
       "<polygon fill=\"#000000\" stroke=\"#000000\" points=\"1668.1872,-44.112 1661.3681,-36.0034 1661.6422,-46.5947 1668.1872,-44.112\"/>\n",
       "<text text-anchor=\"middle\" x=\"1682.0392\" y=\"-57.8\" font-family=\"Times,serif\" font-size=\"14.00\" fill=\"#000000\">No</text>\n",
       "</g>\n",
       "<!-- 76 -->\n",
       "<g id=\"node77\" class=\"node\">\n",
       "<title>76</title>\n",
       "<polygon fill=\"none\" stroke=\"#ff0000\" points=\"1792.5392,-36 1712.5392,-36 1712.5392,0 1792.5392,0 1792.5392,-36\"/>\n",
       "<text text-anchor=\"middle\" x=\"1752.5392\" y=\"-14.3\" font-family=\"Times,serif\" font-size=\"14.00\" fill=\"#000000\">val = 0.000</text>\n",
       "</g>\n",
       "<!-- 37&#45;&gt;76 -->\n",
       "<g id=\"edge76\" class=\"edge\">\n",
       "<title>37&#45;&gt;76</title>\n",
       "<path fill=\"none\" stroke=\"#000000\" d=\"M1701.0073,-86.9735C1710.2455,-74.6085 1722.6515,-58.0036 1732.9759,-44.1847\"/>\n",
       "<polygon fill=\"#000000\" stroke=\"#000000\" points=\"1735.907,-46.1093 1739.0884,-36.0034 1730.2993,-41.9196 1735.907,-46.1093\"/>\n",
       "<text text-anchor=\"middle\" x=\"1735.5392\" y=\"-57.8\" font-family=\"Times,serif\" font-size=\"14.00\" fill=\"#000000\">Yes</text>\n",
       "</g>\n",
       "<!-- 77 -->\n",
       "<g id=\"node78\" class=\"node\">\n",
       "<title>77</title>\n",
       "<polygon fill=\"none\" stroke=\"#ff0000\" points=\"1922.5392,-36 1842.5392,-36 1842.5392,0 1922.5392,0 1922.5392,-36\"/>\n",
       "<text text-anchor=\"middle\" x=\"1882.5392\" y=\"-14.3\" font-family=\"Times,serif\" font-size=\"14.00\" fill=\"#000000\">val = 0.000</text>\n",
       "</g>\n",
       "<!-- 38&#45;&gt;77 -->\n",
       "<g id=\"edge77\" class=\"edge\">\n",
       "<title>38&#45;&gt;77</title>\n",
       "<path fill=\"none\" stroke=\"#000000\" d=\"M1934.864,-86.9735C1925.4836,-74.6085 1912.8868,-58.0036 1902.4035,-44.1847\"/>\n",
       "<polygon fill=\"#000000\" stroke=\"#000000\" points=\"1905.0293,-41.8549 1896.1969,-36.0034 1899.4524,-46.0857 1905.0293,-41.8549\"/>\n",
       "<text text-anchor=\"middle\" x=\"1928.0392\" y=\"-57.8\" font-family=\"Times,serif\" font-size=\"14.00\" fill=\"#000000\">No</text>\n",
       "</g>\n",
       "<!-- 78 -->\n",
       "<g id=\"node79\" class=\"node\">\n",
       "<title>78</title>\n",
       "<polygon fill=\"none\" stroke=\"#ff0000\" points=\"2020.5392,-36 1940.5392,-36 1940.5392,0 2020.5392,0 2020.5392,-36\"/>\n",
       "<text text-anchor=\"middle\" x=\"1980.5392\" y=\"-14.3\" font-family=\"Times,serif\" font-size=\"14.00\" fill=\"#000000\">val = 0.000</text>\n",
       "</g>\n",
       "<!-- 38&#45;&gt;78 -->\n",
       "<g id=\"edge78\" class=\"edge\">\n",
       "<title>38&#45;&gt;78</title>\n",
       "<path fill=\"none\" stroke=\"#000000\" d=\"M1955.1696,-86.9735C1959.5461,-75.0751 1965.3665,-59.2508 1970.3284,-45.7606\"/>\n",
       "<polygon fill=\"#000000\" stroke=\"#000000\" points=\"1973.75,-46.5969 1973.9173,-36.0034 1967.1803,-44.1804 1973.75,-46.5969\"/>\n",
       "<text text-anchor=\"middle\" x=\"1977.5392\" y=\"-57.8\" font-family=\"Times,serif\" font-size=\"14.00\" fill=\"#000000\">Yes</text>\n",
       "</g>\n",
       "<!-- 79 -->\n",
       "<g id=\"node80\" class=\"node\">\n",
       "<title>79</title>\n",
       "<polygon fill=\"none\" stroke=\"#ff0000\" points=\"2200.5392,-36 2120.5392,-36 2120.5392,0 2200.5392,0 2200.5392,-36\"/>\n",
       "<text text-anchor=\"middle\" x=\"2160.5392\" y=\"-14.3\" font-family=\"Times,serif\" font-size=\"14.00\" fill=\"#000000\">val = 0.000</text>\n",
       "</g>\n",
       "<!-- 39&#45;&gt;79 -->\n",
       "<g id=\"edge79\" class=\"edge\">\n",
       "<title>39&#45;&gt;79</title>\n",
       "<path fill=\"none\" stroke=\"#000000\" d=\"M2199.3864,-86.9735C2192.5536,-74.8418 2183.422,-58.6287 2175.7291,-44.9698\"/>\n",
       "<polygon fill=\"#000000\" stroke=\"#000000\" points=\"2178.636,-42.9989 2170.679,-36.0034 2172.5369,-46.4341 2178.636,-42.9989\"/>\n",
       "<text text-anchor=\"middle\" x=\"2197.0392\" y=\"-57.8\" font-family=\"Times,serif\" font-size=\"14.00\" fill=\"#000000\">No</text>\n",
       "</g>\n",
       "<!-- 80 -->\n",
       "<g id=\"node81\" class=\"node\">\n",
       "<title>80</title>\n",
       "<polygon fill=\"none\" stroke=\"#ff0000\" points=\"2298.5392,-36 2218.5392,-36 2218.5392,0 2298.5392,0 2298.5392,-36\"/>\n",
       "<text text-anchor=\"middle\" x=\"2258.5392\" y=\"-14.3\" font-family=\"Times,serif\" font-size=\"14.00\" fill=\"#000000\">val = 0.000</text>\n",
       "</g>\n",
       "<!-- 39&#45;&gt;80 -->\n",
       "<g id=\"edge80\" class=\"edge\">\n",
       "<title>39&#45;&gt;80</title>\n",
       "<path fill=\"none\" stroke=\"#000000\" d=\"M2219.692,-86.9735C2226.5249,-74.8418 2235.6564,-58.6287 2243.3493,-44.9698\"/>\n",
       "<polygon fill=\"#000000\" stroke=\"#000000\" points=\"2246.5416,-46.4341 2248.3994,-36.0034 2240.4424,-42.9989 2246.5416,-46.4341\"/>\n",
       "<text text-anchor=\"middle\" x=\"2248.5392\" y=\"-57.8\" font-family=\"Times,serif\" font-size=\"14.00\" fill=\"#000000\">Yes</text>\n",
       "</g>\n",
       "<!-- 81 -->\n",
       "<g id=\"node82\" class=\"node\">\n",
       "<title>81</title>\n",
       "<polygon fill=\"none\" stroke=\"#ff0000\" points=\"2464.0392,-36 2371.0392,-36 2371.0392,0 2464.0392,0 2464.0392,-36\"/>\n",
       "<text text-anchor=\"middle\" x=\"2417.5392\" y=\"-14.3\" font-family=\"Times,serif\" font-size=\"14.00\" fill=\"#000000\">val = 121.045</text>\n",
       "</g>\n",
       "<!-- 40&#45;&gt;81 -->\n",
       "<g id=\"edge81\" class=\"edge\">\n",
       "<title>40&#45;&gt;81</title>\n",
       "<path fill=\"none\" stroke=\"#000000\" d=\"M2459.5576,-86.9735C2452.0959,-74.7252 2442.0998,-58.3165 2433.7295,-44.5766\"/>\n",
       "<polygon fill=\"#000000\" stroke=\"#000000\" points=\"2436.6984,-42.7225 2428.5068,-36.0034 2430.7204,-46.3644 2436.6984,-42.7225\"/>\n",
       "<text text-anchor=\"middle\" x=\"2456.0392\" y=\"-57.8\" font-family=\"Times,serif\" font-size=\"14.00\" fill=\"#000000\">No</text>\n",
       "</g>\n",
       "<!-- 82 -->\n",
       "<g id=\"node83\" class=\"node\">\n",
       "<title>82</title>\n",
       "<polygon fill=\"none\" stroke=\"#ff0000\" points=\"2575.0392,-36 2482.0392,-36 2482.0392,0 2575.0392,0 2575.0392,-36\"/>\n",
       "<text text-anchor=\"middle\" x=\"2528.5392\" y=\"-14.3\" font-family=\"Times,serif\" font-size=\"14.00\" fill=\"#000000\">val = 652.239</text>\n",
       "</g>\n",
       "<!-- 40&#45;&gt;82 -->\n",
       "<g id=\"edge82\" class=\"edge\">\n",
       "<title>40&#45;&gt;82</title>\n",
       "<path fill=\"none\" stroke=\"#000000\" d=\"M2482.5569,-86.9735C2490.7224,-74.7252 2501.6615,-58.3165 2510.8215,-44.5766\"/>\n",
       "<polygon fill=\"#000000\" stroke=\"#000000\" points=\"2513.9021,-46.2653 2516.537,-36.0034 2508.0777,-42.3824 2513.9021,-46.2653\"/>\n",
       "<text text-anchor=\"middle\" x=\"2514.5392\" y=\"-57.8\" font-family=\"Times,serif\" font-size=\"14.00\" fill=\"#000000\">Yes</text>\n",
       "</g>\n",
       "<!-- 83 -->\n",
       "<g id=\"node84\" class=\"node\">\n",
       "<title>83</title>\n",
       "<polygon fill=\"none\" stroke=\"#ff0000\" points=\"2722.5392,-36 2642.5392,-36 2642.5392,0 2722.5392,0 2722.5392,-36\"/>\n",
       "<text text-anchor=\"middle\" x=\"2682.5392\" y=\"-14.3\" font-family=\"Times,serif\" font-size=\"14.00\" fill=\"#000000\">val = 0.000</text>\n",
       "</g>\n",
       "<!-- 41&#45;&gt;83 -->\n",
       "<g id=\"edge83\" class=\"edge\">\n",
       "<title>41&#45;&gt;83</title>\n",
       "<path fill=\"none\" stroke=\"#000000\" d=\"M2721.3864,-86.9735C2714.5536,-74.8418 2705.422,-58.6287 2697.7291,-44.9698\"/>\n",
       "<polygon fill=\"#000000\" stroke=\"#000000\" points=\"2700.636,-42.9989 2692.679,-36.0034 2694.5369,-46.4341 2700.636,-42.9989\"/>\n",
       "<text text-anchor=\"middle\" x=\"2719.0392\" y=\"-57.8\" font-family=\"Times,serif\" font-size=\"14.00\" fill=\"#000000\">No</text>\n",
       "</g>\n",
       "<!-- 84 -->\n",
       "<g id=\"node85\" class=\"node\">\n",
       "<title>84</title>\n",
       "<polygon fill=\"none\" stroke=\"#ff0000\" points=\"2820.5392,-36 2740.5392,-36 2740.5392,0 2820.5392,0 2820.5392,-36\"/>\n",
       "<text text-anchor=\"middle\" x=\"2780.5392\" y=\"-14.3\" font-family=\"Times,serif\" font-size=\"14.00\" fill=\"#000000\">val = 0.000</text>\n",
       "</g>\n",
       "<!-- 41&#45;&gt;84 -->\n",
       "<g id=\"edge84\" class=\"edge\">\n",
       "<title>41&#45;&gt;84</title>\n",
       "<path fill=\"none\" stroke=\"#000000\" d=\"M2741.692,-86.9735C2748.5249,-74.8418 2757.6564,-58.6287 2765.3493,-44.9698\"/>\n",
       "<polygon fill=\"#000000\" stroke=\"#000000\" points=\"2768.5416,-46.4341 2770.3994,-36.0034 2762.4424,-42.9989 2768.5416,-46.4341\"/>\n",
       "<text text-anchor=\"middle\" x=\"2770.5392\" y=\"-57.8\" font-family=\"Times,serif\" font-size=\"14.00\" fill=\"#000000\">Yes</text>\n",
       "</g>\n",
       "<!-- 85 -->\n",
       "<g id=\"node86\" class=\"node\">\n",
       "<title>85</title>\n",
       "<polygon fill=\"none\" stroke=\"#ff0000\" points=\"2986.5392,-36 2906.5392,-36 2906.5392,0 2986.5392,0 2986.5392,-36\"/>\n",
       "<text text-anchor=\"middle\" x=\"2946.5392\" y=\"-14.3\" font-family=\"Times,serif\" font-size=\"14.00\" fill=\"#000000\">val = 0.000</text>\n",
       "</g>\n",
       "<!-- 42&#45;&gt;85 -->\n",
       "<g id=\"edge85\" class=\"edge\">\n",
       "<title>42&#45;&gt;85</title>\n",
       "<path fill=\"none\" stroke=\"#000000\" d=\"M2983.008,-86.9735C2976.5935,-74.8418 2968.021,-58.6287 2960.7991,-44.9698\"/>\n",
       "<polygon fill=\"#000000\" stroke=\"#000000\" points=\"2963.8266,-43.2077 2956.0582,-36.0034 2957.6384,-46.4797 2963.8266,-43.2077\"/>\n",
       "<text text-anchor=\"middle\" x=\"2981.0392\" y=\"-57.8\" font-family=\"Times,serif\" font-size=\"14.00\" fill=\"#000000\">No</text>\n",
       "</g>\n",
       "<!-- 86 -->\n",
       "<g id=\"node87\" class=\"node\">\n",
       "<title>86</title>\n",
       "<polygon fill=\"none\" stroke=\"#ff0000\" points=\"3104.5392,-36 3004.5392,-36 3004.5392,0 3104.5392,0 3104.5392,-36\"/>\n",
       "<text text-anchor=\"middle\" x=\"3054.5392\" y=\"-14.3\" font-family=\"Times,serif\" font-size=\"14.00\" fill=\"#000000\">val = 1984.862</text>\n",
       "</g>\n",
       "<!-- 42&#45;&gt;86 -->\n",
       "<g id=\"edge86\" class=\"edge\">\n",
       "<title>42&#45;&gt;86</title>\n",
       "<path fill=\"none\" stroke=\"#000000\" d=\"M3005.3857,-86.9735C3014.1975,-74.6085 3026.0309,-58.0036 3035.8788,-44.1847\"/>\n",
       "<polygon fill=\"#000000\" stroke=\"#000000\" points=\"3038.756,-46.1783 3041.7092,-36.0034 3033.0554,-42.1158 3038.756,-46.1783\"/>\n",
       "<text text-anchor=\"middle\" x=\"3038.5392\" y=\"-57.8\" font-family=\"Times,serif\" font-size=\"14.00\" fill=\"#000000\">Yes</text>\n",
       "</g>\n",
       "<!-- 87 -->\n",
       "<g id=\"node88\" class=\"node\">\n",
       "<title>87</title>\n",
       "<polygon fill=\"none\" stroke=\"#ff0000\" points=\"3221.5392,-36 3141.5392,-36 3141.5392,0 3221.5392,0 3221.5392,-36\"/>\n",
       "<text text-anchor=\"middle\" x=\"3181.5392\" y=\"-14.3\" font-family=\"Times,serif\" font-size=\"14.00\" fill=\"#000000\">val = 0.000</text>\n",
       "</g>\n",
       "<!-- 43&#45;&gt;87 -->\n",
       "<g id=\"edge87\" class=\"edge\">\n",
       "<title>43&#45;&gt;87</title>\n",
       "<path fill=\"none\" stroke=\"#000000\" d=\"M3238.6208,-86.9735C3228.2911,-74.4919 3214.386,-57.6899 3202.8863,-43.7944\"/>\n",
       "<polygon fill=\"#000000\" stroke=\"#000000\" points=\"3205.5107,-41.4758 3196.4386,-36.0034 3200.1179,-45.9388 3205.5107,-41.4758\"/>\n",
       "<text text-anchor=\"middle\" x=\"3231.0392\" y=\"-57.8\" font-family=\"Times,serif\" font-size=\"14.00\" fill=\"#000000\">No</text>\n",
       "</g>\n",
       "<!-- 88 -->\n",
       "<g id=\"node89\" class=\"node\">\n",
       "<title>88</title>\n",
       "<polygon fill=\"none\" stroke=\"#ff0000\" points=\"3319.5392,-36 3239.5392,-36 3239.5392,0 3319.5392,0 3319.5392,-36\"/>\n",
       "<text text-anchor=\"middle\" x=\"3279.5392\" y=\"-14.3\" font-family=\"Times,serif\" font-size=\"14.00\" fill=\"#000000\">val = 0.000</text>\n",
       "</g>\n",
       "<!-- 43&#45;&gt;88 -->\n",
       "<g id=\"edge88\" class=\"edge\">\n",
       "<title>43&#45;&gt;88</title>\n",
       "<path fill=\"none\" stroke=\"#000000\" d=\"M3258.9264,-86.9735C3262.4823,-75.0751 3267.2114,-59.2508 3271.2429,-45.7606\"/>\n",
       "<polygon fill=\"#000000\" stroke=\"#000000\" points=\"3274.6489,-46.5869 3274.1589,-36.0034 3267.942,-44.5825 3274.6489,-46.5869\"/>\n",
       "<text text-anchor=\"middle\" x=\"3279.5392\" y=\"-57.8\" font-family=\"Times,serif\" font-size=\"14.00\" fill=\"#000000\">Yes</text>\n",
       "</g>\n",
       "<!-- 89 -->\n",
       "<g id=\"node90\" class=\"node\">\n",
       "<title>89</title>\n",
       "<polygon fill=\"none\" stroke=\"#ff0000\" points=\"3501.0392,-36 3408.0392,-36 3408.0392,0 3501.0392,0 3501.0392,-36\"/>\n",
       "<text text-anchor=\"middle\" x=\"3454.5392\" y=\"-14.3\" font-family=\"Times,serif\" font-size=\"14.00\" fill=\"#000000\">val = 913.384</text>\n",
       "</g>\n",
       "<!-- 44&#45;&gt;89 -->\n",
       "<g id=\"edge89\" class=\"edge\">\n",
       "<title>44&#45;&gt;89</title>\n",
       "<path fill=\"none\" stroke=\"#000000\" d=\"M3502.1072,-86.9735C3493.66,-74.7252 3482.3437,-58.3165 3472.8679,-44.5766\"/>\n",
       "<polygon fill=\"#000000\" stroke=\"#000000\" points=\"3475.5139,-42.2484 3466.9553,-36.0034 3469.7514,-46.2226 3475.5139,-42.2484\"/>\n",
       "<text text-anchor=\"middle\" x=\"3497.0392\" y=\"-57.8\" font-family=\"Times,serif\" font-size=\"14.00\" fill=\"#000000\">No</text>\n",
       "</g>\n",
       "<!-- 90 -->\n",
       "<g id=\"node91\" class=\"node\">\n",
       "<title>90</title>\n",
       "<polygon fill=\"none\" stroke=\"#ff0000\" points=\"3619.5392,-36 3519.5392,-36 3519.5392,0 3619.5392,0 3619.5392,-36\"/>\n",
       "<text text-anchor=\"middle\" x=\"3569.5392\" y=\"-14.3\" font-family=\"Times,serif\" font-size=\"14.00\" fill=\"#000000\">val = 1724.327</text>\n",
       "</g>\n",
       "<!-- 44&#45;&gt;90 -->\n",
       "<g id=\"edge90\" class=\"edge\">\n",
       "<title>44&#45;&gt;90</title>\n",
       "<path fill=\"none\" stroke=\"#000000\" d=\"M3525.9353,-86.9735C3533.6785,-74.7252 3544.0518,-58.3165 3552.7379,-44.5766\"/>\n",
       "<polygon fill=\"#000000\" stroke=\"#000000\" points=\"3555.7726,-46.3262 3558.1578,-36.0034 3549.8557,-42.5857 3555.7726,-46.3262\"/>\n",
       "<text text-anchor=\"middle\" x=\"3556.5392\" y=\"-57.8\" font-family=\"Times,serif\" font-size=\"14.00\" fill=\"#000000\">Yes</text>\n",
       "</g>\n",
       "<!-- 91 -->\n",
       "<g id=\"node92\" class=\"node\">\n",
       "<title>91</title>\n",
       "<polygon fill=\"none\" stroke=\"#ff0000\" points=\"3744.5392,-36 3664.5392,-36 3664.5392,0 3744.5392,0 3744.5392,-36\"/>\n",
       "<text text-anchor=\"middle\" x=\"3704.5392\" y=\"-14.3\" font-family=\"Times,serif\" font-size=\"14.00\" fill=\"#000000\">val = 0.000</text>\n",
       "</g>\n",
       "<!-- 45&#45;&gt;91 -->\n",
       "<g id=\"edge91\" class=\"edge\">\n",
       "<title>45&#45;&gt;91</title>\n",
       "<path fill=\"none\" stroke=\"#000000\" d=\"M3760.828,-86.9735C3750.6418,-74.4919 3736.9298,-57.6899 3725.5898,-43.7944\"/>\n",
       "<polygon fill=\"#000000\" stroke=\"#000000\" points=\"3728.266,-41.5379 3719.2316,-36.0034 3722.8427,-45.9638 3728.266,-41.5379\"/>\n",
       "<text text-anchor=\"middle\" x=\"3753.0392\" y=\"-57.8\" font-family=\"Times,serif\" font-size=\"14.00\" fill=\"#000000\">No</text>\n",
       "</g>\n",
       "<!-- 92 -->\n",
       "<g id=\"node93\" class=\"node\">\n",
       "<title>92</title>\n",
       "<polygon fill=\"none\" stroke=\"#ff0000\" points=\"3842.5392,-36 3762.5392,-36 3762.5392,0 3842.5392,0 3842.5392,-36\"/>\n",
       "<text text-anchor=\"middle\" x=\"3802.5392\" y=\"-14.3\" font-family=\"Times,serif\" font-size=\"14.00\" fill=\"#000000\">val = 0.000</text>\n",
       "</g>\n",
       "<!-- 45&#45;&gt;92 -->\n",
       "<g id=\"edge92\" class=\"edge\">\n",
       "<title>45&#45;&gt;92</title>\n",
       "<path fill=\"none\" stroke=\"#000000\" d=\"M3781.1336,-86.9735C3784.8262,-75.0751 3789.7373,-59.2508 3793.9238,-45.7606\"/>\n",
       "<polygon fill=\"#000000\" stroke=\"#000000\" points=\"3797.3306,-46.5914 3796.952,-36.0034 3790.6452,-44.5166 3797.3306,-46.5914\"/>\n",
       "<text text-anchor=\"middle\" x=\"3802.5392\" y=\"-57.8\" font-family=\"Times,serif\" font-size=\"14.00\" fill=\"#000000\">Yes</text>\n",
       "</g>\n",
       "<!-- 93 -->\n",
       "<g id=\"node94\" class=\"node\">\n",
       "<title>93</title>\n",
       "<polygon fill=\"none\" stroke=\"#ff0000\" points=\"4022.5392,-36 3942.5392,-36 3942.5392,0 4022.5392,0 4022.5392,-36\"/>\n",
       "<text text-anchor=\"middle\" x=\"3982.5392\" y=\"-14.3\" font-family=\"Times,serif\" font-size=\"14.00\" fill=\"#000000\">val = 0.000</text>\n",
       "</g>\n",
       "<!-- 46&#45;&gt;93 -->\n",
       "<g id=\"edge93\" class=\"edge\">\n",
       "<title>46&#45;&gt;93</title>\n",
       "<path fill=\"none\" stroke=\"#000000\" d=\"M4025.3504,-86.9735C4017.7479,-74.7252 4007.5633,-58.3165 3999.035,-44.5766\"/>\n",
       "<polygon fill=\"#000000\" stroke=\"#000000\" points=\"4001.9611,-42.654 3993.7137,-36.0034 3996.0136,-46.3456 4001.9611,-42.654\"/>\n",
       "<text text-anchor=\"middle\" x=\"4022.0392\" y=\"-57.8\" font-family=\"Times,serif\" font-size=\"14.00\" fill=\"#000000\">No</text>\n",
       "</g>\n",
       "<!-- 94 -->\n",
       "<g id=\"node95\" class=\"node\">\n",
       "<title>94</title>\n",
       "<polygon fill=\"none\" stroke=\"#ff0000\" points=\"4140.5392,-36 4040.5392,-36 4040.5392,0 4140.5392,0 4140.5392,-36\"/>\n",
       "<text text-anchor=\"middle\" x=\"4090.5392\" y=\"-14.3\" font-family=\"Times,serif\" font-size=\"14.00\" fill=\"#000000\">val = 2311.131</text>\n",
       "</g>\n",
       "<!-- 46&#45;&gt;94 -->\n",
       "<g id=\"edge94\" class=\"edge\">\n",
       "<title>46&#45;&gt;94</title>\n",
       "<path fill=\"none\" stroke=\"#000000\" d=\"M4047.7281,-86.9735C4055.3305,-74.7252 4065.5152,-58.3165 4074.0434,-44.5766\"/>\n",
       "<polygon fill=\"#000000\" stroke=\"#000000\" points=\"4077.0648,-46.3456 4079.3647,-36.0034 4071.1173,-42.654 4077.0648,-46.3456\"/>\n",
       "<text text-anchor=\"middle\" x=\"4078.5392\" y=\"-57.8\" font-family=\"Times,serif\" font-size=\"14.00\" fill=\"#000000\">Yes</text>\n",
       "</g>\n",
       "<!-- 95 -->\n",
       "<g id=\"node96\" class=\"node\">\n",
       "<title>95</title>\n",
       "<polygon fill=\"none\" stroke=\"#ff0000\" points=\"4301.5392,-36 4203.5392,-36 4203.5392,0 4301.5392,0 4301.5392,-36\"/>\n",
       "<text text-anchor=\"middle\" x=\"4252.5392\" y=\"-14.3\" font-family=\"Times,serif\" font-size=\"14.00\" fill=\"#000000\">val = &#45;700.579</text>\n",
       "</g>\n",
       "<!-- 47&#45;&gt;95 -->\n",
       "<g id=\"edge95\" class=\"edge\">\n",
       "<title>47&#45;&gt;95</title>\n",
       "<path fill=\"none\" stroke=\"#000000\" d=\"M4288.2152,-86.9735C4281.9402,-74.8418 4273.554,-58.6287 4266.4891,-44.9698\"/>\n",
       "<polygon fill=\"#000000\" stroke=\"#000000\" points=\"4269.5543,-43.2776 4261.8513,-36.0034 4263.3368,-46.4935 4269.5543,-43.2776\"/>\n",
       "<text text-anchor=\"middle\" x=\"4287.0392\" y=\"-57.8\" font-family=\"Times,serif\" font-size=\"14.00\" fill=\"#000000\">No</text>\n",
       "</g>\n",
       "<!-- 96 -->\n",
       "<g id=\"node97\" class=\"node\">\n",
       "<title>96</title>\n",
       "<polygon fill=\"none\" stroke=\"#ff0000\" points=\"4399.5392,-36 4319.5392,-36 4319.5392,0 4399.5392,0 4399.5392,-36\"/>\n",
       "<text text-anchor=\"middle\" x=\"4359.5392\" y=\"-14.3\" font-family=\"Times,serif\" font-size=\"14.00\" fill=\"#000000\">val = 0.000</text>\n",
       "</g>\n",
       "<!-- 47&#45;&gt;96 -->\n",
       "<g id=\"edge96\" class=\"edge\">\n",
       "<title>47&#45;&gt;96</title>\n",
       "<path fill=\"none\" stroke=\"#000000\" d=\"M4310.3857,-86.9735C4319.1975,-74.6085 4331.0309,-58.0036 4340.8788,-44.1847\"/>\n",
       "<polygon fill=\"#000000\" stroke=\"#000000\" points=\"4343.756,-46.1783 4346.7092,-36.0034 4338.0554,-42.1158 4343.756,-46.1783\"/>\n",
       "<text text-anchor=\"middle\" x=\"4343.5392\" y=\"-57.8\" font-family=\"Times,serif\" font-size=\"14.00\" fill=\"#000000\">Yes</text>\n",
       "</g>\n",
       "<!-- 97 -->\n",
       "<g id=\"node98\" class=\"node\">\n",
       "<title>97</title>\n",
       "<polygon fill=\"none\" stroke=\"#ff0000\" points=\"4585.5392,-36 4487.5392,-36 4487.5392,0 4585.5392,0 4585.5392,-36\"/>\n",
       "<text text-anchor=\"middle\" x=\"4536.5392\" y=\"-14.3\" font-family=\"Times,serif\" font-size=\"14.00\" fill=\"#000000\">val = &#45;141.269</text>\n",
       "</g>\n",
       "<!-- 48&#45;&gt;97 -->\n",
       "<g id=\"edge97\" class=\"edge\">\n",
       "<title>48&#45;&gt;97</title>\n",
       "<path fill=\"none\" stroke=\"#000000\" d=\"M4553.9808,-86.9735C4550.972,-75.0751 4546.9704,-59.2508 4543.5591,-45.7606\"/>\n",
       "<polygon fill=\"#000000\" stroke=\"#000000\" points=\"4546.9366,-44.8401 4541.0918,-36.0034 4540.1502,-46.5563 4546.9366,-44.8401\"/>\n",
       "<text text-anchor=\"middle\" x=\"4558.0392\" y=\"-57.8\" font-family=\"Times,serif\" font-size=\"14.00\" fill=\"#000000\">No</text>\n",
       "</g>\n",
       "<!-- 98 -->\n",
       "<g id=\"node99\" class=\"node\">\n",
       "<title>98</title>\n",
       "<polygon fill=\"none\" stroke=\"#ff0000\" points=\"4683.5392,-36 4603.5392,-36 4603.5392,0 4683.5392,0 4683.5392,-36\"/>\n",
       "<text text-anchor=\"middle\" x=\"4643.5392\" y=\"-14.3\" font-family=\"Times,serif\" font-size=\"14.00\" fill=\"#000000\">val = 0.000</text>\n",
       "</g>\n",
       "<!-- 48&#45;&gt;98 -->\n",
       "<g id=\"edge98\" class=\"edge\">\n",
       "<title>48&#45;&gt;98</title>\n",
       "<path fill=\"none\" stroke=\"#000000\" d=\"M4576.1513,-86.9735C4588.46,-74.3752 4605.0689,-57.3755 4618.7177,-43.4055\"/>\n",
       "<polygon fill=\"#000000\" stroke=\"#000000\" points=\"4621.4648,-45.6021 4625.9497,-36.0034 4616.4578,-40.7103 4621.4648,-45.6021\"/>\n",
       "<text text-anchor=\"middle\" x=\"4617.5392\" y=\"-57.8\" font-family=\"Times,serif\" font-size=\"14.00\" fill=\"#000000\">Yes</text>\n",
       "</g>\n",
       "<!-- 99 -->\n",
       "<g id=\"node100\" class=\"node\">\n",
       "<title>99</title>\n",
       "<polygon fill=\"none\" stroke=\"#ff0000\" points=\"4783.5392,-36 4703.5392,-36 4703.5392,0 4783.5392,0 4783.5392,-36\"/>\n",
       "<text text-anchor=\"middle\" x=\"4743.5392\" y=\"-14.3\" font-family=\"Times,serif\" font-size=\"14.00\" fill=\"#000000\">val = 0.000</text>\n",
       "</g>\n",
       "<!-- 49&#45;&gt;99 -->\n",
       "<g id=\"edge99\" class=\"edge\">\n",
       "<title>49&#45;&gt;99</title>\n",
       "<path fill=\"none\" stroke=\"#000000\" d=\"M4803.792,-86.9735C4792.8884,-74.4919 4778.2109,-57.6899 4766.0722,-43.7944\"/>\n",
       "<polygon fill=\"#000000\" stroke=\"#000000\" points=\"4768.4811,-41.2319 4759.2663,-36.0034 4763.2093,-45.8371 4768.4811,-41.2319\"/>\n",
       "<text text-anchor=\"middle\" x=\"4795.0392\" y=\"-57.8\" font-family=\"Times,serif\" font-size=\"14.00\" fill=\"#000000\">No</text>\n",
       "</g>\n",
       "<!-- 100 -->\n",
       "<g id=\"node101\" class=\"node\">\n",
       "<title>100</title>\n",
       "<polygon fill=\"none\" stroke=\"#ff0000\" points=\"4881.5392,-36 4801.5392,-36 4801.5392,0 4881.5392,0 4881.5392,-36\"/>\n",
       "<text text-anchor=\"middle\" x=\"4841.5392\" y=\"-14.3\" font-family=\"Times,serif\" font-size=\"14.00\" fill=\"#000000\">val = 0.000</text>\n",
       "</g>\n",
       "<!-- 49&#45;&gt;100 -->\n",
       "<g id=\"edge100\" class=\"edge\">\n",
       "<title>49&#45;&gt;100</title>\n",
       "<path fill=\"none\" stroke=\"#000000\" d=\"M4824.0976,-86.9735C4827.1064,-75.0751 4831.108,-59.2508 4834.5193,-45.7606\"/>\n",
       "<polygon fill=\"#000000\" stroke=\"#000000\" points=\"4837.9282,-46.5563 4836.9866,-36.0034 4831.1418,-44.8401 4837.9282,-46.5563\"/>\n",
       "<text text-anchor=\"middle\" x=\"4843.5392\" y=\"-57.8\" font-family=\"Times,serif\" font-size=\"14.00\" fill=\"#000000\">Yes</text>\n",
       "</g>\n",
       "<!-- 101 -->\n",
       "<g id=\"node102\" class=\"node\">\n",
       "<title>101</title>\n",
       "<polygon fill=\"none\" stroke=\"#ff0000\" points=\"5086.5392,-36 5006.5392,-36 5006.5392,0 5086.5392,0 5086.5392,-36\"/>\n",
       "<text text-anchor=\"middle\" x=\"5046.5392\" y=\"-14.3\" font-family=\"Times,serif\" font-size=\"14.00\" fill=\"#000000\">val = 0.000</text>\n",
       "</g>\n",
       "<!-- 50&#45;&gt;101 -->\n",
       "<g id=\"edge101\" class=\"edge\">\n",
       "<title>50&#45;&gt;101</title>\n",
       "<path fill=\"none\" stroke=\"#000000\" d=\"M5073.4944,-86.9735C5068.7988,-74.9585 5062.5388,-58.9401 5057.2334,-45.3646\"/>\n",
       "<polygon fill=\"#000000\" stroke=\"#000000\" points=\"5060.4749,-44.0434 5053.575,-36.0034 5053.9551,-46.5914 5060.4749,-44.0434\"/>\n",
       "<text text-anchor=\"middle\" x=\"5075.0392\" y=\"-57.8\" font-family=\"Times,serif\" font-size=\"14.00\" fill=\"#000000\">No</text>\n",
       "</g>\n",
       "<!-- 102 -->\n",
       "<g id=\"node103\" class=\"node\">\n",
       "<title>102</title>\n",
       "<polygon fill=\"none\" stroke=\"#ff0000\" points=\"5184.5392,-36 5104.5392,-36 5104.5392,0 5184.5392,0 5184.5392,-36\"/>\n",
       "<text text-anchor=\"middle\" x=\"5144.5392\" y=\"-14.3\" font-family=\"Times,serif\" font-size=\"14.00\" fill=\"#000000\">val = 0.000</text>\n",
       "</g>\n",
       "<!-- 50&#45;&gt;102 -->\n",
       "<g id=\"edge102\" class=\"edge\">\n",
       "<title>50&#45;&gt;102</title>\n",
       "<path fill=\"none\" stroke=\"#000000\" d=\"M5093.8001,-86.9735C5102.8962,-74.6085 5115.1113,-58.0036 5125.2769,-44.1847\"/>\n",
       "<polygon fill=\"#000000\" stroke=\"#000000\" points=\"5128.189,-46.1326 5131.2954,-36.0034 5122.5503,-41.9846 5128.189,-46.1326\"/>\n",
       "<text text-anchor=\"middle\" x=\"5127.5392\" y=\"-57.8\" font-family=\"Times,serif\" font-size=\"14.00\" fill=\"#000000\">Yes</text>\n",
       "</g>\n",
       "<!-- 103 -->\n",
       "<g id=\"node104\" class=\"node\">\n",
       "<title>103</title>\n",
       "<polygon fill=\"none\" stroke=\"#ff0000\" points=\"5317.5392,-36 5231.5392,-36 5231.5392,0 5317.5392,0 5317.5392,-36\"/>\n",
       "<text text-anchor=\"middle\" x=\"5274.5392\" y=\"-14.3\" font-family=\"Times,serif\" font-size=\"14.00\" fill=\"#000000\">val = 27.510</text>\n",
       "</g>\n",
       "<!-- 51&#45;&gt;103 -->\n",
       "<g id=\"edge103\" class=\"edge\">\n",
       "<title>51&#45;&gt;103</title>\n",
       "<path fill=\"none\" stroke=\"#000000\" d=\"M5327.6568,-86.9735C5318.1343,-74.6085 5305.3466,-58.0036 5294.7045,-44.1847\"/>\n",
       "<polygon fill=\"#000000\" stroke=\"#000000\" points=\"5297.2784,-41.7907 5288.4039,-36.0034 5291.7324,-46.0618 5297.2784,-41.7907\"/>\n",
       "<text text-anchor=\"middle\" x=\"5321.0392\" y=\"-57.8\" font-family=\"Times,serif\" font-size=\"14.00\" fill=\"#000000\">No</text>\n",
       "</g>\n",
       "<!-- 104 -->\n",
       "<g id=\"node105\" class=\"node\">\n",
       "<title>104</title>\n",
       "<polygon fill=\"none\" stroke=\"#ff0000\" points=\"5415.5392,-36 5335.5392,-36 5335.5392,0 5415.5392,0 5415.5392,-36\"/>\n",
       "<text text-anchor=\"middle\" x=\"5375.5392\" y=\"-14.3\" font-family=\"Times,serif\" font-size=\"14.00\" fill=\"#000000\">val = 0.000</text>\n",
       "</g>\n",
       "<!-- 51&#45;&gt;104 -->\n",
       "<g id=\"edge104\" class=\"edge\">\n",
       "<title>51&#45;&gt;104</title>\n",
       "<path fill=\"none\" stroke=\"#000000\" d=\"M5348.584,-86.9735C5353.2796,-74.9585 5359.5396,-58.9401 5364.845,-45.3646\"/>\n",
       "<polygon fill=\"#000000\" stroke=\"#000000\" points=\"5368.1233,-46.5914 5368.5034,-36.0034 5361.6035,-44.0434 5368.1233,-46.5914\"/>\n",
       "<text text-anchor=\"middle\" x=\"5372.5392\" y=\"-57.8\" font-family=\"Times,serif\" font-size=\"14.00\" fill=\"#000000\">Yes</text>\n",
       "</g>\n",
       "<!-- 105 -->\n",
       "<g id=\"node106\" class=\"node\">\n",
       "<title>105</title>\n",
       "<polygon fill=\"none\" stroke=\"#ff0000\" points=\"5598.5392,-36 5498.5392,-36 5498.5392,0 5598.5392,0 5598.5392,-36\"/>\n",
       "<text text-anchor=\"middle\" x=\"5548.5392\" y=\"-14.3\" font-family=\"Times,serif\" font-size=\"14.00\" fill=\"#000000\">val = 1080.622</text>\n",
       "</g>\n",
       "<!-- 52&#45;&gt;105 -->\n",
       "<g id=\"edge105\" class=\"edge\">\n",
       "<title>52&#45;&gt;105</title>\n",
       "<path fill=\"none\" stroke=\"#000000\" d=\"M5591.3504,-86.9735C5583.7479,-74.7252 5573.5633,-58.3165 5565.035,-44.5766\"/>\n",
       "<polygon fill=\"#000000\" stroke=\"#000000\" points=\"5567.9611,-42.654 5559.7137,-36.0034 5562.0136,-46.3456 5567.9611,-42.654\"/>\n",
       "<text text-anchor=\"middle\" x=\"5588.0392\" y=\"-57.8\" font-family=\"Times,serif\" font-size=\"14.00\" fill=\"#000000\">No</text>\n",
       "</g>\n",
       "<!-- 106 -->\n",
       "<g id=\"node107\" class=\"node\">\n",
       "<title>106</title>\n",
       "<polygon fill=\"none\" stroke=\"#ff0000\" points=\"5696.5392,-36 5616.5392,-36 5616.5392,0 5696.5392,0 5696.5392,-36\"/>\n",
       "<text text-anchor=\"middle\" x=\"5656.5392\" y=\"-14.3\" font-family=\"Times,serif\" font-size=\"14.00\" fill=\"#000000\">val = 0.000</text>\n",
       "</g>\n",
       "<!-- 52&#45;&gt;106 -->\n",
       "<g id=\"edge106\" class=\"edge\">\n",
       "<title>52&#45;&gt;106</title>\n",
       "<path fill=\"none\" stroke=\"#000000\" d=\"M5613.7281,-86.9735C5621.3305,-74.7252 5631.5152,-58.3165 5640.0434,-44.5766\"/>\n",
       "<polygon fill=\"#000000\" stroke=\"#000000\" points=\"5643.0648,-46.3456 5645.3647,-36.0034 5637.1173,-42.654 5643.0648,-46.3456\"/>\n",
       "<text text-anchor=\"middle\" x=\"5644.5392\" y=\"-57.8\" font-family=\"Times,serif\" font-size=\"14.00\" fill=\"#000000\">Yes</text>\n",
       "</g>\n",
       "<!-- 107 -->\n",
       "<g id=\"node108\" class=\"node\">\n",
       "<title>107</title>\n",
       "<polygon fill=\"none\" stroke=\"#ff0000\" points=\"5870.5392,-36 5790.5392,-36 5790.5392,0 5870.5392,0 5870.5392,-36\"/>\n",
       "<text text-anchor=\"middle\" x=\"5830.5392\" y=\"-14.3\" font-family=\"Times,serif\" font-size=\"14.00\" fill=\"#000000\">val = 0.000</text>\n",
       "</g>\n",
       "<!-- 53&#45;&gt;107 -->\n",
       "<g id=\"edge107\" class=\"edge\">\n",
       "<title>53&#45;&gt;107</title>\n",
       "<path fill=\"none\" stroke=\"#000000\" d=\"M5856.7016,-86.9735C5852.1442,-74.9585 5846.0682,-58.9401 5840.9189,-45.3646\"/>\n",
       "<polygon fill=\"#000000\" stroke=\"#000000\" points=\"5844.1872,-44.112 5837.3681,-36.0034 5837.6422,-46.5947 5844.1872,-44.112\"/>\n",
       "<text text-anchor=\"middle\" x=\"5858.0392\" y=\"-57.8\" font-family=\"Times,serif\" font-size=\"14.00\" fill=\"#000000\">No</text>\n",
       "</g>\n",
       "<!-- 108 -->\n",
       "<g id=\"node109\" class=\"node\">\n",
       "<title>108</title>\n",
       "<polygon fill=\"none\" stroke=\"#ff0000\" points=\"5968.5392,-36 5888.5392,-36 5888.5392,0 5968.5392,0 5968.5392,-36\"/>\n",
       "<text text-anchor=\"middle\" x=\"5928.5392\" y=\"-14.3\" font-family=\"Times,serif\" font-size=\"14.00\" fill=\"#000000\">val = 0.000</text>\n",
       "</g>\n",
       "<!-- 53&#45;&gt;108 -->\n",
       "<g id=\"edge108\" class=\"edge\">\n",
       "<title>53&#45;&gt;108</title>\n",
       "<path fill=\"none\" stroke=\"#000000\" d=\"M5877.0073,-86.9735C5886.2455,-74.6085 5898.6515,-58.0036 5908.9759,-44.1847\"/>\n",
       "<polygon fill=\"#000000\" stroke=\"#000000\" points=\"5911.907,-46.1093 5915.0884,-36.0034 5906.2993,-41.9196 5911.907,-46.1093\"/>\n",
       "<text text-anchor=\"middle\" x=\"5911.5392\" y=\"-57.8\" font-family=\"Times,serif\" font-size=\"14.00\" fill=\"#000000\">Yes</text>\n",
       "</g>\n",
       "<!-- 109 -->\n",
       "<g id=\"node110\" class=\"node\">\n",
       "<title>109</title>\n",
       "<polygon fill=\"none\" stroke=\"#ff0000\" points=\"6098.5392,-36 6018.5392,-36 6018.5392,0 6098.5392,0 6098.5392,-36\"/>\n",
       "<text text-anchor=\"middle\" x=\"6058.5392\" y=\"-14.3\" font-family=\"Times,serif\" font-size=\"14.00\" fill=\"#000000\">val = 0.000</text>\n",
       "</g>\n",
       "<!-- 54&#45;&gt;109 -->\n",
       "<g id=\"edge109\" class=\"edge\">\n",
       "<title>54&#45;&gt;109</title>\n",
       "<path fill=\"none\" stroke=\"#000000\" d=\"M6110.864,-86.9735C6101.4836,-74.6085 6088.8868,-58.0036 6078.4035,-44.1847\"/>\n",
       "<polygon fill=\"#000000\" stroke=\"#000000\" points=\"6081.0293,-41.8549 6072.1969,-36.0034 6075.4524,-46.0857 6081.0293,-41.8549\"/>\n",
       "<text text-anchor=\"middle\" x=\"6104.0392\" y=\"-57.8\" font-family=\"Times,serif\" font-size=\"14.00\" fill=\"#000000\">No</text>\n",
       "</g>\n",
       "<!-- 110 -->\n",
       "<g id=\"node111\" class=\"node\">\n",
       "<title>110</title>\n",
       "<polygon fill=\"none\" stroke=\"#ff0000\" points=\"6196.5392,-36 6116.5392,-36 6116.5392,0 6196.5392,0 6196.5392,-36\"/>\n",
       "<text text-anchor=\"middle\" x=\"6156.5392\" y=\"-14.3\" font-family=\"Times,serif\" font-size=\"14.00\" fill=\"#000000\">val = 0.000</text>\n",
       "</g>\n",
       "<!-- 54&#45;&gt;110 -->\n",
       "<g id=\"edge110\" class=\"edge\">\n",
       "<title>54&#45;&gt;110</title>\n",
       "<path fill=\"none\" stroke=\"#000000\" d=\"M6131.1696,-86.9735C6135.5461,-75.0751 6141.3665,-59.2508 6146.3284,-45.7606\"/>\n",
       "<polygon fill=\"#000000\" stroke=\"#000000\" points=\"6149.75,-46.5969 6149.9173,-36.0034 6143.1803,-44.1804 6149.75,-46.5969\"/>\n",
       "<text text-anchor=\"middle\" x=\"6153.5392\" y=\"-57.8\" font-family=\"Times,serif\" font-size=\"14.00\" fill=\"#000000\">Yes</text>\n",
       "</g>\n",
       "<!-- 111 -->\n",
       "<g id=\"node112\" class=\"node\">\n",
       "<title>111</title>\n",
       "<polygon fill=\"none\" stroke=\"#ff0000\" points=\"6364.5392,-36 6284.5392,-36 6284.5392,0 6364.5392,0 6364.5392,-36\"/>\n",
       "<text text-anchor=\"middle\" x=\"6324.5392\" y=\"-14.3\" font-family=\"Times,serif\" font-size=\"14.00\" fill=\"#000000\">val = 0.000</text>\n",
       "</g>\n",
       "<!-- 55&#45;&gt;111 -->\n",
       "<g id=\"edge111\" class=\"edge\">\n",
       "<title>55&#45;&gt;111</title>\n",
       "<path fill=\"none\" stroke=\"#000000\" d=\"M6372.9,-86.9735C6364.312,-74.7252 6352.8071,-58.3165 6343.1734,-44.5766\"/>\n",
       "<polygon fill=\"#000000\" stroke=\"#000000\" points=\"6345.769,-42.1819 6337.1623,-36.0034 6340.0375,-46.2006 6345.769,-42.1819\"/>\n",
       "<text text-anchor=\"middle\" x=\"6368.0392\" y=\"-57.8\" font-family=\"Times,serif\" font-size=\"14.00\" fill=\"#000000\">No</text>\n",
       "</g>\n",
       "<!-- 112 -->\n",
       "<g id=\"node113\" class=\"node\">\n",
       "<title>112</title>\n",
       "<polygon fill=\"none\" stroke=\"#ff0000\" points=\"6462.5392,-36 6382.5392,-36 6382.5392,0 6462.5392,0 6462.5392,-36\"/>\n",
       "<text text-anchor=\"middle\" x=\"6422.5392\" y=\"-14.3\" font-family=\"Times,serif\" font-size=\"14.00\" fill=\"#000000\">val = 0.000</text>\n",
       "</g>\n",
       "<!-- 55&#45;&gt;112 -->\n",
       "<g id=\"edge112\" class=\"edge\">\n",
       "<title>55&#45;&gt;112</title>\n",
       "<path fill=\"none\" stroke=\"#000000\" d=\"M6393.2056,-86.9735C6398.3155,-74.9585 6405.1279,-58.9401 6410.9014,-45.3646\"/>\n",
       "<polygon fill=\"#000000\" stroke=\"#000000\" points=\"6414.1897,-46.5755 6414.8826,-36.0034 6407.7481,-43.8359 6414.1897,-46.5755\"/>\n",
       "<text text-anchor=\"middle\" x=\"6417.5392\" y=\"-57.8\" font-family=\"Times,serif\" font-size=\"14.00\" fill=\"#000000\">Yes</text>\n",
       "</g>\n",
       "<!-- 113 -->\n",
       "<g id=\"node114\" class=\"node\">\n",
       "<title>113</title>\n",
       "<polygon fill=\"none\" stroke=\"#ff0000\" points=\"6652.0392,-36 6559.0392,-36 6559.0392,0 6652.0392,0 6652.0392,-36\"/>\n",
       "<text text-anchor=\"middle\" x=\"6605.5392\" y=\"-14.3\" font-family=\"Times,serif\" font-size=\"14.00\" fill=\"#000000\">val = 261.580</text>\n",
       "</g>\n",
       "<!-- 56&#45;&gt;113 -->\n",
       "<g id=\"edge113\" class=\"edge\">\n",
       "<title>56&#45;&gt;113</title>\n",
       "<path fill=\"none\" stroke=\"#000000\" d=\"M6638.044,-86.9735C6632.3817,-74.9585 6624.8328,-58.9401 6618.4352,-45.3646\"/>\n",
       "<polygon fill=\"#000000\" stroke=\"#000000\" points=\"6621.4526,-43.5571 6614.0236,-36.0034 6615.1205,-46.5413 6621.4526,-43.5571\"/>\n",
       "<text text-anchor=\"middle\" x=\"6637.0392\" y=\"-57.8\" font-family=\"Times,serif\" font-size=\"14.00\" fill=\"#000000\">No</text>\n",
       "</g>\n",
       "<!-- 114 -->\n",
       "<g id=\"node115\" class=\"node\">\n",
       "<title>114</title>\n",
       "<polygon fill=\"none\" stroke=\"#ff0000\" points=\"6763.0392,-36 6670.0392,-36 6670.0392,0 6763.0392,0 6763.0392,-36\"/>\n",
       "<text text-anchor=\"middle\" x=\"6716.5392\" y=\"-14.3\" font-family=\"Times,serif\" font-size=\"14.00\" fill=\"#000000\">val = 722.356</text>\n",
       "</g>\n",
       "<!-- 56&#45;&gt;114 -->\n",
       "<g id=\"edge114\" class=\"edge\">\n",
       "<title>56&#45;&gt;114</title>\n",
       "<path fill=\"none\" stroke=\"#000000\" d=\"M6661.0433,-86.9735C6670.9921,-74.6085 6684.3524,-58.0036 6695.4711,-44.1847\"/>\n",
       "<polygon fill=\"#000000\" stroke=\"#000000\" points=\"6698.5119,-45.9886 6702.0538,-36.0034 6693.058,-41.6005 6698.5119,-45.9886\"/>\n",
       "<text text-anchor=\"middle\" x=\"6697.5392\" y=\"-57.8\" font-family=\"Times,serif\" font-size=\"14.00\" fill=\"#000000\">Yes</text>\n",
       "</g>\n",
       "<!-- 115 -->\n",
       "<g id=\"node116\" class=\"node\">\n",
       "<title>115</title>\n",
       "<polygon fill=\"none\" stroke=\"#ff0000\" points=\"6890.5392,-36 6810.5392,-36 6810.5392,0 6890.5392,0 6890.5392,-36\"/>\n",
       "<text text-anchor=\"middle\" x=\"6850.5392\" y=\"-14.3\" font-family=\"Times,serif\" font-size=\"14.00\" fill=\"#000000\">val = 0.000</text>\n",
       "</g>\n",
       "<!-- 57&#45;&gt;115 -->\n",
       "<g id=\"edge115\" class=\"edge\">\n",
       "<title>57&#45;&gt;115</title>\n",
       "<path fill=\"none\" stroke=\"#000000\" d=\"M6895.7288,-86.9735C6887.704,-74.7252 6876.9535,-58.3165 6867.9514,-44.5766\"/>\n",
       "<polygon fill=\"#000000\" stroke=\"#000000\" points=\"6870.7424,-42.4499 6862.3345,-36.0034 6864.8872,-46.2861 6870.7424,-42.4499\"/>\n",
       "<text text-anchor=\"middle\" x=\"6891.0392\" y=\"-57.8\" font-family=\"Times,serif\" font-size=\"14.00\" fill=\"#000000\">No</text>\n",
       "</g>\n",
       "<!-- 116 -->\n",
       "<g id=\"node117\" class=\"node\">\n",
       "<title>116</title>\n",
       "<polygon fill=\"none\" stroke=\"#ff0000\" points=\"6988.5392,-36 6908.5392,-36 6908.5392,0 6988.5392,0 6988.5392,-36\"/>\n",
       "<text text-anchor=\"middle\" x=\"6948.5392\" y=\"-14.3\" font-family=\"Times,serif\" font-size=\"14.00\" fill=\"#000000\">val = 0.000</text>\n",
       "</g>\n",
       "<!-- 57&#45;&gt;116 -->\n",
       "<g id=\"edge116\" class=\"edge\">\n",
       "<title>57&#45;&gt;116</title>\n",
       "<path fill=\"none\" stroke=\"#000000\" d=\"M6916.0344,-86.9735C6921.6967,-74.9585 6929.2456,-58.9401 6935.6433,-45.3646\"/>\n",
       "<polygon fill=\"#000000\" stroke=\"#000000\" points=\"6938.9579,-46.5413 6940.0549,-36.0034 6932.6258,-43.5571 6938.9579,-46.5413\"/>\n",
       "<text text-anchor=\"middle\" x=\"6941.5392\" y=\"-57.8\" font-family=\"Times,serif\" font-size=\"14.00\" fill=\"#000000\">Yes</text>\n",
       "</g>\n",
       "<!-- 117 -->\n",
       "<g id=\"node118\" class=\"node\">\n",
       "<title>117</title>\n",
       "<polygon fill=\"none\" stroke=\"#ff0000\" points=\"7155.5392,-36 7075.5392,-36 7075.5392,0 7155.5392,0 7155.5392,-36\"/>\n",
       "<text text-anchor=\"middle\" x=\"7115.5392\" y=\"-14.3\" font-family=\"Times,serif\" font-size=\"14.00\" fill=\"#000000\">val = 0.000</text>\n",
       "</g>\n",
       "<!-- 58&#45;&gt;117 -->\n",
       "<g id=\"edge117\" class=\"edge\">\n",
       "<title>58&#45;&gt;117</title>\n",
       "<path fill=\"none\" stroke=\"#000000\" d=\"M7157.5576,-86.9735C7150.0959,-74.7252 7140.0998,-58.3165 7131.7295,-44.5766\"/>\n",
       "<polygon fill=\"#000000\" stroke=\"#000000\" points=\"7134.6984,-42.7225 7126.5068,-36.0034 7128.7204,-46.3644 7134.6984,-42.7225\"/>\n",
       "<text text-anchor=\"middle\" x=\"7154.0392\" y=\"-57.8\" font-family=\"Times,serif\" font-size=\"14.00\" fill=\"#000000\">No</text>\n",
       "</g>\n",
       "<!-- 118 -->\n",
       "<g id=\"node119\" class=\"node\">\n",
       "<title>118</title>\n",
       "<polygon fill=\"none\" stroke=\"#ff0000\" points=\"7273.5392,-36 7173.5392,-36 7173.5392,0 7273.5392,0 7273.5392,-36\"/>\n",
       "<text text-anchor=\"middle\" x=\"7223.5392\" y=\"-14.3\" font-family=\"Times,serif\" font-size=\"14.00\" fill=\"#000000\">val = 1920.056</text>\n",
       "</g>\n",
       "<!-- 58&#45;&gt;118 -->\n",
       "<g id=\"edge118\" class=\"edge\">\n",
       "<title>58&#45;&gt;118</title>\n",
       "<path fill=\"none\" stroke=\"#000000\" d=\"M7179.9353,-86.9735C7187.6785,-74.7252 7198.0518,-58.3165 7206.7379,-44.5766\"/>\n",
       "<polygon fill=\"#000000\" stroke=\"#000000\" points=\"7209.7726,-46.3262 7212.1578,-36.0034 7203.8557,-42.5857 7209.7726,-46.3262\"/>\n",
       "<text text-anchor=\"middle\" x=\"7210.5392\" y=\"-57.8\" font-family=\"Times,serif\" font-size=\"14.00\" fill=\"#000000\">Yes</text>\n",
       "</g>\n",
       "<!-- 119 -->\n",
       "<g id=\"node120\" class=\"node\">\n",
       "<title>119</title>\n",
       "<polygon fill=\"none\" stroke=\"#ff0000\" points=\"7416.5392,-36 7336.5392,-36 7336.5392,0 7416.5392,0 7416.5392,-36\"/>\n",
       "<text text-anchor=\"middle\" x=\"7376.5392\" y=\"-14.3\" font-family=\"Times,serif\" font-size=\"14.00\" fill=\"#000000\">val = 0.000</text>\n",
       "</g>\n",
       "<!-- 59&#45;&gt;119 -->\n",
       "<g id=\"edge119\" class=\"edge\">\n",
       "<title>59&#45;&gt;119</title>\n",
       "<path fill=\"none\" stroke=\"#000000\" d=\"M7418.5576,-86.9735C7411.0959,-74.7252 7401.0998,-58.3165 7392.7295,-44.5766\"/>\n",
       "<polygon fill=\"#000000\" stroke=\"#000000\" points=\"7395.6984,-42.7225 7387.5068,-36.0034 7389.7204,-46.3644 7395.6984,-42.7225\"/>\n",
       "<text text-anchor=\"middle\" x=\"7415.0392\" y=\"-57.8\" font-family=\"Times,serif\" font-size=\"14.00\" fill=\"#000000\">No</text>\n",
       "</g>\n",
       "<!-- 120 -->\n",
       "<g id=\"node121\" class=\"node\">\n",
       "<title>120</title>\n",
       "<polygon fill=\"none\" stroke=\"#ff0000\" points=\"7514.5392,-36 7434.5392,-36 7434.5392,0 7514.5392,0 7514.5392,-36\"/>\n",
       "<text text-anchor=\"middle\" x=\"7474.5392\" y=\"-14.3\" font-family=\"Times,serif\" font-size=\"14.00\" fill=\"#000000\">val = 0.000</text>\n",
       "</g>\n",
       "<!-- 59&#45;&gt;120 -->\n",
       "<g id=\"edge120\" class=\"edge\">\n",
       "<title>59&#45;&gt;120</title>\n",
       "<path fill=\"none\" stroke=\"#000000\" d=\"M7438.8632,-86.9735C7445.1383,-74.8418 7453.5244,-58.6287 7460.5893,-44.9698\"/>\n",
       "<polygon fill=\"#000000\" stroke=\"#000000\" points=\"7463.7416,-46.4935 7465.2271,-36.0034 7457.5241,-43.2776 7463.7416,-46.4935\"/>\n",
       "<text text-anchor=\"middle\" x=\"7466.5392\" y=\"-57.8\" font-family=\"Times,serif\" font-size=\"14.00\" fill=\"#000000\">Yes</text>\n",
       "</g>\n",
       "<!-- 121 -->\n",
       "<g id=\"node122\" class=\"node\">\n",
       "<title>121</title>\n",
       "<polygon fill=\"none\" stroke=\"#ff0000\" points=\"7649.5392,-36 7549.5392,-36 7549.5392,0 7649.5392,0 7649.5392,-36\"/>\n",
       "<text text-anchor=\"middle\" x=\"7599.5392\" y=\"-14.3\" font-family=\"Times,serif\" font-size=\"14.00\" fill=\"#000000\">val = 1656.039</text>\n",
       "</g>\n",
       "<!-- 60&#45;&gt;121 -->\n",
       "<g id=\"edge121\" class=\"edge\">\n",
       "<title>60&#45;&gt;121</title>\n",
       "<path fill=\"none\" stroke=\"#000000\" d=\"M7671.684,-86.9735C7658.3844,-74.2586 7640.3954,-57.0603 7625.7077,-43.0183\"/>\n",
       "<polygon fill=\"#000000\" stroke=\"#000000\" points=\"7628.0171,-40.384 7618.3703,-36.0034 7623.1798,-45.4437 7628.0171,-40.384\"/>\n",
       "<text text-anchor=\"middle\" x=\"7659.0392\" y=\"-57.8\" font-family=\"Times,serif\" font-size=\"14.00\" fill=\"#000000\">No</text>\n",
       "</g>\n",
       "<!-- 122 -->\n",
       "<g id=\"node123\" class=\"node\">\n",
       "<title>122</title>\n",
       "<polygon fill=\"none\" stroke=\"#ff0000\" points=\"7767.5392,-36 7667.5392,-36 7667.5392,0 7767.5392,0 7767.5392,-36\"/>\n",
       "<text text-anchor=\"middle\" x=\"7717.5392\" y=\"-14.3\" font-family=\"Times,serif\" font-size=\"14.00\" fill=\"#000000\">val = 1667.828</text>\n",
       "</g>\n",
       "<!-- 60&#45;&gt;122 -->\n",
       "<g id=\"edge122\" class=\"edge\">\n",
       "<title>60&#45;&gt;122</title>\n",
       "<path fill=\"none\" stroke=\"#000000\" d=\"M7696.1336,-86.9735C7699.8262,-75.0751 7704.7373,-59.2508 7708.9238,-45.7606\"/>\n",
       "<polygon fill=\"#000000\" stroke=\"#000000\" points=\"7712.3306,-46.5914 7711.952,-36.0034 7705.6452,-44.5166 7712.3306,-46.5914\"/>\n",
       "<text text-anchor=\"middle\" x=\"7717.5392\" y=\"-57.8\" font-family=\"Times,serif\" font-size=\"14.00\" fill=\"#000000\">Yes</text>\n",
       "</g>\n",
       "<!-- 123 -->\n",
       "<g id=\"node124\" class=\"node\">\n",
       "<title>123</title>\n",
       "<polygon fill=\"none\" stroke=\"#ff0000\" points=\"7920.5392,-36 7840.5392,-36 7840.5392,0 7920.5392,0 7920.5392,-36\"/>\n",
       "<text text-anchor=\"middle\" x=\"7880.5392\" y=\"-14.3\" font-family=\"Times,serif\" font-size=\"14.00\" fill=\"#000000\">val = 0.000</text>\n",
       "</g>\n",
       "<!-- 61&#45;&gt;123 -->\n",
       "<g id=\"edge123\" class=\"edge\">\n",
       "<title>61&#45;&gt;123</title>\n",
       "<path fill=\"none\" stroke=\"#000000\" d=\"M7936.828,-86.9735C7926.6418,-74.4919 7912.9298,-57.6899 7901.5898,-43.7944\"/>\n",
       "<polygon fill=\"#000000\" stroke=\"#000000\" points=\"7904.266,-41.5379 7895.2316,-36.0034 7898.8427,-45.9638 7904.266,-41.5379\"/>\n",
       "<text text-anchor=\"middle\" x=\"7929.0392\" y=\"-57.8\" font-family=\"Times,serif\" font-size=\"14.00\" fill=\"#000000\">No</text>\n",
       "</g>\n",
       "<!-- 124 -->\n",
       "<g id=\"node125\" class=\"node\">\n",
       "<title>124</title>\n",
       "<polygon fill=\"none\" stroke=\"#ff0000\" points=\"8018.5392,-36 7938.5392,-36 7938.5392,0 8018.5392,0 8018.5392,-36\"/>\n",
       "<text text-anchor=\"middle\" x=\"7978.5392\" y=\"-14.3\" font-family=\"Times,serif\" font-size=\"14.00\" fill=\"#000000\">val = 0.000</text>\n",
       "</g>\n",
       "<!-- 61&#45;&gt;124 -->\n",
       "<g id=\"edge124\" class=\"edge\">\n",
       "<title>61&#45;&gt;124</title>\n",
       "<path fill=\"none\" stroke=\"#000000\" d=\"M7957.1336,-86.9735C7960.8262,-75.0751 7965.7373,-59.2508 7969.9238,-45.7606\"/>\n",
       "<polygon fill=\"#000000\" stroke=\"#000000\" points=\"7973.3306,-46.5914 7972.952,-36.0034 7966.6452,-44.5166 7973.3306,-46.5914\"/>\n",
       "<text text-anchor=\"middle\" x=\"7978.5392\" y=\"-57.8\" font-family=\"Times,serif\" font-size=\"14.00\" fill=\"#000000\">Yes</text>\n",
       "</g>\n",
       "<!-- 125 -->\n",
       "<g id=\"node126\" class=\"node\">\n",
       "<title>125</title>\n",
       "<polygon fill=\"none\" stroke=\"#ff0000\" points=\"8198.5392,-36 8118.5392,-36 8118.5392,0 8198.5392,0 8198.5392,-36\"/>\n",
       "<text text-anchor=\"middle\" x=\"8158.5392\" y=\"-14.3\" font-family=\"Times,serif\" font-size=\"14.00\" fill=\"#000000\">val = 0.000</text>\n",
       "</g>\n",
       "<!-- 62&#45;&gt;125 -->\n",
       "<g id=\"edge125\" class=\"edge\">\n",
       "<title>62&#45;&gt;125</title>\n",
       "<path fill=\"none\" stroke=\"#000000\" d=\"M8201.3504,-86.9735C8193.7479,-74.7252 8183.5633,-58.3165 8175.035,-44.5766\"/>\n",
       "<polygon fill=\"#000000\" stroke=\"#000000\" points=\"8177.9611,-42.654 8169.7137,-36.0034 8172.0136,-46.3456 8177.9611,-42.654\"/>\n",
       "<text text-anchor=\"middle\" x=\"8198.0392\" y=\"-57.8\" font-family=\"Times,serif\" font-size=\"14.00\" fill=\"#000000\">No</text>\n",
       "</g>\n",
       "<!-- 126 -->\n",
       "<g id=\"node127\" class=\"node\">\n",
       "<title>126</title>\n",
       "<polygon fill=\"none\" stroke=\"#ff0000\" points=\"8316.5392,-36 8216.5392,-36 8216.5392,0 8316.5392,0 8316.5392,-36\"/>\n",
       "<text text-anchor=\"middle\" x=\"8266.5392\" y=\"-14.3\" font-family=\"Times,serif\" font-size=\"14.00\" fill=\"#000000\">val = 1846.599</text>\n",
       "</g>\n",
       "<!-- 62&#45;&gt;126 -->\n",
       "<g id=\"edge126\" class=\"edge\">\n",
       "<title>62&#45;&gt;126</title>\n",
       "<path fill=\"none\" stroke=\"#000000\" d=\"M8223.7281,-86.9735C8231.3305,-74.7252 8241.5152,-58.3165 8250.0434,-44.5766\"/>\n",
       "<polygon fill=\"#000000\" stroke=\"#000000\" points=\"8253.0648,-46.3456 8255.3647,-36.0034 8247.1173,-42.654 8253.0648,-46.3456\"/>\n",
       "<text text-anchor=\"middle\" x=\"8253.5392\" y=\"-57.8\" font-family=\"Times,serif\" font-size=\"14.00\" fill=\"#000000\">Yes</text>\n",
       "</g>\n",
       "</g>\n",
       "</svg>\n"
      ],
      "text/plain": [
       "<graphviz.graphs.Digraph at 0x7f613014e8d0>"
      ]
     },
     "execution_count": 202,
     "metadata": {},
     "output_type": "execute_result"
    }
   ],
   "source": [
    "model1.plot_tree(tree_idx=0, pool=pool1)"
   ]
  },
  {
   "cell_type": "code",
   "execution_count": 203,
   "metadata": {},
   "outputs": [
    {
     "name": "stdout",
     "output_type": "stream",
     "text": [
      "9989\n"
     ]
    }
   ],
   "source": [
    "tree_count = model1.tree_count_\n",
    "print(tree_count)"
   ]
  },
  {
   "cell_type": "code",
   "execution_count": 204,
   "metadata": {},
   "outputs": [
    {
     "name": "stdout",
     "output_type": "stream",
     "text": [
      "Feature importances: [23.82305034 24.43223075  6.5348236   2.88213226  4.40400336  6.8176621\n",
      "  3.72395443 27.38214316]\n",
      "Feature names: ['longitude' 'latitude' 'housing_median_age' 'total_rooms'\n",
      " 'total_bedrooms' 'population' 'households' 'median_income']\n"
     ]
    }
   ],
   "source": [
    "importances = model1.feature_importances_\n",
    "print('Feature importances:', np.array(importances))\n",
    "print('Feature names:', np.array(pool1.get_feature_names()))"
   ]
  },
  {
   "cell_type": "code",
   "execution_count": 207,
   "metadata": {},
   "outputs": [
    {
     "data": {
      "text/html": [
       "<div>\n",
       "<style scoped>\n",
       "    .dataframe tbody tr th:only-of-type {\n",
       "        vertical-align: middle;\n",
       "    }\n",
       "\n",
       "    .dataframe tbody tr th {\n",
       "        vertical-align: top;\n",
       "    }\n",
       "\n",
       "    .dataframe thead th {\n",
       "        text-align: right;\n",
       "    }\n",
       "</style>\n",
       "<table border=\"1\" class=\"dataframe\">\n",
       "  <thead>\n",
       "    <tr style=\"text-align: right;\">\n",
       "      <th></th>\n",
       "      <th>longitude</th>\n",
       "      <th>latitude</th>\n",
       "    </tr>\n",
       "  </thead>\n",
       "  <tbody>\n",
       "    <tr>\n",
       "      <th>0</th>\n",
       "      <td>-114.31</td>\n",
       "      <td>34.19</td>\n",
       "    </tr>\n",
       "    <tr>\n",
       "      <th>1</th>\n",
       "      <td>-114.47</td>\n",
       "      <td>34.40</td>\n",
       "    </tr>\n",
       "    <tr>\n",
       "      <th>2</th>\n",
       "      <td>-114.56</td>\n",
       "      <td>33.69</td>\n",
       "    </tr>\n",
       "    <tr>\n",
       "      <th>3</th>\n",
       "      <td>-114.57</td>\n",
       "      <td>33.64</td>\n",
       "    </tr>\n",
       "    <tr>\n",
       "      <th>4</th>\n",
       "      <td>-114.57</td>\n",
       "      <td>33.57</td>\n",
       "    </tr>\n",
       "  </tbody>\n",
       "</table>\n",
       "</div>"
      ],
      "text/plain": [
       "   longitude  latitude\n",
       "0    -114.31     34.19\n",
       "1    -114.47     34.40\n",
       "2    -114.56     33.69\n",
       "3    -114.57     33.64\n",
       "4    -114.57     33.57"
      ]
     },
     "execution_count": 207,
     "metadata": {},
     "output_type": "execute_result"
    }
   ],
   "source": [
    "df_train[['longitude', 'latitude']].head()"
   ]
  },
  {
   "cell_type": "code",
   "execution_count": 214,
   "metadata": {},
   "outputs": [
    {
     "data": {
      "text/plain": [
       "827"
      ]
     },
     "execution_count": 214,
     "metadata": {},
     "output_type": "execute_result"
    }
   ],
   "source": [
    "df_train['longitude'].unique().size"
   ]
  },
  {
   "cell_type": "code",
   "execution_count": 215,
   "metadata": {},
   "outputs": [
    {
     "data": {
      "text/plain": [
       "840"
      ]
     },
     "execution_count": 215,
     "metadata": {},
     "output_type": "execute_result"
    }
   ],
   "source": [
    "df_train['latitude'].unique().size"
   ]
  },
  {
   "cell_type": "code",
   "execution_count": 217,
   "metadata": {},
   "outputs": [
    {
     "data": {
      "text/plain": [
       "(17000, 8)"
      ]
     },
     "execution_count": 217,
     "metadata": {},
     "output_type": "execute_result"
    }
   ],
   "source": [
    "df_train.shape"
   ]
  },
  {
   "cell_type": "code",
   "execution_count": 218,
   "metadata": {},
   "outputs": [
    {
     "data": {
      "image/png": "[encoded data removed]",
      "text/plain": [
       "<Figure size 432x288 with 1 Axes>"
      ]
     },
     "metadata": {
      "needs_background": "light"
     },
     "output_type": "display_data"
    }
   ],
   "source": [
    "import matplotlib.pyplot as plt\n",
    "plt.scatter(df_train['longitude'], df_train['latitude'])\n",
    "plt.show()"
   ]
  },
  {
   "cell_type": "code",
   "execution_count": 220,
   "metadata": {},
   "outputs": [
    {
     "name": "stderr",
     "output_type": "stream",
     "text": [
      "Custom logger is already specified. Specify more than one logger at same time is not thread safe."
     ]
    },
    {
     "data": {
      "application/vnd.jupyter.widget-view+json": {
       "model_id": "3acc546c441249a3b3851706e3de18b4",
       "version_major": 2,
       "version_minor": 0
      },
      "text/plain": [
       "MetricVisualizer(layout=Layout(align_self='stretch', height='500px'))"
      ]
     },
     "metadata": {},
     "output_type": "display_data"
    }
   ],
   "source": [
    "model2 = CatBoostRegressor(\n",
    "    logging_level='Verbose',\n",
    "    loss_function='RMSE',\n",
    "    iterations=10000,\n",
    "    learning_rate=0.01,\n",
    "    l2_leaf_reg=3,\n",
    "    random_seed=42,\n",
    "    ignored_features=['longitude', 'latitude']\n",
    ")\n",
    "model2.fit(\n",
    "    df_train, df_train_target,\n",
    "    cat_features=categorical_features_indices,\n",
    "    eval_set=(df_test, df_test_target),\n",
    "    logging_level='Silent',\n",
    "    plot=True\n",
    ");"
   ]
  },
  {
   "cell_type": "code",
   "execution_count": 221,
   "metadata": {},
   "outputs": [
    {
     "data": {
      "text/plain": [
       "0.6695869284477278"
      ]
     },
     "execution_count": 221,
     "metadata": {},
     "output_type": "execute_result"
    }
   ],
   "source": [
    "model2.score(df_test, df_test_target)"
   ]
  },
  {
   "cell_type": "code",
   "execution_count": null,
   "metadata": {},
   "outputs": [],
   "source": []
  }
 ],
 "metadata": {
  "colab": {
   "name": "california_housing_catboost_test.ipynb",
   "provenance": []
  },
  "kernelspec": {
   "display_name": "Python 3",
   "language": "python",
   "name": "python3"
  },
  "language_info": {
   "codemirror_mode": {
    "name": "ipython",
    "version": 3
   },
   "file_extension": ".py",
   "mimetype": "text/x-python",
   "name": "python",
   "nbconvert_exporter": "python",
   "pygments_lexer": "ipython3",
   "version": "3.7.5"
  },
  "widgets": {
   "application/vnd.jupyter.widget-state+json": {
    "29ef13dae9af4621bf0d63d2f0778628": {
     "model_module": "catboost-widget",
     "model_module_version": "^1.0.0",
     "model_name": "CatboostWidgetModel",
     "state": {
      "_dom_classes": [],
      "_model_module": "catboost-widget",
      "_model_module_version": "^1.0.0",
      "_model_name": "CatboostWidgetModel",
      "_view_count": null,
      "_view_module": "catboost-widget",
      "_view_module_version": "^1.0.0",
      "_view_name": "CatboostWidgetView",
      "data": {
       "catboost_info": {
        "content": {
         "data": {
          "iterations": [
           {
            "iteration": 0,
            "learn": [
             8.025235104,
             0.05170588235
            ],
            "passed_time": 569.9289921,
            "remaining_time": 569359.0631
           },
           {
            "iteration": 1,
            "learn": [
             7.933133948,
             0.052
            ],
            "passed_time": 1045.180998,
            "remaining_time": 521545.3182
           },
           {
            "iteration": 2,
            "learn": [
             7.88054854,
             0.05217647059
            ],
            "passed_time": 1613.377189,
            "remaining_time": 536179.019
           },
           {
            "iteration": 3,
            "learn": [
             7.825248307,
             0.05288235294
            ],
            "passed_time": 2156.629099,
            "remaining_time": 537000.6456
           },
           {
            "iteration": 4,
            "learn": [
             7.777428957,
             0.05282352941
            ],
            "passed_time": 2710.977897,
            "remaining_time": 539484.6016
           }
          ],
          "meta": {
           "iteration_count": 1000,
           "launch_mode": "Train",
           "learn_metrics": [
            {
             "best_value": "Min",
             "name": "MultiClass"
            },
            {
             "best_value": "Max",
             "name": "Accuracy"
            }
           ],
           "learn_sets": [
            "learn"
           ],
           "name": "experiment",
           "parameters": "",
           "test_metrics": [],
           "test_sets": []
          }
         },
         "passed_iterations": 4,
         "total_iterations": 1000
        },
        "name": "catboost_info",
        "path": "catboost_info"
       }
      },
      "layout": "IPY_MODEL_e0f10d460ca0418b9107cdbcaaaa6fd7"
     }
    }
   }
  }
 },
 "nbformat": 4,
 "nbformat_minor": 4
}
